{
 "cells": [
  {
   "cell_type": "markdown",
   "metadata": {},
   "source": [
    "# Introduction\n",
    "\n",
    "So, you have somehow bumped into micropython, fallen in love with it in an instance, broken your piggy bank, and run off, head over heels, to order a pyboard. You have probably paid extra for the expedited shipping. Once the pyboard arrived, you became excited like a puppy with a bone. You played with the hardware, learnt how to access the accelerometer, switch, LEDs, and temperature sensor, and you successfully communicated with other devices via the I2C, SPI, USART, or CAN interfaces. You have plugged the board in a computer, and driven someone crazy by emulating a seemingly disoriented mouse on it. You have even tried to divide by zero, just to see if the chip would go up in flames (this was vicious, by the way), and noticed that the interpreter smartly prevented such things from happening. You have written your own python functions, even compiled them into frozen modules, and burnt the whole damn thing onto the microcontroller. Then you have toyed with the on-board assembler, because you hoped that you could gain some astronomical factors in speed. (But you couldn't.)\n",
    "\n",
    "And yet, after all this, you feel somewhat unsatisfied. You find that you want to access the periphery in a special way, or you need some fancy function that, when implemented in python itself, seems to consume too much RAM, and takes an eternity to execute, and assembly, with its limitations, is just far too awkward for it. Or perhaps, you are simply dead against making your code easily readable by writing everything in python, and you want to hide the magic, just for the heck of it. But you still want to retain the elegance of python. \n",
    "\n",
    "If, after thorough introspection and soul-searching, you have discovered these latter symptoms in yourself, you have two choices: either you despair, scrap your idea, and move on, or you learn how the heavy lifting behind the micropython facade is done, and spin your own functions, classes, and methods in C. As it turns out, it is not that hard, once you get the hang of it. The sole trick is to get the hang of it. And this is, where this document intends to play a role. \n",
    "\n",
    "On the following pages, I would like to show how new functionality can be added and exposed to the python interpreter. I will try to discuss all aspects of micropython in an approachable way. Each concept will be presented in an implementation, stripped to the bare minimum, that you can compile right away, and try yourself. (The code here has been tested against micropython v.1.11.) At the end of each chapter, I will list the discussed code in its entirety, and I also include a link the the source, so that copying and pasting does not involve copious amounts of work. Moreover, I include a small demonstration, so that we can actually see that our code works. The code, as well as the source of this document are also available under https://github.com/v923z/micropython-usermod. The simplest way of getting started is probably cloning the repository with \n",
    "\n",
    "```bash\n",
    "git clone https://github.com/v923z/micropython-usermod.git\n",
    "```\n",
    "\n",
    "As for the source: all that you see here originates from a single jupyter notebook. That's right, the documentation, the C source, the compilation, and the testing. You can find the notebook at https://github.com/v923z/micropython-usermod/blob/master/docs/micropython-usermod.ipynb. And should you wonder, everything is under the MIT licence. \n",
    "\n",
    "I start out with a very simple module and slowly build upon it. At the very end of the discussion, I will outline my version of a general-purpose math library, similar to numpy. In fact, it was when I was working on this math module that I realised that a decent programming guide to micropython is sorely missing, hence this document. Obviously, numpy is a gigantic library, and we are not going to implement all aspects of it. But we will be able to define efficiently stored arrays on which we can do vectorised computations, work with matrices, invert and contract them, fit polynomials to measurement data, and get the Fourier transform of an arbitrary sequence. I do hope that you find the agenda convincing enough!\n",
    "\n",
    "One last comment: I believe, all examples in this document could be implemented with little effort in python itself, and I am definitely not advocating the inclusion of such trivial cases in the firmware. I chose these examples on two grounds: First, they are all simple, almost primitive, but for this very reason, they demonstrate a single idea without distraction. Second, having a piece of parallel python code is useful insofar as it tells us what to expect, and it also encourages us to implement the C version such that it results in *pythonic* functions."
   ]
  },
  {
   "cell_type": "markdown",
   "metadata": {
    "heading_collapsed": true
   },
   "source": [
    "## Code blocks\n",
    "\n",
    "You'll encounter various kinds of code blocks in this document. These have various scopes, which are listed here: \n",
    "\n",
    "* if a code block begins with an exclamation mark, the content is meant to be executed on the command line. \n",
    "* if the code block looks like a piece of python code, it should be run in a python interpreter. \n",
    "* if the heading of the code block is `%%micropython`, then, well, you guessed it right, the content should be passed to the micropython interpreter of your port of choice. \n",
    "\n",
    "* other code segments can be C code, or a makefile. These should be easy to recognise, because both of these have a header with a link to the location of the file. "
   ]
  },
  {
   "cell_type": "markdown",
   "metadata": {},
   "source": [
    "# Setting up the jupyter environment\n",
    "\n",
    "You can definitely skip the next two subsections, if you don't care about things related to ipython/jupyter.\n",
    "\n",
    "## General remarks\n",
    "\n",
    "I have written this document entirely as an jupyter notebook. There are several reasons for this. First, the prompt visual feedback on markdown text, and python/C code (highlighting and code folding). Second, for demonstration purposes, I did need to run python code either on the local machine, or on the unix/stm32 port of micropython, and it was simply natural to do that via jupyter. Third, and perhaps most importantly, by using a notebook, I could work from a single location: the documentation, the C source with its compilation, and the tests (either on the unix port, or on the pyboard) are all in a single container. It is impossible to overstate the advantages of this. "
   ]
  },
  {
   "cell_type": "markdown",
   "metadata": {},
   "source": [
    "### micropython magic\n",
    "\n",
    "To make the usage a bit more convenient, we will just register a magic method here to run micropython directly from the notebook. If you don't know what ipython magics are, you can read more at https://ipython.readthedocs.io/en/stable/interactive/magics.html. In any case, we are going to take the contents of a code cell, and pass it to micropython, either on the local machine (unix port), or the bare metal hardware (e.g. the pyboard) as a script. \n",
    "\n",
    "Note that adding the magic commands makes the python code a wee bit ugly: when running (micro)python with a script file, we won't have so much output as in the interactive console. In fact, except for tracebacks and the results of explicit `print` statements, we won't see anything at all. For this reason, we will have to call `print`, whenever we would like to import the results into the notebook. But what the heck! I can definitely put up with that much. "
   ]
  },
  {
   "cell_type": "code",
   "execution_count": 1,
   "metadata": {
    "ExecuteTime": {
     "end_time": "2020-01-09T05:49:15.840222Z",
     "start_time": "2020-01-09T05:49:15.835074Z"
    }
   },
   "outputs": [
    {
     "name": "stdout",
     "output_type": "stream",
     "text": [
      "/home/v923z/sandbox/micropython/v1.11/micropython/ports/unix\n"
     ]
    }
   ],
   "source": [
    "%cd ../../micropython/ports/unix"
   ]
  },
  {
   "cell_type": "code",
   "execution_count": 2,
   "metadata": {
    "ExecuteTime": {
     "end_time": "2020-01-09T05:49:17.837861Z",
     "start_time": "2020-01-09T05:49:17.833054Z"
    }
   },
   "outputs": [],
   "source": [
    "from IPython.core.magic import Magics, magics_class, line_cell_magic\n",
    "from IPython.core.magic import cell_magic, register_cell_magic, register_line_magic\n",
    "import subprocess\n",
    "import os"
   ]
  },
  {
   "cell_type": "markdown",
   "metadata": {},
   "source": [
    "Note: if you are trying to run the notebook on windows, you will have to change the destination file accordingly. I chose `/dev/shm/`, so that I won't have to clean up the mess at the end of the session, but any other place should do. "
   ]
  },
  {
   "cell_type": "code",
   "execution_count": 3,
   "metadata": {
    "ExecuteTime": {
     "end_time": "2020-01-09T05:49:19.982006Z",
     "start_time": "2020-01-09T05:49:19.975567Z"
    }
   },
   "outputs": [],
   "source": [
    "@register_cell_magic\n",
    "def micropython(line, cell):\n",
    "    with open('/dev/shm/micropython.py', 'w') as fout:\n",
    "        fout.write(cell)\n",
    "    proc = subprocess.Popen([\"./micropython\", \"/dev/shm/micropython.py\"], \n",
    "                            stdout=subprocess.PIPE, stderr=subprocess.PIPE)\n",
    "    print(proc.stdout.read().decode(\"utf-8\"))\n",
    "    print(proc.stderr.read().decode(\"utf-8\"))\n",
    "    return None"
   ]
  },
  {
   "cell_type": "markdown",
   "metadata": {},
   "source": [
    "Once we have the cell magic, we can run arbitrary micropython commands from the notebook. We should only keep in mind that the header of the cell, the line beginning with `%%micropython`, is not part of the code that is running. "
   ]
  },
  {
   "cell_type": "markdown",
   "metadata": {},
   "source": [
    "### C and makefile magic\n",
    "\n",
    "Since we will have C code all over the place, we need at least two more magic functions. The first one takes care of the C highlighting, and saving of the content of a cell. The cell will be saved to the location given in the header. The second magic command generates the required makefile. "
   ]
  },
  {
   "cell_type": "markdown",
   "metadata": {},
   "source": [
    "The following function does nothing outside the notebook: it simply registers a new mode for syntax highlighting, and switches to C, whenever the cell begins with the string `%%ccode`, or `%%makefile`."
   ]
  },
  {
   "cell_type": "code",
   "execution_count": 4,
   "metadata": {
    "ExecuteTime": {
     "end_time": "2020-01-09T05:49:23.915746Z",
     "start_time": "2020-01-09T05:49:23.906495Z"
    }
   },
   "outputs": [
    {
     "data": {
      "application/javascript": [
       "\n",
       "IPython.CodeCell.options_default.highlight_modes['magic_text/x-csrc'] = {'reg':[/^%%ccode/]};\n",
       "IPython.notebook.events.one('kernel_ready.Kernel', function(){\n",
       "    IPython.notebook.get_cells().map(function(cell){\n",
       "        if (cell.cell_type == 'code'){ cell.auto_highlight(); } }) ;\n",
       "});\n"
      ]
     },
     "metadata": {},
     "output_type": "display_data"
    },
    {
     "data": {
      "application/javascript": [
       "\n",
       "    (function () {\n",
       "        var defaults = IPython.CodeCell.config_defaults || IPython.CodeCell.options_default;\n",
       "        defaults.highlight_modes['magic_text/x-csrc'] = {'reg':[/^\\s*%%makefile/]};\n",
       "    })();\n",
       "    "
      ]
     },
     "metadata": {},
     "output_type": "display_data"
    }
   ],
   "source": [
    "import IPython\n",
    "\n",
    "js = \"\"\"\n",
    "IPython.CodeCell.options_default.highlight_modes['magic_text/x-csrc'] = {'reg':[/^%%ccode/]};\n",
    "IPython.notebook.events.one('kernel_ready.Kernel', function(){\n",
    "    IPython.notebook.get_cells().map(function(cell){\n",
    "        if (cell.cell_type == 'code'){ cell.auto_highlight(); } }) ;\n",
    "});\n",
    "\"\"\"\n",
    "IPython.core.display.display_javascript(js, raw=True)\n",
    "\n",
    "js = \"\"\"\n",
    "    (function () {\n",
    "        var defaults = IPython.CodeCell.config_defaults || IPython.CodeCell.options_default;\n",
    "        defaults.highlight_modes['magic_text/x-csrc'] = {'reg':[/^\\\\s*%%makefile/]};\n",
    "    })();\n",
    "    \"\"\"\n",
    "IPython.core.display.display_javascript(js, raw=True)"
   ]
  },
  {
   "cell_type": "markdown",
   "metadata": {},
   "source": [
    "And finally, at long last, here are the two magic commands. `%makefile` is simple: each `micropython.mk` makefile is the same, with the exception of the file name that it is supposed to compile. So, we can take a very generic string, and insert the target. In order to have some trace in the notebook, we also insert the content of the so-generated file into the input field of the cell. \n",
    "\n",
    "`%%ccode` reads the contents of the input field of the cell, adds a small header, and writes everything into a file. "
   ]
  },
  {
   "cell_type": "code",
   "execution_count": 5,
   "metadata": {
    "ExecuteTime": {
     "end_time": "2020-01-09T05:49:28.949651Z",
     "start_time": "2020-01-09T05:49:28.935663Z"
    }
   },
   "outputs": [],
   "source": [
    "@magics_class\n",
    "class MyMagics(Magics):\n",
    "\n",
    "    @line_cell_magic\n",
    "    def makefile(self, line, cell=None):\n",
    "        raw_cell = \"USERMODULES_DIR := $(USERMOD_DIR)\\n\\n# Add all C files to SRC_USERMOD\"\n",
    "        for _line in cell.split():\n",
    "            raw_cell += \"\\nSRC_USERMOD += $(USERMODULES_DIR)/\" + _line\n",
    "            \n",
    "        raw_cell += \"\\n\\nCFLAGS_USERMOD += -I$(USERMODULES_DIR)\"\n",
    "        with open('../../../usermod/snippets'+line.replace(line.split('/')[-1], 'micropython.mk'), 'w') as mout:\n",
    "            mout.write(raw_cell)\n",
    "        self.shell.set_next_input('%%makefile {}\\n\\n{}'.format(line, raw_cell), replace=True)\n",
    "        return None\n",
    "        \n",
    "    @cell_magic\n",
    "    def ccode(self, line, cell):\n",
    "        copyright = \"\"\"/*\n",
    " * This file is part of the micropython-usermod project, \n",
    " *\n",
    " * https://github.com/v923z/micropython-usermod\n",
    " *\n",
    " * The MIT License (MIT)\n",
    " *\n",
    " * Copyright (c) 2019-2020 Zoltán Vörös\n",
    "*/\n",
    "    \"\"\"\n",
    "        if line:\n",
    "            with open('../../../usermod/snippets'+line, 'w') as cout:\n",
    "                cout.write(copyright)\n",
    "                cout.write(cell)\n",
    "            print('written %d bytes to %s'%(len(copyright) + len(cell), line))\n",
    "            return None\n",
    "\n",
    "ip = get_ipython()\n",
    "ip.register_magics(MyMagics)"
   ]
  },
  {
   "cell_type": "markdown",
   "metadata": {},
   "source": [
    "Note: Since both `%makefile` and `%%ccode` have the very same argument, namely, the name of the C file, we could've combined the two functions. I decided to split them for the simple reason that by doing so, the listing of the makefile is explicit with a header. "
   ]
  },
  {
   "cell_type": "markdown",
   "metadata": {},
   "source": [
    "We are done with the notebook-related matters, and in position to devote ourselves to writing our first C module."
   ]
  },
  {
   "cell_type": "markdown",
   "metadata": {},
   "source": [
    "## Notebook conversion\n",
    "\n",
    "This is, where the notebook becomes somewhat *meta*: the following piece of code is really only for the conversion of the notebook to restructured text. We are converting this very notebook from within the notebook. You've got to admit that this is sort of cool!\n",
    "\n",
    "I used sphinx as the documentation generator, and this is, why I converted the notebook into a number of restructured text files, each containing a single chapter. These files can be found under \n",
    "https://github.com/v923z/micropython-usermod/tree/master/docs/source. "
   ]
  },
  {
   "cell_type": "code",
   "execution_count": 55,
   "metadata": {
    "ExecuteTime": {
     "end_time": "2020-01-09T18:01:06.562558Z",
     "start_time": "2020-01-09T18:01:03.026237Z"
    }
   },
   "outputs": [
    {
     "name": "stderr",
     "output_type": "stream",
     "text": [
      "/home/v923z/anaconda3/lib/python3.7/site-packages/nbconvert/filters/datatypefilter.py:41: UserWarning: Your element with mimetype(s) dict_keys(['application/javascript']) is not able to be represented.\n",
      "  mimetypes=output.keys())\n"
     ]
    }
   ],
   "source": [
    "import nbformat as nb\n",
    "import nbformat.v4.nbbase as nb4\n",
    "from nbconvert import RSTExporter\n",
    "\n",
    "def convert_notebook(node, fn):\n",
    "    (rst, resources) = rstexporter.from_notebook_node(notebook)\n",
    "    with open(fn, 'w') as fout:\n",
    "        fout.write(rst)\n",
    "        \n",
    "rstexporter = RSTExporter()\n",
    "rstexporter.template_file = '../../../usermod/docs/templates/rst.tpl'\n",
    "\n",
    "source = nb.read('../../../usermod/docs/micropython-usermod.ipynb',nb.NO_CONVERT)\n",
    "i = 0\n",
    "notebook = nb4.new_notebook()\n",
    "for j, cell in enumerate(source['cells']):\n",
    "    if cell['cell_type'] == 'markdown':\n",
    "        if cell['source'].split('\\n')[0].startswith('# '):\n",
    "            if i >= 1:\n",
    "                convert_notebook(notebook,'../../../usermod/docs/source/usermods_%02d.rst'%i)\n",
    "                notebook = nb4.new_notebook()\n",
    "            i += 1\n",
    "        notebook.cells.append(cell)\n",
    "    else:\n",
    "        notebook.cells.append(cell)\n",
    "convert_notebook(notebook,'../../../usermod/docs/source/usermods_%02d.rst'%i)"
   ]
  },
  {
   "cell_type": "markdown",
   "metadata": {},
   "source": [
    "## conf.py"
   ]
  },
  {
   "cell_type": "code",
   "execution_count": 56,
   "metadata": {
    "ExecuteTime": {
     "end_time": "2020-01-09T18:01:10.329480Z",
     "start_time": "2020-01-09T18:01:10.321015Z"
    }
   },
   "outputs": [
    {
     "name": "stdout",
     "output_type": "stream",
     "text": [
      "Overwriting ../../../usermod/docs/source/conf.py\n"
     ]
    }
   ],
   "source": [
    "%%writefile ../../../usermod/docs/source/conf.py\n",
    "\n",
    "# -- Project information -----------------------------------------------------\n",
    "\n",
    "project = 'micropython-usermod'\n",
    "copyright = '2019-2020, Zoltán Vörös'\n",
    "author = 'Zoltán Vörös'\n",
    "\n",
    "# The full version, including alpha/beta/rc tags\n",
    "release = '1.622'\n",
    "\n",
    "# -- General configuration ---------------------------------------------------\n",
    "\n",
    "extensions = [\n",
    "]\n",
    "\n",
    "# Add any paths that contain templates here, relative to this directory.\n",
    "templates_path = ['_templates']\n",
    "\n",
    "exclude_patterns = []\n",
    "\n",
    "html_theme = 'sphinx_rtd_theme'\n",
    "\n",
    "html_static_path = ['_static']\n",
    "\n",
    "master_doc = 'index'\n",
    "\n",
    "author=u'Zoltán Vörös'\n",
    "copyright=author\n",
    "language='en'\n",
    "\n",
    "latex_documents = [\n",
    "(master_doc, 'usermod.tex', 'Micropython usermod documentation', \n",
    "'Zoltán Vörös', 'manual'),\n",
    "]"
   ]
  },
  {
   "cell_type": "markdown",
   "metadata": {},
   "source": [
    "## Generating the documentation\n",
    "\n",
    "While the C code of all the modules, as well as the documentation itself is contained in this notebook, you don't actually need jupyter for the compilation of either the code, or the documentation. I will explain later, how the code is to be compiled. As for the documentation, you will need sphinx http://www.sphinx-doc.org/en/master/. Once that is installed, you simply have to run \n",
    "\n",
    "```bash\n",
    "sphinx-quickstart\n",
    "```\n",
    "answer the relevant questions, and overwrite `./source/conf.py` with https://github.com/v923z/micropython-usermod/blob/master/docs/source/conf.py. "
   ]
  },
  {
   "cell_type": "markdown",
   "metadata": {
    "ExecuteTime": {
     "end_time": "2019-08-30T17:48:39.314194Z",
     "start_time": "2019-08-30T17:48:39.193941Z"
    }
   },
   "source": [
    "We converted the notebook into a dozen restructured text files under `./source/`. In addition, you'll also need an `index.rst` file, which looks like this:"
   ]
  },
  {
   "cell_type": "code",
   "execution_count": 111,
   "metadata": {
    "ExecuteTime": {
     "end_time": "2019-09-04T05:12:22.276667Z",
     "start_time": "2019-09-04T05:12:22.032191Z"
    }
   },
   "outputs": [
    {
     "name": "stdout",
     "output_type": "stream",
     "text": [
      ".. micropython-usermod documentation master file, created by\r\n",
      "   sphinx-quickstart on Sat Aug 31 10:56:56 2019.\r\n",
      "   You can adapt this file completely to your liking, but it should at least\r\n",
      "   contain the root `toctree` directive.\r\n",
      "\r\n",
      "Welcome to micropython-usermod's documentation!\r\n",
      "===============================================\r\n",
      "\r\n",
      ".. toctree::\r\n",
      "   :maxdepth: 2\r\n",
      "   :caption: Content:\r\n",
      "\r\n",
      "   usermods_01\r\n",
      "   usermods_03\r\n",
      "   usermods_04\r\n",
      "   usermods_05\r\n",
      "   usermods_06\r\n",
      "   usermods_07\r\n",
      "   usermods_08\r\n",
      "   usermods_09\r\n",
      "   usermods_10\r\n",
      "   usermods_11\r\n",
      "   usermods_12\r\n",
      "   usermods_13\r\n",
      "\r\n",
      "Indices and tables\r\n",
      "==================\r\n",
      "\r\n",
      "* :ref:`genindex`\r\n",
      "* :ref:`modindex`\r\n",
      "* :ref:`search`\r\n"
     ]
    }
   ],
   "source": [
    "!head -100 ./source/index.rst"
   ]
  },
  {
   "cell_type": "markdown",
   "metadata": {
    "ExecuteTime": {
     "end_time": "2019-08-30T17:48:39.314194Z",
     "start_time": "2019-08-30T17:48:39.193941Z"
    }
   },
   "source": [
    "The documentation output can now be generated by calling \n",
    "\n",
    "```bash\n",
    "make html\n",
    "```\n",
    "or\n",
    "```bash\n",
    "make latexpdf\n",
    "``` \n",
    "\n",
    "on the command line."
   ]
  },
  {
   "cell_type": "markdown",
   "metadata": {},
   "source": [
    "# The micropython code base"
   ]
  },
  {
   "cell_type": "markdown",
   "metadata": {},
   "source": [
    "Since we are going to test our code mainly on the unix port, we set that as the current working directory."
   ]
  },
  {
   "cell_type": "code",
   "execution_count": 26,
   "metadata": {
    "ExecuteTime": {
     "end_time": "2020-01-01T21:45:23.251396Z",
     "start_time": "2020-01-01T21:45:23.230043Z"
    }
   },
   "outputs": [
    {
     "name": "stdout",
     "output_type": "stream",
     "text": [
      "/home/v923z/sandbox/micropython/v1.11/micropython/ports/unix\n"
     ]
    }
   ],
   "source": [
    "!cd ../../micropython/ports/unix/"
   ]
  },
  {
   "cell_type": "markdown",
   "metadata": {},
   "source": [
    "The micropython codebase itself is set up a rather modular way. Provided you cloned the micropython repository with "
   ]
  },
  {
   "cell_type": "code",
   "execution_count": null,
   "metadata": {},
   "outputs": [],
   "source": [
    "!git clone https://github.com/micropython/micropython.git "
   ]
  },
  {
   "cell_type": "markdown",
   "metadata": {},
   "source": [
    "onto your computer, and you look at the top-level directories, you will see something like this:"
   ]
  },
  {
   "cell_type": "code",
   "execution_count": 5,
   "metadata": {
    "ExecuteTime": {
     "end_time": "2019-08-02T04:51:31.104140Z",
     "start_time": "2019-08-02T04:51:30.896821Z"
    }
   },
   "outputs": [
    {
     "name": "stdout",
     "output_type": "stream",
     "text": [
      "ACKNOWLEDGEMENTS    docs      lib\t pic16bit   teensy   zephyr\r\n",
      "bare-arm\t    drivers   LICENSE\t py\t    tests\r\n",
      "cc3200\t\t    esp8266   logo\t qemu-arm   tools\r\n",
      "CODECONVENTIONS.md  examples  minimal\t README.md  unix\r\n",
      "CONTRIBUTING.md     extmod    mpy-cross  stmhal     windows\r\n"
     ]
    }
   ],
   "source": [
    "!ls ../../../micropython/"
   ]
  },
  {
   "cell_type": "markdown",
   "metadata": {},
   "source": [
    "Out of all the directoties, at least two are of particular interest. Namely, `/py/`, where the python interpreter is implemented, and `/ports/`, which contains the hardware-specific files. All questions pertaining to programming micropython in C can be answered by browsing these two directories, and perusing the relevant files therein. "
   ]
  },
  {
   "cell_type": "markdown",
   "metadata": {},
   "source": [
    "## User modules in micropython\n",
    "\n",
    "Beginning with the 1.10 version of micropython, it became quite simple to add a user-defined C module to the firmware. You simply drop two or three files in an arbitrary directory, and pass two compiler flags to `make` like so:"
   ]
  },
  {
   "cell_type": "code",
   "execution_count": null,
   "metadata": {},
   "outputs": [],
   "source": [
    "!make USER_C_MODULES=../../../user_modules CFLAGS_EXTRA=-DMODULE_EXAMPLE_ENABLED=1 all"
   ]
  },
  {
   "cell_type": "markdown",
   "metadata": {},
   "source": [
    "Here, the `USER_C_MODULES` variable is the location (relative to the location of `make`) of your files, while `CFLAGS_EXTRA` defines the flag for your particular module. This is relevant, if you have many modules, but you want to include only some of them. \n",
    "\n",
    "Alternatively, you can set the module flags in `mpconfigport.h` (to be found in the port's root folder, for which you are compiling) as \n",
    "\n",
    "```make\n",
    "#define MODULE_SIMPLEFUNCTION_ENABLED (1)\n",
    "#define MODULE_SIMPLECLASS_ENABLED (1)\n",
    "#define MODULE_SPECIALCLASS_ENABLED (1)\n",
    "#define MODULE_KEYWORDFUNCTION_ENABLED (1)\n",
    "#define MODULE_CONSUMEITERABLE_ENABLED (1)\n",
    "#define MODULE_VECTOR_ENABLED (1)\n",
    "#define MODULE_RETURNITERABLE_ENABLED (1)\n",
    "#define MODULE_PROFILING_ENABLED (1)\n",
    "#define MODULE_MAKEITERABLE_ENABLED (1)\n",
    "#define MODULE_SUBSCRIPTITERABLE_ENABLED (1)\n",
    "#define MODULE_SLICEITERABLE_ENABLED (1)\n",
    "#define MODULE_VARARG_ENABLED (1)\n",
    "#define MODULE_STRINGARG_ENABLED (1)\n",
    "```\n",
    "and then call `make` without the `CFLAGS_EXTRA` flag:"
   ]
  },
  {
   "cell_type": "code",
   "execution_count": null,
   "metadata": {},
   "outputs": [],
   "source": [
    "!make USER_C_MODULES=../../../user_modules all"
   ]
  },
  {
   "cell_type": "markdown",
   "metadata": {},
   "source": [
    "This separation of the user code from the micropython code base is definitely a  convenience, because it is much easier to keep track of changes, and also because you can't possibly screw up micropython itself: you can also go back to a working piece of firmware by dropping the `USER_C_MODULES` argument of `make`."
   ]
  },
  {
   "cell_type": "markdown",
   "metadata": {},
   "source": [
    "# micropython internals\n",
    "\n",
    "Before exploring the exciting problem of micropython function implementation in C, we should first understand how python objects are stored and treated at the firmware level. \n",
    "\n",
    "## Object representation\n",
    "\n",
    "Whenever you write \n",
    "\n",
    "```python\n",
    ">>> a = 1\n",
    ">>> b = 2\n",
    ">>> a + b\n",
    "```\n",
    "\n",
    "on the python console, first the two new variables, `a`, and `b` are created and a reference to them is stored in memory. Then the value of 1, and 2, respectively, will be associated with these variables. In the last line, when the sum is to be computed, the interpreter somehow has to figure out, how to decipher the values stored in `a`, and `b`: in the RAM, these two variables are just bytes, but depending on the type of the variable, different meanings will be associated with these bytes. Since the type cannot be known at compile time, there must be a mechanism for keeping stock of this extra piece of information. This is, where `mp_obj_t`, defined in `obj.h`, takes centre stage. \n",
    "\n",
    "If you cast a cursory glance at any of the C functions that are exposed to the python interpreter, you will always see something like this\n",
    "\n",
    "```c\n",
    "mp_obj_t some_function(mp_obj_t some_variable, ...) {\n",
    "    // some_variable is converted to fundamental C types (bytes, ints, floats, pointers, structures, etc.)\n",
    "    ...\n",
    "}\n",
    "```\n",
    "Variables of type `mp_obj_t` are passed to the function, and the function returns the results as an object of type `mp_obj_t`. So, what is all this fuss this about? Basically, `mp_obj_t` is nothing but an 8-byte segment of the memory, where all concrete objects are encoded. There can be various object encodings. E.g., in the `A` encoding, integers are those objects, whose rightmost bit in this 8-byte representation is set to 1, and the value of the integer can then be retrieved by shifting these 8 bytes by one to the right, and then applying a mask. In the `B` encoding, the variable is an integer, if its value is 1, when ANDed with 3, and the value will be returned, if we shift the 8 bytes by two to the right. "
   ]
  },
  {
   "cell_type": "markdown",
   "metadata": {},
   "source": [
    "## Type checking\n",
    "\n",
    "Fortunately, we do not have to be concerned with the representations and the shifts, because there are pre-defined macros for such operations. So, if we want to find out, whether `some_variable` is an integer, we can inspect the value of the Boolean \n",
    "\n",
    "```c\n",
    "MP_OBJ_IS_SMALL_INT(some_variable)\n",
    "```\n",
    "\n",
    "The integer value stored in `some_variable` can then be gotten by calling `MP_OBJ_SMALL_INT_VALUE`: \n",
    "\n",
    "```c\n",
    "int value_of_some_variable = MP_OBJ_SMALL_INT_VALUE(some_variable);\n",
    "```\n",
    "\n",
    "These decoding steps take place somewhere in the body of `some_function`, before we start working with native C types. Once we are done with the calculations, we have to return an `mp_obj_t`, so that the interpreter can handle the results (e.g., show it on the console, or pipe it to the next instruction). In this case, the encoding is done by calling \n",
    "\n",
    "```c\n",
    "mp_obj_new_int(value_of_some_variable)\n",
    "\n",
    "```\n",
    "\n",
    "More generic types can be treated with the macro `mp_obj_is_type`, which takes the object as the first, and a pointer to the type as the second argument. Now, if you want to find out, whether `some_variable` is a tuple, you could apply the `mp_obj_is_type` macro, \n",
    "\n",
    "```c\n",
    "mp_obj_is_type(some_variable, &mp_type_tuple)\n",
    "```\n",
    "\n",
    "While the available types can be found in `obj.h`, they all follow the `mp_type_` + python type pattern, so in most cases, it is not even necessary to look them up. We should also note that it is also possible to define new types. When done properly, `mp_obj_is_type` can be called on objects with this new type, i.e., \n",
    "\n",
    "```c\n",
    "mp_obj_is_type(myobject, &my_type)\n",
    "```\n",
    "\n",
    "will just work. We return to this question later. \n",
    "\n",
    "## python constants\n",
    "\n",
    "At this point, we should mention that python constants,`True` (in C `mp_const_true`), `False` (in C `mp_const_false`), `None` (in C `mp_const_none`) and the like are also defined in `obj.h`. These are objects of type `mp_obj_t`, as almost anything else, so you can return them from a function, when the function is meant to return directly to the interpreter."
   ]
  },
  {
   "cell_type": "markdown",
   "metadata": {},
   "source": [
    "# Developing your first module\n",
    "\n",
    "Having seen, what the python objects look like to the interpreter, we can start with our explorations in earnest. We begin by adding a simple module to micropython. The module will have a single function that takes two numbers, and adds them. I know that this is the most exciting thing since sliced bread, and you have always wondered, why there isn't a built-in python function for such a fascinating task. Well, wonder no more! From this moment, *your* micropython will have one. \n",
    "\n",
    "First I show the file in its entirety (20 something lines all in all), and then discuss the parts."
   ]
  },
  {
   "cell_type": "code",
   "execution_count": 6,
   "metadata": {
    "ExecuteTime": {
     "end_time": "2019-08-05T04:51:51.207588Z",
     "start_time": "2019-08-05T04:51:51.089390Z"
    }
   },
   "outputs": [
    {
     "name": "stdout",
     "output_type": "stream",
     "text": [
      "written 1090 bytes to /simplefunction/simplefunction.c\n"
     ]
    }
   ],
   "source": [
    "%%ccode /simplefunction/simplefunction.c\n",
    "\n",
    "#include \"py/obj.h\"\n",
    "#include \"py/runtime.h\"\n",
    "\n",
    "STATIC mp_obj_t simplefunction_add_ints(mp_obj_t a_obj, mp_obj_t b_obj) {\n",
    "    int a = mp_obj_get_int(a_obj);\n",
    "    int b = mp_obj_get_int(b_obj);\n",
    "    return mp_obj_new_int(a + b);\n",
    "}\n",
    "\n",
    "STATIC MP_DEFINE_CONST_FUN_OBJ_2(simplefunction_add_ints_obj, simplefunction_add_ints);\n",
    "\n",
    "STATIC const mp_rom_map_elem_t simplefunction_module_globals_table[] = {\n",
    "    { MP_ROM_QSTR(MP_QSTR___name__), MP_ROM_QSTR(MP_QSTR_simplefunction) },\n",
    "    { MP_ROM_QSTR(MP_QSTR_add_ints), MP_ROM_PTR(&simplefunction_add_ints_obj) },\n",
    "};\n",
    "STATIC MP_DEFINE_CONST_DICT(simplefunction_module_globals, simplefunction_module_globals_table);\n",
    "\n",
    "const mp_obj_module_t simplefunction_user_cmodule = {\n",
    "    .base = { &mp_type_module },\n",
    "    .globals = (mp_obj_dict_t*)&simplefunction_module_globals,\n",
    "};\n",
    "\n",
    "MP_REGISTER_MODULE(MP_QSTR_simplefunction, simplefunction_user_cmodule, MODULE_SIMPLEFUNCTION_ENABLED);"
   ]
  },
  {
   "cell_type": "markdown",
   "metadata": {},
   "source": [
    "## Header files\n",
    "\n",
    "A module will not be too useful without at least two includes: `py/obj.h`, where all the relevant constants and macros are defined, and `py/runtime.h`, which contains the declaration of the interpreter. Many a time you will also need `py/builtin.h`, where the python built-in functions and modules are declared."
   ]
  },
  {
   "cell_type": "markdown",
   "metadata": {},
   "source": [
    "## Defining user functions\n",
    "\n",
    "After including the necessary headers, we define the function that is going to do the heavy lifting. By passing variables of `mp_obj_t` type, we make sure that the function will be able to accept values from the python console. If you happen to have an internal helper function in your module that is not exposed in python, you can pass whatever type you need. Similarly, by returning an object of `mp_obj_t` type, we make the results visible to the interpreter, i.e., we can assign the value returned to variables. \n",
    "\n",
    "The downside of passing `mp_obj_t`s around is that you cannot simply assign them to usual C variables, i.e., when you want to operate on them, you have to extract the values first. This is why we have to invoke the `mp_obj_get_int()` function, and conversely, before returning the results, we have to do a type conversion to `mp_obj_t` by calling `mp_obj_new_int()`. These are the decoding/encoding steps that we discussed above."
   ]
  },
  {
   "cell_type": "markdown",
   "metadata": {},
   "source": [
    "### Referring to user functions\n",
    "\n",
    "We have now a function that should be sort of OK (there is no error checking whatsoever, so you are at the mercy of the firmware, when, e.g., you try to pass a float to the function), but the python interpreter still cannot work with. For that, we have to turn our function into a function object. This is what happens in the line\n",
    "\n",
    "```c\n",
    "STATIC MP_DEFINE_CONST_FUN_OBJ_2(simplefunction_add_ints_obj, simplefunction_add_ints);\n",
    "```\n",
    "\n",
    "The first argument of the macro is the name of the function object to which our actual function, the last argument, will be bound. Now, these `MP_DEFINE_CONST_FUN_OBJ_*` macros, defined in the header file `py/obj.h` (one more reason not to forget about `py/obj.h`), come in seven flavours, depending on what kind of, and how many arguments the function is supposed to take. In the example above, our function is meant to take two arguments, hence the 2 at the end of the macro name. Functions with 0 to 4 arguments can be bound in this way.\n",
    "\n",
    "But what, if you want a function with more than four arguments, as is the case many a time in python? Under such circumstances, one can make use of the \n",
    "\n",
    "```c\n",
    "STATIC MP_DEFINE_CONST_FUN_OBJ_VAR(obj_name, n_args_min, fun_name);\n",
    "```\n",
    "\n",
    "macro, where the second argument, an integer, gives the minimum number of arguments. The number of arguments can be bound from above by wrapping the function with \n",
    "\n",
    "```c\n",
    "STATIC MP_DEFINE_CONST_FUN_OBJ_VAR_BETWEEN(obj_name, n_args_min, n_args_max, fun_name);\n",
    "```\n",
    "\n",
    "Later we will see, how we can define functions that can also take keyword arguments."
   ]
  },
  {
   "cell_type": "markdown",
   "metadata": {},
   "source": [
    "At this point, we are more or less done with the C implementation of our function, but we still have to expose it. This we do by adding a table, an array of key/value pairs to the globals of our module, and bind the table to the `_module_globals` variable by applying the `MP_DEFINE_CONST_DICT` macro. This table should have at least one entry, the name of the module, which is going to be stored in the string `MP_QSTR___name__`. \n",
    "\n",
    "These `MP_QSTR_` items are the C representation of the python strings that come at the end of them. So, `MP_QSTR_foo_bar` in C will be turned into a name, `foo_bar`, in python. `foo_bar` can be a constant, a function, a class, a type, etc., and depending on what is associated with it, different things will happen on the console, when `foo_bar` is invoked. But the crucial point is that, if you want `foo_bar` to have any meaning in python, then somewhere in your C code, you have to define `MP_QSTR_foo_bar`. \n",
    "\n",
    "The second key-value pair of the table is the pointer to the function that we have just implemented, and the name that we want to call the functions in python itself. So, in the example below, our `simplefunction_add_ints` function will be invoked, when we call `add_ints` in the console.\n",
    "\n",
    "\n",
    "```c\n",
    "STATIC const mp_rom_map_elem_t simplefunction_module_globals_table[] = {\n",
    "    { MP_ROM_QSTR(MP_QSTR___name__), MP_ROM_QSTR(MP_QSTR_simplefunction) },\n",
    "    { MP_ROM_QSTR(MP_QSTR_add_ints), MP_ROM_PTR(&simplefunction_add_ints_obj) },\n",
    "};\n",
    "STATIC MP_DEFINE_CONST_DICT(simplefunction_module_globals, simplefunction_module_globals_table);\n",
    "```\n",
    "This three-step pattern is common to all function implementations, so I repeat it here: \n",
    "\n",
    "1. implement the function\n",
    "2. then turn it into a function object (i.e., call the relevant form of MP_DEFINE_CONST_FUN_OBJ_*)\n",
    "3. and finally, register the function in the name space of the module (i.e., add it to the module's globals table, and turn the table into a dictionary by applying MP_DEFINE_CONST_DICT)\n",
    "\n",
    "It doesn't matter, whether our function takes positional arguments, or keyword argument, or both, these are the required steps."
   ]
  },
  {
   "cell_type": "markdown",
   "metadata": {},
   "source": [
    "Having defined the function object, we have finally to register the module with \n",
    "\n",
    "```c\n",
    "MP_REGISTER_MODULE(MP_QSTR_simplefunction, simplefunction_user_cmodule, MODULE_SIMPLEFUNCTION_ENABLED);\n",
    "```\n",
    "\n",
    "This last line is particularly useful, because by setting the `MODULE_SIMPLEFUNCTION_ENABLED` variable in `mpconfigport.h`, you can selectively exclude modules from the linking, i.e., if in `mpconfigport.h`, which should be in the root directory of the port you want to compile for, \n",
    "\n",
    "```c\n",
    "#define MODULE_SIMPLEFUNCTION_ENABLED (1)\n",
    "```\n",
    "then `simplefunction` will be included in the firmware, while with\n",
    "\n",
    "```c\n",
    "#define MODULE_SIMPLEFUNCTION_ENABLED (0)\n",
    "```\n",
    "\n",
    "the module will be dropped, even though the source is in your modules folder. (N.B.: the module will still be compiled, but not linked.)"
   ]
  },
  {
   "cell_type": "markdown",
   "metadata": {},
   "source": [
    "## Compiling our module\n",
    "\n",
    "The implementation is done, and we would certainly like to see some results. First we generate a makefile, which will be inserted in the module's own directory, `simplefunction/`."
   ]
  },
  {
   "cell_type": "code",
   "execution_count": null,
   "metadata": {
    "ExecuteTime": {
     "end_time": "2020-01-06T06:57:51.698522Z",
     "start_time": "2020-01-06T06:57:51.695269Z"
    }
   },
   "outputs": [],
   "source": [
    "%%makefile /simplefunction/simplefunction.c\n",
    "\n",
    "USERMODULES_DIR := $(USERMOD_DIR)\n",
    "\n",
    "# Add all C files to SRC_USERMOD.\n",
    "SRC_USERMOD += $(USERMODULES_DIR)/simplefunction.c\n",
    "\n",
    "CFLAGS_USERMOD += -I$(USERMODULES_DIR)"
   ]
  },
  {
   "cell_type": "markdown",
   "metadata": {},
   "source": [
    "If `mpconfigport.h` is augmented with \n",
    "\n",
    "```make\n",
    "#define MODULE_SIMPLEFUNCTION_ENABLED (1)\n",
    "```\n",
    "\n",
    "you should be able to compile the module above by calling"
   ]
  },
  {
   "cell_type": "code",
   "execution_count": 10,
   "metadata": {
    "ExecuteTime": {
     "end_time": "2019-08-02T05:15:38.150723Z",
     "start_time": "2019-08-02T05:15:30.215787Z"
    }
   },
   "outputs": [],
   "source": [
    "!make clean\n",
    "!make USER_C_MODULES=../../../usermod/snippets all"
   ]
  },
  {
   "cell_type": "markdown",
   "metadata": {},
   "source": [
    "As mentioned earlier, if you do not want to touch anything in the micropython code base, you can simply pass the definition to make as "
   ]
  },
  {
   "cell_type": "code",
   "execution_count": null,
   "metadata": {},
   "outputs": [],
   "source": [
    "!make clean\n",
    "!make USER_C_MODULES=../../../usermod/snippets CFLAGS_EXTRA=-DMODULE_SIMPLEFUNCTION_ENABLED=1 all"
   ]
  },
  {
   "cell_type": "markdown",
   "metadata": {},
   "source": [
    "You will also note that we ran `make clean` before the compilation. This is always good practice, when you are developing your own modules. "
   ]
  },
  {
   "cell_type": "markdown",
   "metadata": {},
   "source": [
    "We can then test the module as"
   ]
  },
  {
   "cell_type": "code",
   "execution_count": 12,
   "metadata": {
    "ExecuteTime": {
     "end_time": "2019-08-02T05:16:43.473892Z",
     "start_time": "2019-08-02T05:16:43.451258Z"
    }
   },
   "outputs": [
    {
     "name": "stdout",
     "output_type": "stream",
     "text": [
      "579\n",
      "\n"
     ]
    }
   ],
   "source": [
    "%%micropython\n",
    "\n",
    "import simplefunction\n",
    "print(simplefunction.add_ints(123, 456))"
   ]
  },
  {
   "cell_type": "markdown",
   "metadata": {},
   "source": [
    "What a surprise! It works! It works!"
   ]
  },
  {
   "cell_type": "markdown",
   "metadata": {},
   "source": [
    "## Compiling for the microcontroller\n",
    "\n",
    "As pointed out at the very beginning, our first module was compiled for the unix port, and that it, why we set \n",
    "`../../micropython/ports/unix/` as our working directory. In case, we would like to compile for the microcontroller, we would have to modify the `mpconfigport.h` file of the port (e.g., in `micropython/ports/stm32/`) as shown in Section [User modules](#User-modules-in-micropython). \n",
    "\n",
    "Next, in the compilation command, one has to specify the target board, e.g., pyboard, version 1.1, and probably the path to the cross-compiler, if that could not be installed system-wide. You would issue the make command in the directory of the port, e.g., `micropython/ports/stm32/`, and the path in the `CROSS_COMPILE` argument must be either absolute, or given relative to `micropython/ports/stm32/`.\n",
    "\n",
    "```bash\n",
    "make BOARD=PYBV11 CROSS_COMPILE=<Path where you uncompressed the toolchain>/bin/arm-none-eabi-\n",
    "```\n",
    "\n",
    "You will find your firmware under `micropython/ports/stm32/build-PYBV11/firmware.dfu`, and you can upload it by issuing "
   ]
  },
  {
   "cell_type": "code",
   "execution_count": null,
   "metadata": {},
   "outputs": [],
   "source": [
    "!python ../../tools/pydfu.py -u build-PYBV11/firmware.dfu "
   ]
  },
  {
   "cell_type": "markdown",
   "metadata": {},
   "source": [
    "on the command line. More detailed explanation can be found under https://github.com/micropython/micropython/wiki/Pyboard-Firmware-Update."
   ]
  },
  {
   "cell_type": "markdown",
   "metadata": {},
   "source": [
    "# Module constants\n",
    "\n",
    "We have just seen, how we add a function to python. But functions are not the only objects that can be attached to a module, and of particular interest are constants. If for nothing else, you can give your module a version number. So, let us see, how that can be achieved. \n",
    "\n",
    "Contstants, if they are true to their name, won't change at run time, hence, they can be stored in ROM. We have already seen this, because the globals table of our very first module kicked out with the line\n",
    "\n",
    "```c\n",
    "    { MP_ROM_QSTR(MP_QSTR___name__), MP_ROM_QSTR(MP_QSTR_simplefunction) }\n",
    "```\n",
    "\n",
    "Here, the `MP_QSTR_simplefunction` was a constant, namely, the string `simplefunction` stored in ROM. This is why it is wrapped by the macro `MP_ROM_QSTR`. There are two other `MP_ROM` macros defined in `obj.h`, namely, `MP_ROM_INT`, and `MP_ROM_PTR`.\n",
    "\n",
    "## Integer constants\n",
    "\n",
    "It should not be a big surprise that the `MP_ROM_INT` macro generates ROM objects from integers. Thus, the following code will give you the magic constant 42:\n",
    "\n",
    "```c\n",
    "#define MAGIC_CONSTANT 42\n",
    "...\n",
    "\n",
    "    { MP_ROM_QSTR(MP_QSTR_magic), MP_ROM_INT(MAGIC_CONSTANT) },\n",
    "...\n",
    "```\n",
    "\n",
    "## Strings \n",
    "\n",
    "Now, in `MP_QSTR_simplefunction`, `simplefunction` is a well-behaved string, containing no special characters. But are we doomed, if we do want to print out a version string, which would probably look like `1.2.3`, or something similar? And should we give up all hope, if our string contains an underscore? The answer to these questions is no, and no! This is, where the `MP_ROM_PTR` macro comes to the rescue. \n",
    "\n",
    "In general, `MP_ROM_PTR` will take the address of an object, and convert it to a 32-bit unsigned integer. At run time, `micropython` works with this integer, if it has to access the constant. And this is exactly what happens in the second line of the globals table of `simplefunction`:\n",
    "\n",
    "```c\n",
    "{ MP_ROM_QSTR(MP_QSTR_add_ints), MP_ROM_PTR(&simplefunction_add_ints_obj) },\n",
    "```\n",
    "we associated the string `add_ints` (incidentally, also stored in ROM) with the 32-bit unsigned integer generated from the address of `simplefunction_add_ints_obj`. So, the bottom line is, if we can somehow get hold of the address of an object, we can wrap it with `MP_ROM_PTR`, and we are done.\n",
    "\n",
    "Thus, if we want to define a string constant, we have to convert it to something that has an address. The `MP_DEFINE_STR_OBJ` of `objstr.h` does exactly that:\n",
    "\n",
    "```c\n",
    "STATIC const MP_DEFINE_STR_OBJ(version_string_obj, \"1.2.3\");\n",
    "```\n",
    "takes `1.2.3` as a string, and turns is into a micropython object of type `mp_obj_str_t`. After this, `&version_string_obj` can be passed to the `MP_ROM_PTR` macro. \n",
    "\n",
    "## Tuples\n",
    "\n",
    "We don't have to be satisfied with integers and strings, we can definitely go further. There is a python type, the `tuple`, that is, by definition, constant (not mutable), and for this reason, we can easily define a tuple type module constant. `objtuple.h` defines `mp_rom_obj_tuple_t` for this purpose. This is a structure with three members, and looks like this:\n",
    "\n",
    "```c\n",
    "const mp_rom_obj_tuple_t version_tuple_obj = {\n",
    "    {&mp_type_tuple},\n",
    "    2,\n",
    "    {\n",
    "        MP_ROM_INT(1),\n",
    "        MP_ROM_PTR(&version_string_obj),\n",
    "    },\n",
    "};\n",
    "```\n",
    "The first member defines the base type of the object, the second is the number of elements of the tuple that we want to define, and the third is itself a structure, listing the tuple elements. The key point here is that we can apply the address-of operator to `version_tuple_obj`, and pass it to the `MP_ROM_PTR` macro."
   ]
  },
  {
   "cell_type": "code",
   "execution_count": 44,
   "metadata": {
    "ExecuteTime": {
     "end_time": "2020-01-09T06:28:21.539212Z",
     "start_time": "2020-01-09T06:28:21.535551Z"
    }
   },
   "outputs": [
    {
     "name": "stdout",
     "output_type": "stream",
     "text": [
      "written 1211 bytes to /constants/constants.c\n"
     ]
    }
   ],
   "source": [
    "%%ccode /constants/constants.c\n",
    "\n",
    "#include \"py/obj.h\"\n",
    "#include \"py/runtime.h\"\n",
    "#include \"py/objstr.h\"\n",
    "#include \"py/objtuple.h\"\n",
    "\n",
    "#define MAGIC_CONSTANT 42\n",
    "STATIC const MP_DEFINE_STR_OBJ(version_string_obj, \"1.2.3\");\n",
    "\n",
    "const mp_rom_obj_tuple_t version_tuple_obj = {\n",
    "    {&mp_type_tuple},\n",
    "    2,\n",
    "    {\n",
    "        MP_ROM_INT(1),\n",
    "        MP_ROM_PTR(&version_string_obj),\n",
    "    },\n",
    "};\n",
    "\n",
    "STATIC const mp_rom_map_elem_t constants_module_globals_table[] = {\n",
    "    { MP_ROM_QSTR(MP_QSTR___name__), MP_ROM_QSTR(MP_QSTR_constants) },\n",
    "    { MP_ROM_QSTR(MP_QSTR___version__), MP_ROM_PTR(&version_string_obj) },\n",
    "    { MP_ROM_QSTR(MP_QSTR_magic), MP_ROM_INT(MAGIC_CONSTANT) },\n",
    "    { MP_ROM_QSTR(MP_QSTR_version_tuple), MP_ROM_PTR(&version_tuple_obj) },    \n",
    "};\n",
    "STATIC MP_DEFINE_CONST_DICT(constants_module_globals, constants_module_globals_table);\n",
    "\n",
    "const mp_obj_module_t constants_user_cmodule = {\n",
    "    .base = { &mp_type_module },\n",
    "    .globals = (mp_obj_dict_t*)&constants_module_globals,\n",
    "};\n",
    "\n",
    "MP_REGISTER_MODULE(MP_QSTR_constants, constants_user_cmodule, MODULE_CONSTANTS_ENABLED);"
   ]
  },
  {
   "cell_type": "code",
   "execution_count": null,
   "metadata": {
    "ExecuteTime": {
     "end_time": "2020-01-06T06:57:33.499855Z",
     "start_time": "2020-01-06T06:57:33.492617Z"
    }
   },
   "outputs": [],
   "source": [
    "%%makefile /constants/constants.c\n",
    "\n",
    "USERMODULES_DIR := $(USERMOD_DIR)\n",
    "\n",
    "# Add all C files to SRC_USERMOD.\n",
    "SRC_USERMOD += $(USERMODULES_DIR)/constants.c\n",
    "\n",
    "CFLAGS_USERMOD += -I$(USERMODULES_DIR)"
   ]
  },
  {
   "cell_type": "code",
   "execution_count": null,
   "metadata": {
    "ExecuteTime": {
     "end_time": "2020-01-09T06:28:27.832786Z",
     "start_time": "2020-01-09T06:28:24.904628Z"
    }
   },
   "outputs": [],
   "source": [
    "!make clean\n",
    "!make USER_C_MODULES=../../../usermod/snippets CFLAGS_EXTRA=-DMODULE_CONSTANTS_ENABLED=1 all"
   ]
  },
  {
   "cell_type": "markdown",
   "metadata": {},
   "source": [
    "One comment before trying out what we have just implemented: the module is definitely pathological. If all you need is a set of constants organised in some way, then you should write it in python. There is nothing to be gained by working in C, while python is much more flexible."
   ]
  },
  {
   "cell_type": "code",
   "execution_count": 46,
   "metadata": {
    "ExecuteTime": {
     "end_time": "2020-01-09T06:28:30.448979Z",
     "start_time": "2020-01-09T06:28:30.438294Z"
    }
   },
   "outputs": [
    {
     "name": "stdout",
     "output_type": "stream",
     "text": [
      "42\n",
      "1.2.3\n",
      "(1, '1.2.3')\n",
      "\n",
      "\n"
     ]
    }
   ],
   "source": [
    "%%micropython -unix 1\n",
    "\n",
    "import constants\n",
    "\n",
    "print(constants.magic)\n",
    "print(constants.__version__)\n",
    "print(constants.version_tuple)"
   ]
  },
  {
   "cell_type": "markdown",
   "metadata": {},
   "source": [
    "# Error handling\n",
    "\n",
    "There will be cases, when something goes wrong, and you want to bail out in an elegant way. If bailing out, and elegance can be used in the same sentence, that is. Depending on what kind of difficulty you are facing, you can indicate this to the user in different ways, and there seems to be a divide between programmers as to whether one should return an error code, or do something else. \n",
    "\n",
    "But in the python world, the most common method is to raise some sort of exception, and let the user handle the problem. In the following snippet, we will see a couple of ways of going about exceptions. We implement a single function that raises an exception, no matter what. When developing user-friendly code, that is as vicious as you can get, I guess. "
   ]
  },
  {
   "cell_type": "markdown",
   "metadata": {},
   "source": [
    "First, the code listing:"
   ]
  },
  {
   "cell_type": "code",
   "execution_count": 101,
   "metadata": {
    "ExecuteTime": {
     "end_time": "2019-08-07T04:55:50.463451Z",
     "start_time": "2019-08-07T04:55:50.454337Z"
    }
   },
   "outputs": [
    {
     "name": "stdout",
     "output_type": "stream",
     "text": [
      "written 1678 bytes to /sillyerrors/sillyerrors.c\n"
     ]
    }
   ],
   "source": [
    "%%ccode /sillyerrors/sillyerrors.c\n",
    "\n",
    "#include \"py/obj.h\"\n",
    "#include \"py/builtin.h\"\n",
    "#include \"py/runtime.h\"\n",
    "#include <stdlib.h>\n",
    "\n",
    "STATIC mp_obj_t mean_function(mp_obj_t error_code) {\n",
    "    int e = mp_obj_get_int(error_code);\n",
    "    if(e == 0) {\n",
    "        mp_raise_msg(&mp_type_ZeroDivisionError, \"thou shall not try to divide by 0 on a microcontroller!\");\n",
    "    } else if(e == 1) {\n",
    "        mp_raise_msg(&mp_type_IndexError, \"dude, that was a silly mistake!\");\n",
    "    } else if(e == 2) {\n",
    "        mp_raise_TypeError(\"look, chap, you can't be serious!\");\n",
    "    } else if(e == 3) {\n",
    "        mp_raise_OSError(e);\n",
    "    } else if(e == 4) {\n",
    "        char *buffer;\n",
    "        buffer = malloc(100);\n",
    "        sprintf(buffer, \"you are really out of luck today: error code %d\", e);\n",
    "        mp_raise_NotImplementedError(buffer);\n",
    "    } else {\n",
    "        mp_raise_ValueError(\"sorry, you've exhausted all your options\");\n",
    "    }\n",
    "    return mp_const_false;\n",
    "}\n",
    "\n",
    "STATIC MP_DEFINE_CONST_FUN_OBJ_1(mean_function_obj, mean_function);\n",
    "\n",
    "STATIC const mp_rom_map_elem_t sillyerrors_module_globals_table[] = {\n",
    "    { MP_ROM_QSTR(MP_QSTR___name__), MP_ROM_QSTR(MP_QSTR_sillyerrors) },\n",
    "    { MP_ROM_QSTR(MP_QSTR_mean), MP_ROM_PTR(&mean_function_obj) },\n",
    "};\n",
    "STATIC MP_DEFINE_CONST_DICT(sillyerrors_module_globals, sillyerrors_module_globals_table);\n",
    "\n",
    "const mp_obj_module_t sillyerrors_user_cmodule = {\n",
    "    .base = { &mp_type_module },\n",
    "    .globals = (mp_obj_dict_t*)&sillyerrors_module_globals,\n",
    "};\n",
    "\n",
    "MP_REGISTER_MODULE(MP_QSTR_sillyerrors, sillyerrors_user_cmodule, MODULE_SILLYERRORS_ENABLED);"
   ]
  },
  {
   "cell_type": "markdown",
   "metadata": {},
   "source": [
    "Now, not all exceptions are created equal. Some are more exceptional than the others: `ValueError`, `TypeError`, `OSError`, and `NotImplementedError` can be raised with the syntax\n",
    "\n",
    "```c\n",
    "mp_raise_ValueError(\"wrong value\");\n",
    "```\n",
    "which will, in addition to raising the exception at the C level (i.e., interrupting the execution of the code), also return a pretty traceback:\n",
    "\n",
    "```\n",
    "Traceback (most recent call last):\n",
    "  File \"<stdin>\", line 1, in <module>\n",
    "ValueError: wrong value\n",
    "```\n",
    "with the error message that we supplied to the `mp_raise_ValueError` function. If you want to have a traceback message that is not a compile-time constant, you could deal with the problem as in case 4 in the function `mean_function`. Such a message might be useful, if the nature of the exception is somehow related to a quantity that is not known at compile time, e.g., if you have a function that should not ever run, if the up-time is shorter than some predefined value. Of course, one can just say that the \"microcontroller hasn't run long enough yet\", and this is a pretty good constant string, but perhaps we can give the user a bit more information, if we can also indicate, how much time is still missing. \n",
    "\n",
    "Other exceptions can be raised as in the `e == 1` case, with the `mp_raise_msg(&mp_type_IndexError, \"dude, that was a silly mistake!\")` function. Here one also has to specify the type of the exception, which is always of the form `mp_type_`. A complete list can be found in `obj.h`. \n",
    "\n",
    "Incidentally, `mp_raise_ValueError`, `mp_raise_TypeError`, and `mp_raise_NotImplementedError` are nothing but a wrapper for `mp_raise_msg`, which in turn is a wrapper for `nlr_raise` of `nlr.c/nlr.h`. The `OSError` is somewhat curious in this respect, because it is raised directly through `nlr_raise`, and its argument is not a string, but an integer error code. All these wrappers are defined in `runtime.c`, by the way. "
   ]
  },
  {
   "cell_type": "markdown",
   "metadata": {},
   "source": [
    "In our ultimate mean function, we raised a lot of exceptions by now, but we still have to return some value, because the function signature stipulates that, and the compiler would be unsatisfied otherwise, even though code execution will actually never reach the return statement. Since we are in denial mode anyway, I cast my vote for a return value of `mp_const_false`. `mp_const_none` was the other candidate, but ended up as the runner-up."
   ]
  },
  {
   "cell_type": "markdown",
   "metadata": {},
   "source": [
    "I think, it is high time to compile our code. "
   ]
  },
  {
   "cell_type": "code",
   "execution_count": null,
   "metadata": {
    "ExecuteTime": {
     "end_time": "2020-01-06T06:58:05.484217Z",
     "start_time": "2020-01-06T06:58:05.462951Z"
    }
   },
   "outputs": [],
   "source": [
    "%%makefile /sillyerrors/sillyerrors.c\n",
    "\n",
    "USERMODULES_DIR := $(USERMOD_DIR)\n",
    "\n",
    "# Add all C files to SRC_USERMOD.\n",
    "SRC_USERMOD += $(USERMODULES_DIR)/sillyerrors.c\n",
    "\n",
    "CFLAGS_USERMOD += -I$(USERMODULES_DIR)"
   ]
  },
  {
   "cell_type": "code",
   "execution_count": null,
   "metadata": {
    "ExecuteTime": {
     "end_time": "2019-08-07T04:55:57.077863Z",
     "start_time": "2019-08-07T04:55:56.145189Z"
    },
    "scrolled": true
   },
   "outputs": [],
   "source": [
    "!make clean\n",
    "!make USER_C_MODULES=../../../usermod/snippets CFLAGS_EXTRA=-DMODULE_SILLYERRORS_ENABLED=1 all"
   ]
  },
  {
   "cell_type": "code",
   "execution_count": 103,
   "metadata": {
    "ExecuteTime": {
     "end_time": "2019-08-07T04:56:00.571699Z",
     "start_time": "2019-08-07T04:56:00.542915Z"
    }
   },
   "outputs": [
    {
     "name": "stdout",
     "output_type": "stream",
     "text": [
      "\n",
      "Traceback (most recent call last):\n",
      "  File \"/dev/shm/micropython.py\", line 3, in <module>\n",
      "ZeroDivisionError: thou shall not try to divide by 0 on a microcontroller!\n",
      "\n"
     ]
    }
   ],
   "source": [
    "%%micropython\n",
    "\n",
    "import sillyerrors\n",
    "print(sillyerrors.mean(0))"
   ]
  },
  {
   "cell_type": "code",
   "execution_count": 44,
   "metadata": {
    "ExecuteTime": {
     "end_time": "2019-08-05T15:19:27.051405Z",
     "start_time": "2019-08-05T15:19:27.035765Z"
    }
   },
   "outputs": [
    {
     "name": "stdout",
     "output_type": "stream",
     "text": [
      "\n",
      "Traceback (most recent call last):\n",
      "  File \"/dev/shm/micropython.py\", line 3, in <module>\n",
      "IndexError: dude, that was a silly mistake!\n",
      "\n"
     ]
    }
   ],
   "source": [
    "%%micropython\n",
    "\n",
    "import sillyerrors\n",
    "print(sillyerrors.mean(1))"
   ]
  },
  {
   "cell_type": "code",
   "execution_count": 45,
   "metadata": {
    "ExecuteTime": {
     "end_time": "2019-08-05T15:19:30.076215Z",
     "start_time": "2019-08-05T15:19:30.061067Z"
    }
   },
   "outputs": [
    {
     "name": "stdout",
     "output_type": "stream",
     "text": [
      "\n",
      "Traceback (most recent call last):\n",
      "  File \"/dev/shm/micropython.py\", line 3, in <module>\n",
      "TypeError: look, chap, you can't be serious!\n",
      "\n"
     ]
    }
   ],
   "source": [
    "%%micropython\n",
    "\n",
    "import sillyerrors\n",
    "print(sillyerrors.mean(2))"
   ]
  },
  {
   "cell_type": "code",
   "execution_count": 46,
   "metadata": {
    "ExecuteTime": {
     "end_time": "2019-08-05T15:19:32.656922Z",
     "start_time": "2019-08-05T15:19:32.640883Z"
    }
   },
   "outputs": [
    {
     "name": "stdout",
     "output_type": "stream",
     "text": [
      "\n",
      "Traceback (most recent call last):\n",
      "  File \"/dev/shm/micropython.py\", line 3, in <module>\n",
      "OSError: 3\n",
      "\n"
     ]
    }
   ],
   "source": [
    "%%micropython\n",
    "\n",
    "import sillyerrors\n",
    "print(sillyerrors.mean(3))"
   ]
  },
  {
   "cell_type": "code",
   "execution_count": 52,
   "metadata": {
    "ExecuteTime": {
     "end_time": "2019-08-05T15:29:17.427554Z",
     "start_time": "2019-08-05T15:29:17.411002Z"
    }
   },
   "outputs": [
    {
     "name": "stdout",
     "output_type": "stream",
     "text": [
      "\n",
      "Traceback (most recent call last):\n",
      "  File \"/dev/shm/micropython.py\", line 3, in <module>\n",
      "NotImplementedError: you are really out of luck today: error code 4\n",
      "\n"
     ]
    }
   ],
   "source": [
    "%%micropython\n",
    "\n",
    "import sillyerrors\n",
    "print(sillyerrors.mean(4))"
   ]
  },
  {
   "cell_type": "markdown",
   "metadata": {},
   "source": [
    "One can't but wonder, why we had to invoke our `mean` function in four separate statements, and why we couldn't execute everything in a nice nifty package like "
   ]
  },
  {
   "cell_type": "code",
   "execution_count": 71,
   "metadata": {
    "ExecuteTime": {
     "end_time": "2019-08-06T15:23:24.209883Z",
     "start_time": "2019-08-06T15:23:24.182368Z"
    }
   },
   "outputs": [
    {
     "name": "stdout",
     "output_type": "stream",
     "text": [
      "\n",
      "Traceback (most recent call last):\n",
      "  File \"/dev/shm/micropython.py\", line 3, in <module>\n",
      "ZeroDivisionError: you shall not try to divide by 0 on a microcontroller!\n",
      "\n"
     ]
    }
   ],
   "source": [
    "%%micropython\n",
    "\n",
    "import sillyerrors\n",
    "print(sillyerrors.mean(0))\n",
    "print(sillyerrors.mean(1))\n",
    "print(sillyerrors.mean(2))\n",
    "print(sillyerrors.mean(3))\n",
    "print(sillyerrors.mean(4))"
   ]
  },
  {
   "cell_type": "markdown",
   "metadata": {},
   "source": [
    "Well, we could have, but since we specifically raised an exception in the first statement, our code would never have gotten beyond \n",
    "```python\n",
    "sillyerror.mean(0)\n",
    "```\n",
    "After all, this is what exceptions do: they interrupt the execution of the code. "
   ]
  },
  {
   "cell_type": "markdown",
   "metadata": {},
   "source": [
    "# Argument parsing\n",
    "\n",
    "In practically all cases, you will have to inspect the arguments of your function. Even if you can resort to functions in the micropython implementation, that simply means that the burden of inspection was taken off your shoulders, but not that the inspection does not happen at all. In this section, we are going to see what we can do with both positional, and keyword arguments, and how we can retrieve their values."
   ]
  },
  {
   "cell_type": "markdown",
   "metadata": {},
   "source": [
    "## Positional arguments\n",
    "\n",
    "### Known number of arguments\n",
    "\n",
    "A known number of positional arguments are pretty much a done deal: we have seen how to get the C values of such arguments: in our very first module, we called `mp_obj_get_int()`, because we wanted to sum two integers. Should we like to work with float, we could call `mp_obj_get_float()`. (This function will properly work, if the value is an integer, by the way.)\n",
    "\n",
    "If we have a more complicated construct, like a tuple or a list, we can turn the argument into a pointer with\n",
    "\n",
    "```c\n",
    "mp_obj_t some_function(mp_obj_t object_in) {\n",
    "    mp_obj_tuple_t *object = MP_OBJ_TO_PTR(object_in);\n",
    "    ...\n",
    "}\n",
    "```\n",
    "and continue with `*object`. We can then retrieve the tuple's structure members with `object->items` (the elements in the tuple), and `object->len` (the length of the tuple). This procedure works even with newly-defined object types. A complete example can be found in Section [Creating new types](#Creating-new-types):\n",
    "\n",
    "```c\n",
    "typedef struct _vector_obj_t {\n",
    "    mp_obj_base_t base;\n",
    "    float x, y, z;\n",
    "} vector_obj_t;\n",
    "\n",
    "\n",
    "mp_obj_t some_function(mp_obj_t object_in) {\n",
    "    vector_obj_t *vector = MP_OBJ_TO_PTR(object_in);\n",
    "    ...\n",
    "}\n",
    "```\n",
    "\n",
    "### Unknown number of arguments\n",
    "\n",
    "Now, we pointed out that the macros generating the function objects can be of the form \n",
    "\n",
    "```c\n",
    "MP_DEFINE_CONST_FUN_OBJ_VAR_BETWEEN(some_function_obj, n_argmin, n_argmax, some_function);\n",
    "```\n",
    "\n",
    "In such a case, we surely can't just enumerate the arguments of the function without any checks, especially, that we don't even know how far we have to go, and the behaviour of the function can depend on the number of arguments. What shall we do in such an instance? \n",
    "\n",
    "We have to reckon that the signature of a function with a variable number of arguments looks like \n",
    "\n",
    "```c\n",
    "mp_obj_t some_function(size_t n_args, const mp_obj_t *args) {\n",
    "    if (n_args == 2) {\n",
    "        ...\n",
    "    }\n",
    "    ...\n",
    "}\n",
    "```\n",
    "and the first argument of the C function will store the number of positional arguments of the python function. Once `n_args` is known, we are set. It is important to note that the work is done by the `MP_DEFINE_CONST_FUN_OBJ_VAR_BETWEEN` macro, we do not have to set up the C function in any particular way. \n",
    "\n",
    "Here is a small example that will drive this point home."
   ]
  },
  {
   "cell_type": "code",
   "execution_count": 30,
   "metadata": {
    "ExecuteTime": {
     "end_time": "2019-08-30T12:54:44.594802Z",
     "start_time": "2019-08-30T12:54:44.588189Z"
    }
   },
   "outputs": [
    {
     "name": "stdout",
     "output_type": "stream",
     "text": [
      "written 1379 bytes to /vararg/vararg.c\n"
     ]
    }
   ],
   "source": [
    "%%ccode /vararg/vararg.c\n",
    "\n",
    "#include \"py/obj.h\"\n",
    "#include \"py/runtime.h\"\n",
    "\n",
    "STATIC mp_obj_t vararg_function(size_t n_args, const mp_obj_t *args) {\n",
    "    if(n_args == 0) {\n",
    "        printf(\"no arguments supplied\\n\");\n",
    "    } else if(n_args == 1) {\n",
    "        printf(\"this is a %lu\\n\", mp_obj_get_int(args[0]));\n",
    "    } else if(n_args == 2) {\n",
    "        printf(\"hm, we will sum them: %lu\\n\", mp_obj_get_int(args[0]) + mp_obj_get_int(args[1]));\n",
    "    } else if(n_args == 3) {\n",
    "        printf(\"Look at that! A triplet: %lu, %lu, %lu\\n\", mp_obj_get_int(args[0]), mp_obj_get_int(args[1]), mp_obj_get_int(args[2]));\n",
    "    }\n",
    "    return mp_const_none;\n",
    "} \n",
    "\n",
    "STATIC MP_DEFINE_CONST_FUN_OBJ_VAR_BETWEEN(vararg_function_obj, 0, 3, vararg_function);\n",
    "\n",
    "STATIC const mp_rom_map_elem_t vararg_module_globals_table[] = {\n",
    "    { MP_ROM_QSTR(MP_QSTR___name__), MP_ROM_QSTR(MP_QSTR_vararg) },\n",
    "    { MP_ROM_QSTR(MP_QSTR_vararg), MP_ROM_PTR(&vararg_function_obj) },\n",
    "};\n",
    "STATIC MP_DEFINE_CONST_DICT(vararg_module_globals, vararg_module_globals_table);\n",
    "\n",
    "const mp_obj_module_t vararg_user_cmodule = {\n",
    "    .base = { &mp_type_module },\n",
    "    .globals = (mp_obj_dict_t*)&vararg_module_globals,\n",
    "};\n",
    "\n",
    "MP_REGISTER_MODULE(MP_QSTR_vararg, vararg_user_cmodule, MODULE_VARARG_ENABLED);"
   ]
  },
  {
   "cell_type": "code",
   "execution_count": null,
   "metadata": {
    "ExecuteTime": {
     "end_time": "2020-01-06T06:58:12.311126Z",
     "start_time": "2020-01-06T06:58:12.299781Z"
    }
   },
   "outputs": [],
   "source": [
    "%%makefile /vararg/vararg.c\n",
    "\n",
    "USERMODULES_DIR := $(USERMOD_DIR)\n",
    "\n",
    "# Add all C files to SRC_USERMOD.\n",
    "SRC_USERMOD += $(USERMODULES_DIR)/vararg.c\n",
    "\n",
    "CFLAGS_USERMOD += -I$(USERMODULES_DIR)"
   ]
  },
  {
   "cell_type": "code",
   "execution_count": 33,
   "metadata": {
    "ExecuteTime": {
     "end_time": "2019-08-30T13:00:27.905381Z",
     "start_time": "2019-08-30T13:00:27.479437Z"
    }
   },
   "outputs": [],
   "source": [
    "!make clean\n",
    "!make USER_C_MODULES=../../../usermod/snippets CFLAGS_EXTRA=-DMODULE_VARARG_ENABLED=1 all"
   ]
  },
  {
   "cell_type": "code",
   "execution_count": 32,
   "metadata": {
    "ExecuteTime": {
     "end_time": "2019-08-30T12:54:56.850205Z",
     "start_time": "2019-08-30T12:54:56.835036Z"
    }
   },
   "outputs": [
    {
     "name": "stdout",
     "output_type": "stream",
     "text": [
      "no arguments supplied\n",
      "this is a 1\n",
      "hm, we will sum them: 30\n",
      "Look at that! A triplet: 1, 22, 333\n",
      "\n",
      "\n"
     ]
    }
   ],
   "source": [
    "%%micropython\n",
    "\n",
    "import vararg\n",
    "\n",
    "vararg.vararg()\n",
    "vararg.vararg(1)\n",
    "vararg.vararg(10, 20)\n",
    "vararg.vararg(1, 22, 333)"
   ]
  },
  {
   "cell_type": "markdown",
   "metadata": {},
   "source": [
    "## Working with strings\n",
    "\n",
    "We have discussed numerical values in micropython at length. We know how we convert an `mp_obj_t` object to a native C type, and we also know, how we can turn an integer or float into an `mp_obj_t`, and return it at the end of the function. The key components were the `mp_obj_get_int()`, `mp_obj_new_int()`, and `mp_obj_get_float()`, and \n",
    "`mp_obj_new_float()` functions. Later we will see, what we can do with various iterables, like lists and tuples, but before that, I would like to explain, how one handles strings. (Strings are also iterables in python, by the way, however, they also have a native C equivalent.)\n",
    "\n",
    "At the beginning, we said that in micropython, almost everything is an `mp_obj_t` object. Strings are no exception: however, the `mp_obj_t` that denotes the string does not store its value, but a pointer to the memory location, where the characters are stored. The reason is rather trivial: the `mp_obj_t` has a size of 8 bytes, hence, the object can't possibly store a string that is longer than 7 bytes. (The same applies to more complicated objects, e.g., lists, or tuples.) \n",
    "\n",
    "Now, the procedure of working with the string would kick out with retrieving the pointer, and then we could increment its value till we encounter the `\\0` character, which indicates that the string has ended. Fortunately, micropython has a handy macro for retrieving the string's value and its length, so we don't have to concern ourselves with the really low-level stuff. For the string utilities, we should include `py/objstr.h` (for the micropython things), and `string.h` (for `strcpy`). `py/objstr.c` contains a number of tools for string manipulation. Before you try to implement your own functions, it might be worthwhile to check that out. You might find something useful.\n",
    "\n",
    "Our next module is going to take a single string as an argument, print out its length (you already know, how to return the length, don't you?), and return the contents backwards. All this in 33 lines."
   ]
  },
  {
   "cell_type": "code",
   "execution_count": 241,
   "metadata": {
    "ExecuteTime": {
     "end_time": "2019-09-05T18:49:52.258481Z",
     "start_time": "2019-09-05T18:49:52.248615Z"
    }
   },
   "outputs": [
    {
     "name": "stdout",
     "output_type": "stream",
     "text": [
      "written 1355 bytes to /stringarg/stringarg.c\n"
     ]
    }
   ],
   "source": [
    "%%ccode /stringarg/stringarg.c\n",
    "\n",
    "#include <string.h>\n",
    "#include \"py/obj.h\"\n",
    "#include \"py/runtime.h\"\n",
    "#include \"py/objstr.h\"\n",
    "\n",
    "#define byteswap(a,b) char tmp = a; a = b; b = tmp; \n",
    "\n",
    "STATIC mp_obj_t stringarg_function(const mp_obj_t o_in) {\n",
    "    mp_check_self(mp_obj_is_str_or_bytes(o_in));\n",
    "    GET_STR_DATA_LEN(o_in, str, str_len);\n",
    "    printf(\"string length: %lu\\n\", str_len);\n",
    "    char out_str[str_len];\n",
    "    strcpy(out_str, (char *)str);\n",
    "    for(size_t i=0; i < (str_len-1)/2; i++) {\n",
    "        byteswap(out_str[i], out_str[str_len-i-1]);\n",
    "    }\n",
    "    return mp_obj_new_str(out_str, str_len);\n",
    "} \n",
    "\n",
    "STATIC MP_DEFINE_CONST_FUN_OBJ_1(stringarg_function_obj, stringarg_function);\n",
    "\n",
    "STATIC const mp_rom_map_elem_t stringarg_module_globals_table[] = {\n",
    "    { MP_ROM_QSTR(MP_QSTR___name__), MP_ROM_QSTR(MP_QSTR_stringarg) },\n",
    "    { MP_ROM_QSTR(MP_QSTR_stringarg), MP_ROM_PTR(&stringarg_function_obj) },\n",
    "};\n",
    "STATIC MP_DEFINE_CONST_DICT(stringarg_module_globals, stringarg_module_globals_table);\n",
    "\n",
    "const mp_obj_module_t stringarg_user_cmodule = {\n",
    "    .base = { &mp_type_module },\n",
    "    .globals = (mp_obj_dict_t*)&stringarg_module_globals,\n",
    "};\n",
    "\n",
    "MP_REGISTER_MODULE(MP_QSTR_stringarg, stringarg_user_cmodule, MODULE_STRINGARG_ENABLED);"
   ]
  },
  {
   "cell_type": "markdown",
   "metadata": {},
   "source": [
    "The macro defined in `objstr.h` takes three arguments, out of which only the first one is actually defined. The other two are defined in the macro itself. So, in the line\n",
    "\n",
    "```c\n",
    "GET_STR_DATA_LEN(o_in, str, str_len);\n",
    "```\n",
    "only `o_in` is known at the moment the macro is called, `str`, which will be a pointer to type character, and `str_len`, which is of type `size_t`, and holds the length of the string, are created by `GET_STR_DATA_LEN` itself. This is, why we can later stick `str_len`, and `str` into print statements, though, we never declared these variables.\n",
    "\n",
    "After `GET_STR_DATA_LEN` has been called, we are in C land. First, we print out the length, then reverse the string. But why can't we do the string inversion on the original string, and why do we have to declare a new variable, `out_str`? The reason for that is that the `GET_STR_DATA_LEN` macro declares a `const` string, which we can't change anymore, so we have to copy the content (`strcpy` from `string.h`), and swap the bytes in `out_str`. When doing so, we should keep in mind that the very last byte in the string is the termination character, hence, we exchange the `i`th position with the `str_len-i-1`th position. If you fail to notice the `-1`, you'll end up with an empty string: even though the byte swapping would run without complaints, the very first byte would be equal to `\\0`. \n",
    "\n",
    "At the very end, we return from our function with a call to `mp_obj_new_str`, which creates a new `mp_obj_t` object that points to the content of the string. And we are done! All there is left to do is compilation. Let's take care of that!"
   ]
  },
  {
   "cell_type": "code",
   "execution_count": null,
   "metadata": {
    "ExecuteTime": {
     "end_time": "2020-01-06T06:58:21.497945Z",
     "start_time": "2020-01-06T06:58:21.489557Z"
    }
   },
   "outputs": [],
   "source": [
    "%%makefile /stringarg/stringarg.c\n",
    "\n",
    "USERMODULES_DIR := $(USERMOD_DIR)\n",
    "\n",
    "# Add all C files to SRC_USERMOD.\n",
    "SRC_USERMOD += $(USERMODULES_DIR)/stringarg.c\n",
    "\n",
    "CFLAGS_USERMOD += -I$(USERMODULES_DIR)"
   ]
  },
  {
   "cell_type": "code",
   "execution_count": null,
   "metadata": {
    "ExecuteTime": {
     "end_time": "2019-09-05T18:49:56.329809Z",
     "start_time": "2019-09-05T18:49:55.364528Z"
    },
    "scrolled": true
   },
   "outputs": [],
   "source": [
    "!make clean\n",
    "!make USER_C_MODULES=../../../usermod/snippets CFLAGS_EXTRA=-DMODULE_STRINGARG_ENABLED=1 all"
   ]
  },
  {
   "cell_type": "code",
   "execution_count": 243,
   "metadata": {
    "ExecuteTime": {
     "end_time": "2019-09-05T18:49:58.245413Z",
     "start_time": "2019-09-05T18:49:58.229528Z"
    }
   },
   "outputs": [
    {
     "name": "stdout",
     "output_type": "stream",
     "text": [
      "string length: 31\n",
      "the stringarg module at work...\n",
      "\n",
      "\n"
     ]
    }
   ],
   "source": [
    "%%micropython\n",
    "\n",
    "import stringarg\n",
    "\n",
    "print(stringarg.stringarg('...krow ta eludom gragnirts eht'))"
   ]
  },
  {
   "cell_type": "markdown",
   "metadata": {},
   "source": [
    "## Keyword arguments\n",
    "\n",
    "One of the most useful features of python is that functions can accept positional as well as keyword arguments, thereby providing a very flexible and instructive function interface. (Instructive, insofar as the intent of a variable is very explicit, even at the user level.) In this subsection, we will learn how the processing of keyword arguments is done. Our new module will be the sexed-up version of our very first one, where we added two integers. We will do the same here, except that the second argument will be a keyword, and will assume a default value of 0. \n",
    "\n",
    "Before jumping into the implementation, we should contemplate the task for a second. It does not matter, whether we have positional or keyword arguments, at one point, the interpreter has to turn all arguments into a deterministic sequence of objects. We stipulate this sequence in the constant variable called `allowed_args[]`. This is an array of type `mp_arg_t`, which is nothing but a structure with two `uint16` values, and a union named `mp_arg_val_t`. This union holds the default value and the type of the variable that we want to pass. The `mp_arg_t` structure, defined in `runtime.h`, looks like this:\n",
    "\n",
    "```c\n",
    "typedef struct _mp_arg_t {\n",
    "    uint16_t qst;\n",
    "    uint16_t flags;\n",
    "    mp_arg_val_t defval;\n",
    "} mp_arg_t;\n",
    "```\n",
    "\n",
    "The last member, `mp_arg_val_t` is \n",
    "\n",
    "```c\n",
    "typedef union _mp_arg_val_t {\n",
    "    bool u_bool;\n",
    "    mp_int_t u_int;\n",
    "    mp_obj_t u_obj;\n",
    "    mp_rom_obj_t u_rom_obj;\n",
    "} mp_arg_val_t;\n",
    "```"
   ]
  },
  {
   "cell_type": "markdown",
   "metadata": {},
   "source": [
    "Keyword arguments come in three flavours: `MP_ARG_BOOL`, `MP_ARG_INT`, and `MP_ARG_OBJ`. "
   ]
  },
  {
   "cell_type": "markdown",
   "metadata": {},
   "source": [
    "### Keyword arguments with numerical values\n",
    "\n",
    "And now the implementation:"
   ]
  },
  {
   "cell_type": "code",
   "execution_count": 63,
   "metadata": {
    "ExecuteTime": {
     "end_time": "2019-08-06T05:31:00.194031Z",
     "start_time": "2019-08-06T05:31:00.188389Z"
    }
   },
   "outputs": [
    {
     "name": "stdout",
     "output_type": "stream",
     "text": [
      "written 1547 bytes to /keywordfunction/keywordfunction.c\n"
     ]
    }
   ],
   "source": [
    "%%ccode /keywordfunction/keywordfunction.c\n",
    "\n",
    "#include <stdio.h>\n",
    "#include \"py/obj.h\"\n",
    "#include \"py/runtime.h\"\n",
    "#include \"py/builtin.h\"\n",
    "\n",
    "STATIC mp_obj_t keywordfunction_add_ints(size_t n_args, const mp_obj_t *pos_args, mp_map_t *kw_args) {\n",
    "    static const mp_arg_t allowed_args[] = {\n",
    "        { MP_QSTR_a, MP_ARG_REQUIRED | MP_ARG_INT, {.u_int = 0} },\n",
    "        { MP_QSTR_b, MP_ARG_KW_ONLY | MP_ARG_INT, {.u_int = 0} },\n",
    "    };\n",
    "    \n",
    "    mp_arg_val_t args[MP_ARRAY_SIZE(allowed_args)];\n",
    "    mp_arg_parse_all(n_args, pos_args, kw_args, MP_ARRAY_SIZE(allowed_args), allowed_args, args);\n",
    "    int16_t a = args[0].u_int;\n",
    "    int16_t b = args[1].u_int;\n",
    "    printf(\"a = %d, b = %d\\n\", a, b);\n",
    "    return mp_obj_new_int(a + b);\n",
    "}\n",
    "\n",
    "STATIC MP_DEFINE_CONST_FUN_OBJ_KW(keywordfunction_add_ints_obj, 1, keywordfunction_add_ints);\n",
    "\n",
    "STATIC const mp_rom_map_elem_t keywordfunction_module_globals_table[] = {\n",
    "    { MP_ROM_QSTR(MP_QSTR___name__), MP_ROM_QSTR(MP_QSTR_keywordfunction) },\n",
    "    { MP_ROM_QSTR(MP_QSTR_add_ints), (mp_obj_t)&keywordfunction_add_ints_obj },\n",
    "};\n",
    "\n",
    "STATIC MP_DEFINE_CONST_DICT(keywordfunction_module_globals, keywordfunction_module_globals_table);\n",
    "\n",
    "const mp_obj_module_t keywordfunction_user_cmodule = {\n",
    "    .base = { &mp_type_module },\n",
    "    .globals = (mp_obj_dict_t*)&keywordfunction_module_globals,\n",
    "};\n",
    "\n",
    "MP_REGISTER_MODULE(MP_QSTR_keywordfunction, keywordfunction_user_cmodule, MODULE_KEYWORDFUNCTION_ENABLED);"
   ]
  },
  {
   "cell_type": "markdown",
   "metadata": {},
   "source": [
    "One side effect of a function with keyword arguments is that we do not have to care about the arguments in the C implementation: the argument list is always the same, and it is passed in by the interpreter: the number of arguments of the python function, an array with the positional arguments, and a map for the keyword arguments. \n",
    "\n",
    "After parsing the arguments with `mp_arg_parse_all`, whatever was at the zeroth position of `allowed_args[]` will be called `args[0]`, the object at the first position of `allowed_args[]` will be turned into `args[1]`, and so on. \n",
    "\n",
    "This is, where we also define, what the name of the keyword argument is going to be: whatever comes after `MP_QSTR_`. But hey, presto! The name should be an integer with 16 bits, shouldn't it? After all, this is the first member of `mp_arg_t`. So what the hell is going on here? Well, for the efficient use of RAM, all MP_QSTRs are turned into `unint16_t` internally. This applies not only to the names in functions with keyword arguments, but also for module and function names, in the `_module_globals_table[]`.\n",
    "\n",
    "The second member of the `mp_arg_t` structure is the flags that determine, e.g., whether the argument is required, if it is of integer or `mp_obj_t` type, and whether it is a positional or a keyword argument. These flags can be combined by ORing them, as we have done in the example above. \n",
    "\n",
    "The last member in `mp_arg_t` is the default value. Since this is a member variable, when we make use of it, we have to extract the value by adding `.u_int` to the argument. \n",
    "\n",
    "When turning our function into a function object, we have to call a special macro, `MP_DEFINE_CONST_FUN_OBJ_KW`, defined in `obj.h`, which is somewhat similar to `MP_DEFINE_CONST_FUN_OBJ_VAR`: in addition to the function object and the function, one also has to specify the minimum number of arguments in the python function.\n",
    "\n",
    "Other examples on passing keyword arguments can be found in some of the hardware implementation files, e.g., `ports/stm32/pyb_i2c.c`, or `ports/stm32/pyb_spi.c`."
   ]
  },
  {
   "cell_type": "markdown",
   "metadata": {},
   "source": [
    "Now, let us see, whether we can add two numbers here."
   ]
  },
  {
   "cell_type": "code",
   "execution_count": null,
   "metadata": {
    "ExecuteTime": {
     "end_time": "2020-01-06T06:58:27.031960Z",
     "start_time": "2020-01-06T06:58:27.014140Z"
    }
   },
   "outputs": [],
   "source": [
    "%%makefile /keywordfunction/keywordfunction.c\n",
    "\n",
    "USERMODULES_DIR := $(USERMOD_DIR)\n",
    "\n",
    "# Add all C files to SRC_USERMOD.\n",
    "SRC_USERMOD += $(USERMODULES_DIR)/keywordfunction.c\n",
    "\n",
    "CFLAGS_USERMOD += -I$(USERMODULES_DIR)"
   ]
  },
  {
   "cell_type": "code",
   "execution_count": null,
   "metadata": {
    "ExecuteTime": {
     "end_time": "2019-09-13T13:01:57.525536Z",
     "start_time": "2019-09-13T13:01:34.413053Z"
    },
    "scrolled": false
   },
   "outputs": [],
   "source": [
    "!make clean\n",
    "!make USER_C_MODULES=../../../usermod/snippets CFLAGS_EXTRA=-DMODULE_KEYWORDFUNCTION_ENABLED=1 all"
   ]
  },
  {
   "cell_type": "code",
   "execution_count": 260,
   "metadata": {
    "ExecuteTime": {
     "end_time": "2019-09-13T13:02:08.034548Z",
     "start_time": "2019-09-13T13:02:08.022569Z"
    }
   },
   "outputs": [
    {
     "name": "stdout",
     "output_type": "stream",
     "text": [
      "a = -3, b = 4\n",
      "1\n",
      "a = 3, b = 0\n",
      "3\n",
      "\n",
      "\n"
     ]
    }
   ],
   "source": [
    "%%micropython\n",
    "\n",
    "import keywordfunction\n",
    "print(keywordfunction.add_ints(-3, b=4))\n",
    "print(keywordfunction.add_ints(3))"
   ]
  },
  {
   "cell_type": "markdown",
   "metadata": {},
   "source": [
    "As advertised, both function calls do what they were supposed to do: in the first case, `b` assumes the value of 4, while in the second case, it takes on 0, even though we didn't supply anything to the function. "
   ]
  },
  {
   "cell_type": "markdown",
   "metadata": {},
   "source": [
    "### Arbitrary keyword arguments\n",
    "\n",
    "We have seen how integer values can be extracted from keyword arguments, but unfortunately, that method is going to get you only that far. What if we want to pass something more complicated, in particular a string, or a tuple, or some other non-trivial python type? \n",
    "\n",
    "A simple solution could be to implement the C function without keywords at all, and do the parsing in python. After all, it is highly unlikely that parsing would be expensive in comparison to the body of the function. But perhaps, you have your reasons for not going down that rabbit hole. \n",
    "\n",
    "For such cases, we can still resort to objects of type `.u_rom_obj`. In order to experiment with the possibilities, in the next module, we define a function that simply returns the values passed to it. The input arguments are going to be a single positional argument, and four keyword arguments with type `int`, `string`, `tuple`, and `float`."
   ]
  },
  {
   "cell_type": "code",
   "execution_count": 99,
   "metadata": {
    "ExecuteTime": {
     "end_time": "2019-09-02T14:57:51.719821Z",
     "start_time": "2019-09-02T14:57:51.710460Z"
    }
   },
   "outputs": [
    {
     "name": "stdout",
     "output_type": "stream",
     "text": [
      "written 2389 bytes to /arbitrarykeyword/arbitrarykeyword.c\n"
     ]
    }
   ],
   "source": [
    "%%ccode /arbitrarykeyword/arbitrarykeyword.c\n",
    "\n",
    "#include <stdio.h>\n",
    "#include \"py/obj.h\"\n",
    "#include \"py/objlist.h\"\n",
    "#include \"py/runtime.h\"\n",
    "#include \"py/builtin.h\"\n",
    "\n",
    "// This is lifted from objfloat.c, because mp_obj_float_t is not exposed there (there is no header file)\n",
    "typedef struct _mp_obj_float_t {\n",
    "    mp_obj_base_t base;\n",
    "    mp_float_t value;\n",
    "} mp_obj_float_t;\n",
    "\n",
    "const mp_obj_float_t my_float = {{&mp_type_float}, 0.987};\n",
    "\n",
    "const mp_rom_obj_tuple_t my_tuple = {\n",
    "    {&mp_type_tuple},\n",
    "    3,\n",
    "    {\n",
    "        MP_ROM_INT(0),\n",
    "        MP_ROM_QSTR(MP_QSTR_float),\n",
    "        MP_ROM_PTR(&my_float),\n",
    "    },\n",
    "};\n",
    "\n",
    "STATIC mp_obj_t arbitrarykeyword_print(size_t n_args, const mp_obj_t *pos_args, mp_map_t *kw_args) {\n",
    "    static const mp_arg_t allowed_args[] = {\n",
    "        { MP_QSTR_a, MP_ARG_INT, {.u_int = 0} },\n",
    "        { MP_QSTR_b, MP_ARG_KW_ONLY | MP_ARG_INT, {.u_int = 1} },\n",
    "        { MP_QSTR_c, MP_ARG_KW_ONLY | MP_ARG_OBJ, {.u_rom_obj = MP_ROM_QSTR(MP_QSTR_float)} },\n",
    "        { MP_QSTR_d, MP_ARG_KW_ONLY | MP_ARG_OBJ, {.u_rom_obj = MP_ROM_PTR(&my_float)} },\n",
    "        { MP_QSTR_e, MP_ARG_KW_ONLY | MP_ARG_OBJ, {.u_rom_obj = MP_ROM_PTR(&my_tuple)} },\n",
    "    };\n",
    "\n",
    "    mp_arg_val_t args[MP_ARRAY_SIZE(allowed_args)];\n",
    "    mp_arg_parse_all(1, pos_args, kw_args, MP_ARRAY_SIZE(allowed_args), allowed_args, args);\n",
    "    mp_obj_t tuple[5];\n",
    "    tuple[0] = mp_obj_new_int(args[0].u_int); // a\n",
    "    tuple[1] = mp_obj_new_int(args[1].u_int); // b\n",
    "    tuple[2] = args[2].u_obj; // c\n",
    "    tuple[3] = args[3].u_obj; // d\n",
    "    tuple[4] = args[4].u_obj; // e\n",
    "    return mp_obj_new_tuple(5, tuple);\n",
    "}\n",
    "\n",
    "STATIC MP_DEFINE_CONST_FUN_OBJ_KW(arbitrarykeyword_print_obj, 1, arbitrarykeyword_print);\n",
    "\n",
    "STATIC const mp_rom_map_elem_t arbitrarykeyword_module_globals_table[] = {\n",
    "    { MP_ROM_QSTR(MP_QSTR___name__), MP_ROM_QSTR(MP_QSTR_arbitrarykeyword) },\n",
    "    { MP_ROM_QSTR(MP_QSTR_print), (mp_obj_t)&arbitrarykeyword_print_obj },\n",
    "};\n",
    "\n",
    "STATIC MP_DEFINE_CONST_DICT(arbitrarykeyword_module_globals, arbitrarykeyword_module_globals_table);\n",
    "\n",
    "const mp_obj_module_t arbitrarykeyword_user_cmodule = {\n",
    "    .base = { &mp_type_module },\n",
    "    .globals = (mp_obj_dict_t*)&arbitrarykeyword_module_globals,\n",
    "};\n",
    "\n",
    "MP_REGISTER_MODULE(MP_QSTR_arbitrarykeyword, arbitrarykeyword_user_cmodule, MODULE_ARBITRARYKEYWORD_ENABLED);"
   ]
  },
  {
   "cell_type": "markdown",
   "metadata": {},
   "source": [
    "Before compiling the code, let us think a bit about what is going on here. The first argument, `a`, is straightforward: that is a positional argument, and we deal with that as we did in the last example. The same applies to the second argument, `b`, which is our first keyword argument with an integer default value. \n",
    "\n",
    "Matters become more interesting with the third argument, `c`: that is supposed to be a string, whose default value is \"float\". We generate the respective C representation by prepending the `MP_QSTR_`. At this point, we have a string, but we still can't assign it as a default value. We do that by first applying the `MP_ROM_QSTR` macro, and assigning the results to the `.u_rom_obj` member of the `mp_arg_t` structure. You most certainly will want to inspect the value at one point. We have already discussed the drill in [Working with strings](#Working-with-strings).\n",
    "\n",
    "The fourth argument, `d`, is meant to be a float. Since there is no equivalent of a float in the `mp_arg_t` structure, we have to turn our number into an `MP_ROM_PTR`, so we have to retrieve the address of the float object. To this end, we define the number in the line \n",
    "\n",
    "```c\n",
    "const mp_obj_float_t my_float = {{&mp_type_float}, 0.987};\n",
    "```\n",
    "\n",
    "Note that since `mp_obj_float_t` is not exposed in `objfloat.c`, where it is defined, we had to copy the type declaration. This is certainly not very elegant, but desperate times call for desperate measures. In addition, we also have to declare `my_float` as a constant. The reason for this is that we have to assure the compiler that this value is not going to change in the future, so that it can be saved into the read-only memory.\n",
    "\n",
    "The last argument, `e`, is a tuple, which has a special type for such cases, namely, the `mp_rom_obj_tuple_t`, so we define `my_tuple` as an `mp_rom_obj_tuple_t` object, with a base type of `mp_type_tuple`, and three elements, an integer, a string, and a float. The elements go into the tuple as if they were assigned to the `.u_rom_obj` members directly, hence the macros `MP_ROM_INT`, `MP_ROM_QSTR`, and `MP_ROM_PTR`.\n",
    "\n",
    "When we return the default values at the end of our function, we declare an array of type `mb_obj_t`, and of length 5, assign the elements, and turn the array into a tuple with `mp_obj_new_tuple`. \n",
    "\n",
    "One final comment to this section: I referred to our function as returning the values of the arguments, yet, I called it `print`. Had I called the function `return`, it wouldn't have worked for the simple reason, that `return` is a keyword of the language itself. As a friendly advice, do not try to override that!\n",
    "\n",
    "Having thoroughly discussed the code, we should compile it, and see what happens. "
   ]
  },
  {
   "cell_type": "code",
   "execution_count": null,
   "metadata": {
    "ExecuteTime": {
     "end_time": "2020-01-06T06:58:32.645993Z",
     "start_time": "2020-01-06T06:58:32.642790Z"
    }
   },
   "outputs": [],
   "source": [
    "%%makefile /arbitrarykeyword/arbitrarykeyword.c\n",
    "\n",
    "USERMODULES_DIR := $(USERMOD_DIR)\n",
    "\n",
    "# Add all C files to SRC_USERMOD.\n",
    "SRC_USERMOD += $(USERMODULES_DIR)/arbitrarykeyword.c\n",
    "\n",
    "CFLAGS_USERMOD += -I$(USERMODULES_DIR)"
   ]
  },
  {
   "cell_type": "code",
   "execution_count": 97,
   "metadata": {
    "ExecuteTime": {
     "end_time": "2019-09-02T14:54:58.347746Z",
     "start_time": "2019-09-02T14:54:57.550391Z"
    },
    "scrolled": false
   },
   "outputs": [],
   "source": [
    "!make clean\n",
    "!make USER_C_MODULES=../../../usermod/snippets CFLAGS_EXTRA=-DMODULE_ARBITRARYKEYWORD_ENABLED=1 all"
   ]
  },
  {
   "cell_type": "code",
   "execution_count": 244,
   "metadata": {
    "ExecuteTime": {
     "end_time": "2019-09-05T18:53:38.424639Z",
     "start_time": "2019-09-05T18:53:38.408865Z"
    }
   },
   "outputs": [
    {
     "name": "stdout",
     "output_type": "stream",
     "text": [
      "(1, 123, 'float', 0.9869999999999999, (0, 'float', 0.9869999999999999))\n",
      "(-35, 555, 'foo', 'bar', [1, 2, 3])\n",
      "\n",
      "\n"
     ]
    }
   ],
   "source": [
    "%%micropython\n",
    "\n",
    "import arbitrarykeyword\n",
    "print(arbitrarykeyword.print(1, b=123))\n",
    "print(arbitrarykeyword.print(-35, b=555, c='foo', d='bar', e=[1, 2, 3]))"
   ]
  },
  {
   "cell_type": "markdown",
   "metadata": {},
   "source": [
    "We should note that the particular definition of the float constant will work in the `A`, and `B` object representations only. If your `micropython` platform uses either the `C`, or the `D` representation, your code will still compile, but you'll be surprised by the results."
   ]
  },
  {
   "cell_type": "markdown",
   "metadata": {},
   "source": [
    "# Working with classes\n",
    "\n",
    "Of course, python would not be python without classes. A module can also include the implementation of classes. The procedure is similar to what we have already seen in the context of standard functions, except that we have to define a structure that holds at least a string with the name of the class, a pointer to the initialisation and printout functions, and a local dictionary. A typical class structure would look like\n",
    "\n",
    "```c\n",
    "STATIC const mp_rom_map_elem_t simpleclass_locals_dict_table[] = {\n",
    "\t{ MP_ROM_QSTR(MP_QSTR_method1), MP_ROM_PTR(&simpleclass_method1_obj) },\n",
    "\t{ MP_ROM_QSTR(MP_QSTR_method2), MP_ROM_PTR(&simpleclass_method2_obj) },\n",
    "    ...                                                           \n",
    "}\n",
    "\n",
    "const mp_obj_type_t simpleclass_type = {\n",
    "\t{ &mp_type_type },\n",
    "\t.name = MP_QSTR_simpleclass,\n",
    "\t.print = simpleclass_print,\n",
    "\t.make_new = simpleclass_make_new,\n",
    "\t.locals_dict = (mp_obj_dict_t*)&simpleclass_locals_dict,\n",
    "};\n",
    "```\n",
    "\n",
    "The locals dictionary, `.locals_dict`, contains all user-facing methods and constants of the class, while the `simpleclass_type` structure's `name` member is what our class is going to be called. `.print` is roughly the equivalent of `__str__`, and `.make_new` is the C name for `__init__`. "
   ]
  },
  {
   "cell_type": "markdown",
   "metadata": {},
   "source": [
    "In order to see how this all works, we are going to implement a very simple class, which holds two integer variables, and has a method that returns the sum of these two variables. In python, a possible realisation could look like this:"
   ]
  },
  {
   "cell_type": "code",
   "execution_count": 10,
   "metadata": {
    "ExecuteTime": {
     "end_time": "2019-07-08T17:41:50.611648Z",
     "start_time": "2019-07-08T17:41:50.594402Z"
    }
   },
   "outputs": [
    {
     "data": {
      "text/plain": [
       "3"
      ]
     },
     "execution_count": 10,
     "metadata": {},
     "output_type": "execute_result"
    }
   ],
   "source": [
    "class myclass:\n",
    "    \n",
    "    def __init__(self, a, b):\n",
    "        self.a = a\n",
    "        self.b = b\n",
    "        \n",
    "    def mysum(self):\n",
    "        return self.a + self.b\n",
    "    \n",
    "    \n",
    "A = myclass(1, 2)\n",
    "A.mysum()"
   ]
  },
  {
   "cell_type": "markdown",
   "metadata": {},
   "source": [
    "In addition to the class implementation above and in order to show how class methods and regular functions can live in the same module, we will also have a function, which is not bound to the class itself, and which adds the two components in the class, i.e., that is similar to "
   ]
  },
  {
   "cell_type": "code",
   "execution_count": 11,
   "metadata": {
    "ExecuteTime": {
     "end_time": "2019-07-08T17:45:01.645421Z",
     "start_time": "2019-07-08T17:45:01.634882Z"
    }
   },
   "outputs": [
    {
     "data": {
      "text/plain": [
       "3"
      ]
     },
     "execution_count": 11,
     "metadata": {},
     "output_type": "execute_result"
    }
   ],
   "source": [
    "def add(class_instance):\n",
    "    return class_instance.a + class_instance.b\n",
    "\n",
    "add(A)"
   ]
  },
  {
   "cell_type": "markdown",
   "metadata": {},
   "source": [
    "(Note that retrieving values from the class in this way is not exactly elegant, nor is it pythonic. We would usually implement a getter method for that.)"
   ]
  },
  {
   "cell_type": "code",
   "execution_count": 19,
   "metadata": {
    "ExecuteTime": {
     "end_time": "2020-01-03T13:33:23.377650Z",
     "start_time": "2020-01-03T13:33:23.372997Z"
    }
   },
   "outputs": [
    {
     "name": "stdout",
     "output_type": "stream",
     "text": [
      "written 2831 bytes to /simpleclass/simpleclass.c\n"
     ]
    }
   ],
   "source": [
    "%%ccode /simpleclass/simpleclass.c\n",
    "\n",
    "#include <stdio.h>\n",
    "#include \"py/runtime.h\"\n",
    "#include \"py/obj.h\"\n",
    "\n",
    "typedef struct _simpleclass_myclass_obj_t {\n",
    "    mp_obj_base_t base;\n",
    "    int16_t a;\n",
    "    int16_t b;\n",
    "} simpleclass_myclass_obj_t;\n",
    "\n",
    "const mp_obj_type_t simpleclass_myclass_type;\n",
    "\n",
    "STATIC void myclass_print(const mp_print_t *print, mp_obj_t self_in, mp_print_kind_t kind) {\n",
    "    (void)kind;\n",
    "    simpleclass_myclass_obj_t *self = MP_OBJ_TO_PTR(self_in);\n",
    "    mp_print_str(print, \"myclass(\");\n",
    "    mp_obj_print_helper(print, mp_obj_new_int(self->a), PRINT_REPR);\n",
    "    mp_print_str(print, \", \");\n",
    "    mp_obj_print_helper(print, mp_obj_new_int(self->b), PRINT_REPR);\n",
    "    mp_print_str(print, \")\");\n",
    "}\n",
    "\n",
    "STATIC mp_obj_t myclass_make_new(const mp_obj_type_t *type, size_t n_args, size_t n_kw, const mp_obj_t *args) {\n",
    "    mp_arg_check_num(n_args, n_kw, 2, 2, true);\n",
    "    simpleclass_myclass_obj_t *self = m_new_obj(simpleclass_myclass_obj_t);\n",
    "    self->base.type = &simpleclass_myclass_type;\n",
    "    self->a = mp_obj_get_int(args[0]);\n",
    "    self->b = mp_obj_get_int(args[1]);\n",
    "    return MP_OBJ_FROM_PTR(self);\n",
    "}\n",
    "\n",
    "// Class methods\n",
    "STATIC mp_obj_t myclass_sum(mp_obj_t self_in) {\n",
    "    simpleclass_myclass_obj_t *self = MP_OBJ_TO_PTR(self_in);\n",
    "    return mp_obj_new_int(self->a + self->b);\n",
    "}\n",
    "\n",
    "MP_DEFINE_CONST_FUN_OBJ_1(myclass_sum_obj, myclass_sum);\n",
    "\n",
    "STATIC const mp_rom_map_elem_t myclass_locals_dict_table[] = {\n",
    "    { MP_ROM_QSTR(MP_QSTR_mysum), MP_ROM_PTR(&myclass_sum_obj) },\n",
    "};\n",
    "\n",
    "STATIC MP_DEFINE_CONST_DICT(myclass_locals_dict, myclass_locals_dict_table);\n",
    "\n",
    "const mp_obj_type_t simpleclass_myclass_type = {\n",
    "    { &mp_type_type },\n",
    "    .name = MP_QSTR_simpleclass,\n",
    "    .print = myclass_print,\n",
    "    .make_new = myclass_make_new,\n",
    "    .locals_dict = (mp_obj_dict_t*)&myclass_locals_dict,\n",
    "};\n",
    "\n",
    "// Module functions\n",
    "STATIC mp_obj_t simpleclass_add(const mp_obj_t o_in) {\n",
    "    simpleclass_myclass_obj_t *class_instance = MP_OBJ_TO_PTR(o_in);\n",
    "    return mp_obj_new_int(class_instance->a + class_instance->b);\n",
    "}\n",
    "\n",
    "MP_DEFINE_CONST_FUN_OBJ_1(simpleclass_add_obj, simpleclass_add);\n",
    "\n",
    "STATIC const mp_map_elem_t simpleclass_globals_table[] = {\n",
    "    { MP_OBJ_NEW_QSTR(MP_QSTR___name__), MP_OBJ_NEW_QSTR(MP_QSTR_simpleclass) },\n",
    "    { MP_OBJ_NEW_QSTR(MP_QSTR_myclass), (mp_obj_t)&simpleclass_myclass_type },\t\n",
    "    { MP_OBJ_NEW_QSTR(MP_QSTR_add), (mp_obj_t)&simpleclass_add_obj },\n",
    "};\n",
    "\n",
    "STATIC MP_DEFINE_CONST_DICT (\n",
    "    mp_module_simpleclass_globals,\n",
    "    simpleclass_globals_table\n",
    ");\n",
    "\n",
    "const mp_obj_module_t simpleclass_user_cmodule = {\n",
    "    .base = { &mp_type_module },\n",
    "    .globals = (mp_obj_dict_t*)&mp_module_simpleclass_globals,\n",
    "};\n",
    "\n",
    "MP_REGISTER_MODULE(MP_QSTR_simpleclass, simpleclass_user_cmodule, MODULE_SIMPLECLASS_ENABLED);"
   ]
  },
  {
   "cell_type": "markdown",
   "metadata": {},
   "source": [
    "One more thing to note: the functions that are pointed to in `simpleclass_myclass_type` are not registered with the macro `MP_DEFINE_CONST_FUN_OBJ_VAR` or similar. The reason for this is that this happens automatically: `myclass_print` does not require user-supplied arguments beyond `self`, so it is known what the signature should look like. In `myclass_make_new`, we inspect the argument list, when calling \n",
    "```c\n",
    "mp_arg_check_num(n_args, n_kw, 2, 2, true);\n",
    "```\n",
    "so, again, there is no need to turn our function into a function object. "
   ]
  },
  {
   "cell_type": "markdown",
   "metadata": {},
   "source": [
    "## Printing class properties\n",
    "\n",
    "In `my_print`, instead of the standard the C function `printf`, we made use of `mp_print_str`, and `mp_obj_print_helper`, which are options in this case. Both take `print` as their first argument. The value of `print` is supplied by the `.print` method of the class itself. The second argument is a string (in the case of `mp_print_str`), or a `micropython` object (for `mp_obj_print_helper`). In addition, `mp_obj_print_helper` takes a pre-defined constant, `PRINT_REPR` as its third argument. By resorting to these `micropython` printing functions, we can make certain that the output is formatted nicely, independent of the platform. Whenever `print` is available, these function should be used instead of `printf`. For debugging purposes, `printf` is also fine. More on the subject can be found in `mpprint.c`. "
   ]
  },
  {
   "cell_type": "code",
   "execution_count": null,
   "metadata": {
    "ExecuteTime": {
     "end_time": "2020-01-06T06:58:44.322032Z",
     "start_time": "2020-01-06T06:58:44.318996Z"
    }
   },
   "outputs": [],
   "source": [
    "%%makefile /simpleclass/simpleclass.c\n",
    "\n",
    "USERMODULES_DIR := $(USERMOD_DIR)\n",
    "\n",
    "# Add all C files to SRC_USERMOD.\n",
    "SRC_USERMOD += $(USERMODULES_DIR)/simpleclass.c\n",
    "\n",
    "CFLAGS_USERMOD += -I$(USERMODULES_DIR)"
   ]
  },
  {
   "cell_type": "code",
   "execution_count": null,
   "metadata": {
    "ExecuteTime": {
     "end_time": "2020-01-03T13:33:51.511242Z",
     "start_time": "2020-01-03T13:33:27.539624Z"
    },
    "scrolled": false
   },
   "outputs": [],
   "source": [
    "!make clean\n",
    "!make USER_C_MODULES=../../../usermod/snippets CFLAGS_EXTRA=-DMODULE_SIMPLECLASS_ENABLED=1 all"
   ]
  },
  {
   "cell_type": "code",
   "execution_count": 21,
   "metadata": {
    "ExecuteTime": {
     "end_time": "2020-01-03T13:34:00.910739Z",
     "start_time": "2020-01-03T13:34:00.902176Z"
    }
   },
   "outputs": [
    {
     "name": "stdout",
     "output_type": "stream",
     "text": [
      "myclass(2, 3)\n",
      "5\n",
      "\n",
      "\n"
     ]
    }
   ],
   "source": [
    "%%micropython\n",
    "\n",
    "import simpleclass\n",
    "a = simpleclass.myclass(2, 3)\n",
    "print(a)\n",
    "print(a.mysum())"
   ]
  },
  {
   "cell_type": "markdown",
   "metadata": {},
   "source": [
    "## Special methods of classes\n",
    "\n",
    "Python has a number of special methods, which will make a class behave as a native object. So, e.g., if a class implements the `__add__(self, other)` method, then instances of that class can be added with the `+` operator. Here is an example in python:"
   ]
  },
  {
   "cell_type": "code",
   "execution_count": 76,
   "metadata": {
    "ExecuteTime": {
     "end_time": "2019-08-06T15:29:39.169523Z",
     "start_time": "2019-08-06T15:29:39.158685Z"
    }
   },
   "outputs": [
    {
     "data": {
      "text/plain": [
       "3"
      ]
     },
     "execution_count": 76,
     "metadata": {},
     "output_type": "execute_result"
    }
   ],
   "source": [
    "class Adder:\n",
    "    \n",
    "    def __init__(self, value):\n",
    "        self.value = value\n",
    "        \n",
    "    def __add__(self, other):\n",
    "        self.value = self.value + other.value\n",
    "        return self\n",
    "\n",
    "a = Adder(1)\n",
    "b = Adder(2)\n",
    "\n",
    "c = a + b\n",
    "c.value"
   ]
  },
  {
   "cell_type": "markdown",
   "metadata": {},
   "source": [
    "Note that, while the above example is not particularly useful, it proves the point: upon calling the `+` operator, the values of `a`, and `b` are added. If we had left out the implementation of the `__add__` method, the python interpreter would not have a clue as to what to do with the objects. You can see for yourself, how sloppiness makes itself manifest:"
   ]
  },
  {
   "cell_type": "code",
   "execution_count": 77,
   "metadata": {
    "ExecuteTime": {
     "end_time": "2019-08-06T15:30:08.809539Z",
     "start_time": "2019-08-06T15:30:08.792820Z"
    }
   },
   "outputs": [
    {
     "ename": "TypeError",
     "evalue": "unsupported operand type(s) for +: 'Adder' and 'Adder'",
     "output_type": "error",
     "traceback": [
      "\u001b[0;31m---------------------------------------------------------------------------\u001b[0m",
      "\u001b[0;31mTypeError\u001b[0m                                 Traceback (most recent call last)",
      "\u001b[0;32m<ipython-input-77-635006a6f7bc>\u001b[0m in \u001b[0;36m<module>\u001b[0;34m\u001b[0m\n\u001b[1;32m      7\u001b[0m \u001b[0mb\u001b[0m \u001b[0;34m=\u001b[0m \u001b[0mAdder\u001b[0m\u001b[0;34m(\u001b[0m\u001b[0;36m2\u001b[0m\u001b[0;34m)\u001b[0m\u001b[0;34m\u001b[0m\u001b[0;34m\u001b[0m\u001b[0m\n\u001b[1;32m      8\u001b[0m \u001b[0;34m\u001b[0m\u001b[0m\n\u001b[0;32m----> 9\u001b[0;31m \u001b[0mc\u001b[0m \u001b[0;34m=\u001b[0m \u001b[0ma\u001b[0m \u001b[0;34m+\u001b[0m \u001b[0mb\u001b[0m\u001b[0;34m\u001b[0m\u001b[0;34m\u001b[0m\u001b[0m\n\u001b[0m\u001b[1;32m     10\u001b[0m \u001b[0mc\u001b[0m\u001b[0;34m.\u001b[0m\u001b[0mvalue\u001b[0m\u001b[0;34m\u001b[0m\u001b[0;34m\u001b[0m\u001b[0m\n",
      "\u001b[0;31mTypeError\u001b[0m: unsupported operand type(s) for +: 'Adder' and 'Adder'"
     ]
    }
   ],
   "source": [
    "class Adder:\n",
    "    \n",
    "    def __init__(self, value):\n",
    "        self.value = value\n",
    "\n",
    "a = Adder(1)\n",
    "b = Adder(2)\n",
    "\n",
    "c = a + b\n",
    "c.value"
   ]
  },
  {
   "cell_type": "markdown",
   "metadata": {},
   "source": [
    "Indeed, we do not support the `+` operator.\n",
    "\n",
    "Now, the problem is that in the C implementation, these special methods have to be treated in a special way. The naive approach would be to add the pointer to the function to the locals dictionary as \n",
    "\n",
    "```c\n",
    "STATIC const mp_rom_map_elem_t simpleclass_locals_dict_table[] = {\n",
    "\t{ MP_ROM_QSTR(MP_QSTR___add__), MP_ROM_PTR(&simpleclass_add_obj) },\n",
    "};\n",
    "```\n",
    "but that would not work. Well, this is not entirely true: the `+` operator would not work, but one could still call the method explicitly as\n",
    "\n",
    "```python\n",
    "a = Adder(1)\n",
    "b = Adder(2)\n",
    "\n",
    "a.__add__(b)\n",
    "\n",
    "```"
   ]
  },
  {
   "cell_type": "markdown",
   "metadata": {},
   "source": [
    "Before we actually add the `+` operator to our class, we should note that there are two kinds of special methods, namely the unary and the binary operators. \n",
    "\n",
    "In the first group are those, whose sole argument is the class instance itself. Two frequently used cases are the length operator, `len`, and `bool`. So, e.g., if your class implements the `__len__(self)` method, and the method returns an integer, then you can call the `len` function in the console\n",
    "\n",
    "```python\n",
    "len(myclass)\n",
    "```\n",
    "\n",
    "In the second category of operators are those, which require a left, as well as a right hand side: the operand on the left hand side is the class instance itself, while the right hand side can, in principle, be another instance of the same class, or some other type. An example for this was the `__add__` method in our `Adder` class. To prove that the right hand side needn't be of the same type, think of the *multiplication* of lists: "
   ]
  },
  {
   "cell_type": "code",
   "execution_count": 20,
   "metadata": {
    "ExecuteTime": {
     "end_time": "2019-08-03T15:44:24.536014Z",
     "start_time": "2019-08-03T15:44:24.369534Z"
    }
   },
   "outputs": [
    {
     "data": {
      "text/plain": [
       "[1, 2, 3, 1, 2, 3, 1, 2, 3, 1, 2, 3, 1, 2, 3]"
      ]
     },
     "execution_count": 20,
     "metadata": {},
     "output_type": "execute_result"
    }
   ],
   "source": [
    "[1, 2, 3]*5"
   ]
  },
  {
   "cell_type": "markdown",
   "metadata": {},
   "source": [
    "is perfectly valid, and has a well-defined meaning. It is the responsibility of the C implementation to inspect the right hand side, and decide how to interpret the operation. The complete list of unary, as well as binary operators can be found in `runtime.h`. "
   ]
  },
  {
   "cell_type": "markdown",
   "metadata": {},
   "source": [
    "The module below implements five special methods altogether. Two unary, namely, `bool`, and `len`, and three binary operators, `==`, `+`, and `*`. Since the addition and multiplication will return a new instance of `specialclass_myclass`, we define a new function, `create_new_class`, that, well, creates a new instance of `specialclass_myclass`, and initialises the members with the two input arguments. This function will also be called in the class initialisation function, `myclass_make_new`, immediately after the argument checking. \n",
    "\n",
    "When implementing the operators, we have to keep a couple of things in mind. First, the `specialclass_myclass_type` has to be extended with the two methods, `.unary_op`, and `.binary_op`, where `.unary_op` is equal to the function that handles the unary operation (`specialclass_unary_op` in the example below), and `.binary_op` is equal to the function that deals with binary operations (`specialclass_binary_op` below). These two functions have the signatures \n",
    "\n",
    "```c\n",
    "STATIC mp_obj_t specialclass_unary_op(mp_unary_op_t op, mp_obj_t self_in)\n",
    "```\n",
    "and\n",
    "\n",
    "```c\n",
    "STATIC mp_obj_t specialclass_binary_op(mp_binary_op_t op, mp_obj_t lhs, mp_obj_t rhs)\n",
    "```\n",
    "respectively, and we have to inspect the value of `op` in the implementation. This is done in the two `switch` statements. \n",
    "\n",
    "Second, if `.unary_op`, or `.binary_op` are defined for the class, then the handler function must have an implementation of all possible operators. This doesn't necessarily mean that you have to have all cases in the `switch`, but if you haven't, then there must be a `default` case with a reasonable return value, e.g., `MP_OBJ_NULL`, or `mp_const_none`, so as to indicate that that particular method is not available. "
   ]
  },
  {
   "cell_type": "code",
   "execution_count": 22,
   "metadata": {
    "ExecuteTime": {
     "end_time": "2020-01-03T13:34:30.988708Z",
     "start_time": "2020-01-03T13:34:30.982549Z"
    }
   },
   "outputs": [
    {
     "name": "stdout",
     "output_type": "stream",
     "text": [
      "written 3558 bytes to /specialclass/specialclass.c\n"
     ]
    }
   ],
   "source": [
    "%%ccode /specialclass/specialclass.c\n",
    "\n",
    "#include <stdio.h>\n",
    "#include \"py/runtime.h\"\n",
    "#include \"py/obj.h\"\n",
    "#include \"py/binary.h\"\n",
    "\n",
    "typedef struct _specialclass_myclass_obj_t {\n",
    "    mp_obj_base_t base;\n",
    "    int16_t a;\n",
    "    int16_t b;\n",
    "} specialclass_myclass_obj_t;\n",
    "\n",
    "const mp_obj_type_t specialclass_myclass_type;\n",
    "\n",
    "STATIC void myclass_print(const mp_print_t *print, mp_obj_t self_in, mp_print_kind_t kind) {\n",
    "    (void)kind;\n",
    "    specialclass_myclass_obj_t *self = MP_OBJ_TO_PTR(self_in);\n",
    "    mp_print_str(print, \"myclass(\");\n",
    "    mp_obj_print_helper(print, mp_obj_new_int(self->a), PRINT_REPR);\n",
    "    mp_print_str(print, \", \");\n",
    "    mp_obj_print_helper(print, mp_obj_new_int(self->b), PRINT_REPR);\n",
    "    mp_print_str(print, \")\");\n",
    "}\n",
    "\n",
    "mp_obj_t create_new_myclass(uint16_t a, uint16_t b) {\n",
    "    specialclass_myclass_obj_t *out = m_new_obj(specialclass_myclass_obj_t);\n",
    "    out->base.type = &specialclass_myclass_type;\n",
    "    out->a = a;\n",
    "    out->b = b;\n",
    "    return MP_OBJ_FROM_PTR(out);\n",
    "}\n",
    "\n",
    "STATIC mp_obj_t myclass_make_new(const mp_obj_type_t *type, size_t n_args, size_t n_kw, const mp_obj_t *args) {\n",
    "    mp_arg_check_num(n_args, n_kw, 2, 2, true);\n",
    "    return create_new_myclass(mp_obj_get_int(args[0]), mp_obj_get_int(args[1]));\n",
    "}\n",
    "\n",
    "STATIC const mp_rom_map_elem_t myclass_locals_dict_table[] = {\n",
    "};\n",
    "\n",
    "STATIC MP_DEFINE_CONST_DICT(myclass_locals_dict, myclass_locals_dict_table);\n",
    "\n",
    "STATIC mp_obj_t specialclass_unary_op(mp_unary_op_t op, mp_obj_t self_in) {\n",
    "    specialclass_myclass_obj_t *self = MP_OBJ_TO_PTR(self_in);\n",
    "    switch (op) {\n",
    "        case MP_UNARY_OP_BOOL: return mp_obj_new_bool((self->a > 0) && (self->b > 0));\n",
    "        case MP_UNARY_OP_LEN: return mp_obj_new_int(2);\n",
    "        default: return MP_OBJ_NULL; // operator not supported\n",
    "    }\n",
    "}\n",
    "\n",
    "STATIC mp_obj_t specialclass_binary_op(mp_binary_op_t op, mp_obj_t lhs, mp_obj_t rhs) {\n",
    "    specialclass_myclass_obj_t *left_hand_side = MP_OBJ_TO_PTR(lhs);\n",
    "    specialclass_myclass_obj_t *right_hand_side = MP_OBJ_TO_PTR(rhs);\n",
    "    switch (op) {\n",
    "        case MP_BINARY_OP_EQUAL:\n",
    "            return mp_obj_new_bool((left_hand_side->a == right_hand_side->a) && (left_hand_side->b == right_hand_side->b));\n",
    "        case MP_BINARY_OP_ADD:\n",
    "            return create_new_myclass(left_hand_side->a + right_hand_side->a, left_hand_side->b + right_hand_side->b);\n",
    "        case MP_BINARY_OP_MULTIPLY:\n",
    "            return create_new_myclass(left_hand_side->a * right_hand_side->a, left_hand_side->b * right_hand_side->b);\n",
    "        default:\n",
    "            return MP_OBJ_NULL; // operator not supported\n",
    "    }\n",
    "}\n",
    "\n",
    "const mp_obj_type_t specialclass_myclass_type = {\n",
    "    { &mp_type_type },\n",
    "    .name = MP_QSTR_specialclass,\n",
    "    .print = myclass_print,\n",
    "    .make_new = myclass_make_new,\n",
    "    .unary_op = specialclass_unary_op, \n",
    "    .binary_op = specialclass_binary_op,\n",
    "    .locals_dict = (mp_obj_dict_t*)&myclass_locals_dict,\n",
    "};\n",
    "\n",
    "STATIC const mp_map_elem_t specialclass_globals_table[] = {\n",
    "    { MP_OBJ_NEW_QSTR(MP_QSTR___name__), MP_OBJ_NEW_QSTR(MP_QSTR_specialclass) },\n",
    "    { MP_OBJ_NEW_QSTR(MP_QSTR_myclass), (mp_obj_t)&specialclass_myclass_type },\t\n",
    "};\n",
    "\n",
    "STATIC MP_DEFINE_CONST_DICT (\n",
    "    mp_module_specialclass_globals,\n",
    "    specialclass_globals_table\n",
    ");\n",
    "\n",
    "const mp_obj_module_t specialclass_user_cmodule = {\t\n",
    "    .base = { &mp_type_module },\n",
    "    .globals = (mp_obj_dict_t*)&mp_module_specialclass_globals,\n",
    "};\n",
    "\n",
    "MP_REGISTER_MODULE(MP_QSTR_specialclass, specialclass_user_cmodule, MODULE_SPECIALCLASS_ENABLED);"
   ]
  },
  {
   "cell_type": "code",
   "execution_count": null,
   "metadata": {
    "ExecuteTime": {
     "end_time": "2020-01-06T06:58:54.284028Z",
     "start_time": "2020-01-06T06:58:54.273018Z"
    }
   },
   "outputs": [],
   "source": [
    "%%makefile /specialclass/specialclass.c\n",
    "\n",
    "USERMODULES_DIR := $(USERMOD_DIR)\n",
    "\n",
    "# Add all C files to SRC_USERMOD.\n",
    "SRC_USERMOD += $(USERMODULES_DIR)/specialclass.c\n",
    "\n",
    "CFLAGS_USERMOD += -I$(USERMODULES_DIR)"
   ]
  },
  {
   "cell_type": "code",
   "execution_count": null,
   "metadata": {
    "ExecuteTime": {
     "end_time": "2020-01-03T13:34:55.379909Z",
     "start_time": "2020-01-03T13:34:33.415741Z"
    },
    "scrolled": false
   },
   "outputs": [],
   "source": [
    "!make clean\n",
    "!make USER_C_MODULES=../../../usermod/snippets CFLAGS_EXTRA=-DMODULE_SPECIALCLASS_ENABLED=1 all"
   ]
  },
  {
   "cell_type": "code",
   "execution_count": 24,
   "metadata": {
    "ExecuteTime": {
     "end_time": "2020-01-03T13:34:57.738270Z",
     "start_time": "2020-01-03T13:34:57.721325Z"
    }
   },
   "outputs": [
    {
     "name": "stdout",
     "output_type": "stream",
     "text": [
      "myclass(1, 2)\n",
      "myclass(10, 20)\n",
      "myclass(11, 22)\n",
      "\n",
      "\n"
     ]
    }
   ],
   "source": [
    "%%micropython\n",
    "\n",
    "import specialclass\n",
    "\n",
    "a = specialclass.myclass(1, 2)\n",
    "b = specialclass.myclass(10, 20)\n",
    "print(a)\n",
    "print(b)\n",
    "print(a + b)"
   ]
  },
  {
   "cell_type": "markdown",
   "metadata": {},
   "source": [
    "## Properties\n",
    "\n",
    "In addition to methods, in python, classes can also have properties, which will basically return some read-only attributes of the class. Take the following example:"
   ]
  },
  {
   "cell_type": "code",
   "execution_count": 48,
   "metadata": {
    "ExecuteTime": {
     "end_time": "2020-01-01T22:14:56.833631Z",
     "start_time": "2020-01-01T22:14:56.820840Z"
    }
   },
   "outputs": [],
   "source": [
    "class PropClass:\n",
    "\n",
    "    def __init__(self, x):\n",
    "        self._x = x\n",
    "\n",
    "    @property\n",
    "    def x(self):\n",
    "        return self._x"
   ]
  },
  {
   "cell_type": "markdown",
   "metadata": {},
   "source": [
    "We can now create an instance of `PropClass`, and access the value of `_x` by \"calling\" the decorated `x` method without the brackets characteristic of function calls:"
   ]
  },
  {
   "cell_type": "code",
   "execution_count": 49,
   "metadata": {
    "ExecuteTime": {
     "end_time": "2020-01-01T22:14:59.403215Z",
     "start_time": "2020-01-01T22:14:59.397142Z"
    }
   },
   "outputs": [
    {
     "data": {
      "text/plain": [
       "12.3"
      ]
     },
     "execution_count": 49,
     "metadata": {},
     "output_type": "execute_result"
    }
   ],
   "source": [
    "c = PropClass(12.3)\n",
    "c.x"
   ]
  },
  {
   "cell_type": "markdown",
   "metadata": {},
   "source": [
    "One use case is, when you want to protect the value of `_x`, and want to prevent accidental changes: if you want to write to the `x` property, you'll get a nicely-formatted exception:"
   ]
  },
  {
   "cell_type": "code",
   "execution_count": 50,
   "metadata": {
    "ExecuteTime": {
     "end_time": "2020-01-01T22:15:47.921064Z",
     "start_time": "2020-01-01T22:15:47.905318Z"
    }
   },
   "outputs": [
    {
     "ename": "AttributeError",
     "evalue": "can't set attribute",
     "output_type": "error",
     "traceback": [
      "\u001b[0;31m---------------------------------------------------------------------------\u001b[0m",
      "\u001b[0;31mAttributeError\u001b[0m                            Traceback (most recent call last)",
      "\u001b[0;32m<ipython-input-50-63b5601caccb>\u001b[0m in \u001b[0;36m<module>\u001b[0;34m\u001b[0m\n\u001b[0;32m----> 1\u001b[0;31m \u001b[0mc\u001b[0m\u001b[0;34m.\u001b[0m\u001b[0mx\u001b[0m \u001b[0;34m=\u001b[0m \u001b[0;36m55.5\u001b[0m\u001b[0;34m\u001b[0m\u001b[0;34m\u001b[0m\u001b[0m\n\u001b[0m",
      "\u001b[0;31mAttributeError\u001b[0m: can't set attribute"
     ]
    }
   ],
   "source": [
    "c.x = 55.5"
   ]
  },
  {
   "cell_type": "markdown",
   "metadata": {},
   "source": [
    "It is nifty, isn't it? Now, let us see, how we can deal with this in micropython. In order to simplify things, we will implement what we have just seen above: a class that holds a single floating point value, and does nothing else. \n",
    "\n",
    "Most of the code should be familiar from our first example on classes, so I will discuss the single new function that is relevant to properties. At the C level, a property is nothing but a void function with exactly three arguments\n",
    "\n",
    "```c\n",
    "STATIC void some_attr(mp_obj_t self_in, qstr attribute, mp_obj_t *destination) {\n",
    "    ...\n",
    "}\n",
    "```\n",
    "\n",
    "where `self_in` is the class instance, `attribute` is a string with the property's name, and `destination` is a pointer to the return value of the function that is going to be called, when querying for the property. So, in the python example above, `attribute` is `x`, because we queried the `x` property, and `destination` will be the equivalent of `self._x`, because `self._x` is what is returned by the `PropClass.x()` method.\n",
    "\n",
    "In the C function, we do not return anything, instead, we assign the desired property (attribute) of the class to `destination[0]` as in the snippet below:\n",
    "\n",
    "```c\n",
    "STATIC void propertyclass_attr(mp_obj_t self, qstr attribute, mp_obj_t *destination) {\n",
    "    if(attribute == MP_QSTR_x) {\n",
    "        destination[0] = propertyclass_x(self);\n",
    "    }\n",
    "}\n",
    "```\n",
    "\n",
    "The `qstr` is required, because a class might have multiple properties, but all these properties are retrieved by a single function, `propertyclass_attr`. Thus, should we want to return another property with name `y`, we would augment the function as \n",
    "\n",
    "```c\n",
    "STATIC void propertyclass_attr(mp_obj_t self, qstr attribute, mp_obj_t *destination) {\n",
    "    if(attribute == MP_QSTR_x) {\n",
    "        destination[0] = propertyclass_x(self);\n",
    "    } else if(attribute == MP_QSTR_y) {\n",
    "        destination[0] = propertyclass_y(self);\n",
    "    }\n",
    "}\n",
    "```\n",
    "Now, we are almost done, but we still have to implement the function that actually retrieves the attribute. This is what happens here:\n",
    "\n",
    "```c\n",
    "STATIC mp_obj_t propertyclass_x(mp_obj_t self_in) {\n",
    "    propertyclass_obj_t *self = MP_OBJ_TO_PTR(self_in);\n",
    "    return mp_obj_new_float(self->x);\n",
    "}\n",
    "```\n",
    "\n",
    "Remember, `destination` was a pointer to `mp_obj_t`, so whatever function we have, it must return `mp_obj_t`. In this particular case, the implementation is trivial: we fetch the value of `self->x`, and turn it into an `mp_obj_new_float`. \n",
    "\n",
    "We are now done, right? Not quite: while the required functions are implemented, they will never be called. We have to attach them to the class, so that the interpreter knows what is to do, when we try to access `c.x`. This act of attaching the function happens in the type definition of the class: we equate the `.attr` member of the structure with our `propertyclass_attr` functions, so that the interpreter can fill in the three arguments. \n",
    "\n",
    "And with that, we are ready to compile the code."
   ]
  },
  {
   "cell_type": "code",
   "execution_count": 67,
   "metadata": {
    "ExecuteTime": {
     "end_time": "2020-01-02T07:02:06.806470Z",
     "start_time": "2020-01-02T07:02:06.755307Z"
    }
   },
   "outputs": [
    {
     "name": "stdout",
     "output_type": "stream",
     "text": [
      "written 2205 bytes to /properties/properties.c\n"
     ]
    }
   ],
   "source": [
    "%%ccode /properties/properties.c\n",
    "\n",
    "#include <stdio.h>\n",
    "#include \"py/runtime.h\"\n",
    "#include \"py/obj.h\"\n",
    "\n",
    "typedef struct _propertyclass_obj_t {\n",
    "    mp_obj_base_t base;\n",
    "    mp_float_t x;\n",
    "} propertyclass_obj_t;\n",
    "\n",
    "const mp_obj_type_t propertyclass_type;\n",
    "\n",
    "STATIC mp_obj_t propertyclass_make_new(const mp_obj_type_t *type, size_t n_args, size_t n_kw, const mp_obj_t *args) {\n",
    "    mp_arg_check_num(n_args, n_kw, 1, 1, true);\n",
    "    propertyclass_obj_t *self = m_new_obj(propertyclass_obj_t);\n",
    "    self->base.type = &propertyclass_type;\n",
    "    self->x = mp_obj_get_float(args[0]);\n",
    "    return MP_OBJ_FROM_PTR(self);\n",
    "}\n",
    "\n",
    "STATIC mp_obj_t propertyclass_x(mp_obj_t self_in) {\n",
    "    propertyclass_obj_t *self = MP_OBJ_TO_PTR(self_in);\n",
    "    return mp_obj_new_float(self->x);\n",
    "}\n",
    "\n",
    "MP_DEFINE_CONST_FUN_OBJ_1(propertyclass_x_obj, propertyclass_x);\n",
    "\n",
    "STATIC const mp_rom_map_elem_t propertyclass_locals_dict_table[] = {\n",
    "    { MP_ROM_QSTR(MP_QSTR_x), MP_ROM_PTR(&propertyclass_x_obj) },\n",
    "};\n",
    "\n",
    "STATIC MP_DEFINE_CONST_DICT(propertyclass_locals_dict, propertyclass_locals_dict_table);\n",
    "\n",
    "STATIC void propertyclass_attr(mp_obj_t self_in, qstr attribute, mp_obj_t *destination) {\n",
    "    if(attribute == MP_QSTR_x) {\n",
    "        destination[0] = propertyclass_x(self_in);\n",
    "    }\n",
    "}\n",
    "\n",
    "const mp_obj_type_t propertyclass_type = {\n",
    "    { &mp_type_type },\n",
    "    .name = MP_QSTR_propertyclass,\n",
    "    .make_new = propertyclass_make_new,\n",
    "    .attr = propertyclass_attr,\n",
    "    .locals_dict = (mp_obj_dict_t*)&propertyclass_locals_dict,\n",
    "};\n",
    "\n",
    "STATIC const mp_map_elem_t propertyclass_globals_table[] = {\n",
    "    { MP_OBJ_NEW_QSTR(MP_QSTR___name__), MP_OBJ_NEW_QSTR(MP_QSTR_propertyclass) },\n",
    "    { MP_OBJ_NEW_QSTR(MP_QSTR_propertyclass), (mp_obj_t)&propertyclass_type },\t\n",
    "};\n",
    "\n",
    "STATIC MP_DEFINE_CONST_DICT (\n",
    "    mp_module_propertyclass_globals,\n",
    "    propertyclass_globals_table\n",
    ");\n",
    "\n",
    "const mp_obj_module_t propertyclass_user_cmodule = {\n",
    "    .base = { &mp_type_module },\n",
    "    .globals = (mp_obj_dict_t*)&mp_module_propertyclass_globals,\n",
    "};\n",
    "\n",
    "MP_REGISTER_MODULE(MP_QSTR_propertyclass, propertyclass_user_cmodule, MODULE_PROPERTYCLASS_ENABLED);"
   ]
  },
  {
   "cell_type": "markdown",
   "metadata": {},
   "source": [
    "Before we compile the module, I would like to add two comments to what was said above. \n",
    "\n",
    "First, in the function that we assigned to `.attr`, \n",
    "\n",
    "```c\n",
    "STATIC void propertyclass_attr(mp_obj_t self_in, qstr attribute, mp_obj_t *destination) {\n",
    "    if(attribute == MP_QSTR_x) {\n",
    "        destination[0] = propertyclass_x(self_in);\n",
    "    }\n",
    "}\n",
    "```\n",
    "we called a function on `self_in`, `propertyclass_x()`, and assigned the results to `destination[0]`. However, this extra trip is not absolutely necessary: we could have equally done something along these lines:\n",
    "\n",
    "```c\n",
    "STATIC void propertyclass_attr(mp_obj_t self_in, qstr attribute, mp_obj_t *destination) {\n",
    "    if(attribute == MP_QSTR_x) {\n",
    "        propertyclass_obj_t *self = MP_OBJ_TO_PTR(self_in);\n",
    "        destination[0] = mp_obj_new_float(self->x);\n",
    "    }\n",
    "}\n",
    "```\n",
    "The case in point being that `destination[0]` is simply an `mp_obj_t` object, it does not matter, where and how it is produced. Since `self` is available to `propertyclass_attr`, if the property is simple, as above, one can save the function call, and do everything in place.\n",
    "\n",
    "Second, more examples on implementing properties can be found in [py/profile.c](https://github.com/micropython/micropython/blob/master/py/profile.c). Just look for the `.attr` string, and the associated functions!"
   ]
  },
  {
   "cell_type": "code",
   "execution_count": null,
   "metadata": {
    "ExecuteTime": {
     "end_time": "2020-01-06T06:59:03.409467Z",
     "start_time": "2020-01-06T06:59:03.393899Z"
    }
   },
   "outputs": [],
   "source": [
    "%%makefile /properties/properties.c\n",
    "\n",
    "USERMODULES_DIR := $(USERMOD_DIR)\n",
    "\n",
    "# Add all C files to SRC_USERMOD.\n",
    "SRC_USERMOD += $(USERMODULES_DIR)/properties.c\n",
    "\n",
    "CFLAGS_USERMOD += -I$(USERMODULES_DIR)"
   ]
  },
  {
   "cell_type": "code",
   "execution_count": null,
   "metadata": {
    "ExecuteTime": {
     "end_time": "2020-01-02T07:02:49.386912Z",
     "start_time": "2020-01-02T07:02:11.264134Z"
    },
    "scrolled": false
   },
   "outputs": [],
   "source": [
    "!make clean\n",
    "!make USER_C_MODULES=../../../usermod/snippets CFLAGS_EXTRA=-DMODULE_PROPERTYCLASS_ENABLED=1 all"
   ]
  },
  {
   "cell_type": "code",
   "execution_count": 69,
   "metadata": {
    "ExecuteTime": {
     "end_time": "2020-01-02T07:23:00.816053Z",
     "start_time": "2020-01-02T07:23:00.458819Z"
    }
   },
   "outputs": [
    {
     "name": "stdout",
     "output_type": "stream",
     "text": [
      "12.3\n",
      "\n",
      "\n"
     ]
    }
   ],
   "source": [
    "%%micropython \n",
    "\n",
    "import propertyclass\n",
    "a = propertyclass.propertyclass(12.3)\n",
    "\n",
    "print(a.x)"
   ]
  },
  {
   "cell_type": "markdown",
   "metadata": {},
   "source": [
    "# Creating new types\n",
    "\n",
    "Sometimes you might need something beyond the standard python data types, and you have to define your own. At first, the task seems daunting, but types are really nothing but a C structure with a couple of special fields. The steps required are very similar to those for classes. Take the following type definition, which could be regarded as the Cartesian components of a vector in three-dimensional space: \n",
    "\n",
    "```c\n",
    "typedef struct _vector_obj_t {\n",
    "\tmp_obj_base_t base;\n",
    "\tfloat x, y, z;\n",
    "} vector_obj_t;\n",
    "```\n",
    "\n",
    "Now, in order to see, how we can work with this structure, we are going to define a new type that simply stores the three values. The module will also have a method called `length`, returning the absolute value of the vector. Also note that here we check the type of the argument, and bail out, if it is not a vector. The beauty of all this is that once the type is defined, the available micropython methods just work. Can you still recall the \n",
    "```c\n",
    "mp_obj_is_type(myobject, &my_type)\n",
    "```\n",
    "macro in Section [Type checking?](#Type-checking) I thought so."
   ]
  },
  {
   "cell_type": "markdown",
   "metadata": {},
   "source": [
    "We have our vector structure at the C level. It has four members: an `mp_obj_base_t`, and three floats called `x`, `y`, and `z`. But this is still not usable in the python interpreter. We have to somehow tell the interpreter, what it is supposed to do with this new type, and how a variable of this type is to be presented to the user. This is, where the structure\n",
    "\n",
    "```c\n",
    "const mp_obj_type_t vector_type = {\n",
    "    { &mp_type_type },\n",
    "    .name = MP_QSTR_vector,\n",
    "    .print = vector_print,\n",
    "    .make_new = vector_make_new,\n",
    "};\n",
    "```\n",
    "takes centre stage. Does this look familiar? This structure contains the new type's name (a string, `vector`), how it presents itself to users (a function, `vector_print`), and how a new instance is to be created (a function, `vector_make_new`). These latter two we have to implement ourselves. \n",
    "\n",
    "In `vector_print` we have three arguments, namely `const mp_print_t *print`, which is a helper that we don't call, \n",
    "`mp_obj_t self_in` which is a reference to the vector itself, and `mp_print_kind_t kind`, which we can graciously ignore, because we are not going to use it anyway."
   ]
  },
  {
   "cell_type": "markdown",
   "metadata": {},
   "source": [
    "Having seen the bits and pieces, we should build some new firmware.  "
   ]
  },
  {
   "cell_type": "code",
   "execution_count": 71,
   "metadata": {
    "ExecuteTime": {
     "end_time": "2020-01-03T14:21:00.568504Z",
     "start_time": "2020-01-03T14:21:00.563788Z"
    }
   },
   "outputs": [
    {
     "name": "stdout",
     "output_type": "stream",
     "text": [
      "written 2418 bytes to /vector/vector.c\n"
     ]
    }
   ],
   "source": [
    "%%ccode /vector/vector.c\n",
    "\n",
    "#include <math.h>\n",
    "#include <stdio.h>\n",
    "#include \"py/obj.h\"\n",
    "#include \"py/runtime.h\"\n",
    "\n",
    "const mp_obj_type_t vector_type;\n",
    "\n",
    "typedef struct _vector_obj_t {\n",
    "    mp_obj_base_t base;\n",
    "    float x, y, z;\n",
    "} vector_obj_t;\n",
    "\n",
    "STATIC mp_obj_t vector_length(mp_obj_t o_in) {\n",
    "    if(!mp_obj_is_type(o_in, &vector_type)) {\n",
    "        mp_raise_TypeError(\"argument is not a vector\");\n",
    "    }\n",
    "    vector_obj_t *vector = MP_OBJ_TO_PTR(o_in);\n",
    "    return mp_obj_new_float(sqrtf(vector->x*vector->x + vector->y*vector->y + vector->z*vector->z));\n",
    "}\n",
    "\n",
    "STATIC MP_DEFINE_CONST_FUN_OBJ_1(vector_length_obj, vector_length);\n",
    "\n",
    "STATIC void vector_print(const mp_print_t *print, mp_obj_t self_in, mp_print_kind_t kind) {\n",
    "    (void)kind;\n",
    "    vector_obj_t *self = MP_OBJ_TO_PTR(self_in);\n",
    "    mp_print_str(print, \"vector(\");\n",
    "    mp_obj_print_helper(print, mp_obj_new_float(self->x), PRINT_REPR);\n",
    "    mp_print_str(print, \", \");\n",
    "    mp_obj_print_helper(print, mp_obj_new_float(self->y), PRINT_REPR);\n",
    "    mp_print_str(print, \", \");\n",
    "    mp_obj_print_helper(print, mp_obj_new_float(self->z), PRINT_REPR);\n",
    "    mp_print_str(print, \")\");\n",
    "}\n",
    "\n",
    "STATIC mp_obj_t vector_make_new(const mp_obj_type_t *type, size_t n_args, size_t n_kw, const mp_obj_t *args) {\n",
    "    mp_arg_check_num(n_args, n_kw, 3, 3, true);\n",
    "    \n",
    "    vector_obj_t *vector = m_new_obj(vector_obj_t);\n",
    "    vector->base.type = &vector_type;\n",
    "    vector->x = mp_obj_get_float(args[0]);\n",
    "    vector->y = mp_obj_get_float(args[1]);\n",
    "    vector->z = mp_obj_get_float(args[2]);\n",
    "    return MP_OBJ_FROM_PTR(vector);\n",
    "}\n",
    "\n",
    "const mp_obj_type_t vector_type = {\n",
    "    { &mp_type_type },\n",
    "    .name = MP_QSTR_vector,\n",
    "    .print = vector_print,\n",
    "    .make_new = vector_make_new,\n",
    "};\n",
    "\n",
    "STATIC const mp_rom_map_elem_t vector_module_globals_table[] = {\n",
    "    { MP_ROM_QSTR(MP_QSTR___name__), MP_ROM_QSTR(MP_QSTR_vector) },\n",
    "    { MP_OBJ_NEW_QSTR(MP_QSTR_vector), (mp_obj_t)&vector_type },\n",
    "    { MP_ROM_QSTR(MP_QSTR_length), MP_ROM_PTR(&vector_length_obj) },\n",
    "};\n",
    "STATIC MP_DEFINE_CONST_DICT(vector_module_globals, vector_module_globals_table);\n",
    "\n",
    "const mp_obj_module_t vector_user_cmodule = {\n",
    "    .base = { &mp_type_module },\n",
    "    .globals = (mp_obj_dict_t*)&vector_module_globals,\n",
    "};\n",
    "\n",
    "MP_REGISTER_MODULE(MP_QSTR_vector, vector_user_cmodule, MODULE_VECTOR_ENABLED);"
   ]
  },
  {
   "cell_type": "code",
   "execution_count": null,
   "metadata": {
    "ExecuteTime": {
     "end_time": "2020-01-06T06:59:09.774268Z",
     "start_time": "2020-01-06T06:59:09.770992Z"
    }
   },
   "outputs": [],
   "source": [
    "%%makefile /vector/vector.c\n",
    "\n",
    "USERMODULES_DIR := $(USERMOD_DIR)\n",
    "\n",
    "# Add all C files to SRC_USERMOD.\n",
    "SRC_USERMOD += $(USERMODULES_DIR)/vector.c\n",
    "\n",
    "CFLAGS_USERMOD += -I$(USERMODULES_DIR)"
   ]
  },
  {
   "cell_type": "code",
   "execution_count": null,
   "metadata": {
    "ExecuteTime": {
     "end_time": "2020-01-03T13:37:31.664188Z",
     "start_time": "2020-01-03T13:37:09.440135Z"
    },
    "scrolled": false
   },
   "outputs": [],
   "source": [
    "!make clean\n",
    "!make USER_C_MODULES=../../../usermod/snippets CFLAGS_EXTRA=-DMODULE_VECTOR_ENABLED=1 all"
   ]
  },
  {
   "cell_type": "code",
   "execution_count": 27,
   "metadata": {
    "ExecuteTime": {
     "end_time": "2020-01-03T13:37:55.606303Z",
     "start_time": "2020-01-03T13:37:55.596686Z"
    }
   },
   "outputs": [
    {
     "name": "stdout",
     "output_type": "stream",
     "text": [
      "vector(1.0, 20.0, 30.0)\n",
      "36.06937789916993\n",
      "\n",
      "\n"
     ]
    }
   ],
   "source": [
    "%%micropython\n",
    "\n",
    "import vector\n",
    "\n",
    "a = vector.vector(1, 20, 30)\n",
    "print(a)\n",
    "print(vector.length(a))"
   ]
  },
  {
   "cell_type": "markdown",
   "metadata": {},
   "source": [
    "Just to convince ourselves, when calculated in python proper, the length of the vector is"
   ]
  },
  {
   "cell_type": "code",
   "execution_count": 92,
   "metadata": {
    "ExecuteTime": {
     "end_time": "2019-08-06T15:54:19.754506Z",
     "start_time": "2019-08-06T15:54:19.748369Z"
    }
   },
   "outputs": [
    {
     "name": "stdout",
     "output_type": "stream",
     "text": [
      "36.069377593742864\n"
     ]
    }
   ],
   "source": [
    "import math\n",
    "\n",
    "print(math.sqrt(1**2 + 20**2 + 30**2))"
   ]
  },
  {
   "cell_type": "markdown",
   "metadata": {},
   "source": [
    "Close enough. "
   ]
  },
  {
   "cell_type": "markdown",
   "metadata": {},
   "source": [
    "# Dealing with iterables\n",
    "\n",
    "\n",
    "Without going too deeply into specifics, in python, an iterable is basically an object that you can have in a `for` loop:\n",
    "\n",
    "```python\n",
    "for item in my_iterable:\n",
    "    print(item)\n",
    "```\n",
    "\n",
    "Amongst others, lists, tuples, and ranges are iterables, as are strings. The key is that these objects have a special internal method, an iterator, attached to them. This iterator is responsible for keeping track of the index during the iteration, and serving the objects in the iterable one by one to the `for` loop. When writing our own iterable, we will look under the hood, and see how this all works at the C level. For now, we are going to discuss only, how we can *consume* the content of an iterable in the C code. \n",
    "\n",
    "## Iterating over built-in types\n",
    "\n",
    "In order to demonstrate the use of an iterator, we are going to write a function that sums the square of the values in an iterable. The python version of the function could be something like this: "
   ]
  },
  {
   "cell_type": "code",
   "execution_count": 96,
   "metadata": {
    "ExecuteTime": {
     "end_time": "2019-07-24T18:14:24.042290Z",
     "start_time": "2019-07-24T18:14:24.032120Z"
    }
   },
   "outputs": [
    {
     "data": {
      "text/plain": [
       "385"
      ]
     },
     "execution_count": 96,
     "metadata": {},
     "output_type": "execute_result"
    }
   ],
   "source": [
    "def sumsq(some_iterable):\n",
    "    return sum([item**2 for item in some_iterable])\n",
    "\n",
    "sumsq([1, 2, 3, 4, 5, 6, 7, 8, 9, 10])"
   ]
  },
  {
   "cell_type": "markdown",
   "metadata": {},
   "source": [
    "In C, the key is in the snippet\n",
    "\n",
    "```c\n",
    "mp_obj_iter_buf_t iter_buf;\n",
    "mp_obj_t item, iterable = mp_getiter(o_in, &iter_buf);\n",
    "while ((item = mp_iternext(iterable)) != MP_OBJ_STOP_ITERATION) {\n",
    "    // do something with the item just retrieved\n",
    "}\n",
    "```\n",
    "This is more or less the equivalent of the `for item in some_iterable` instruction. In C, the `mp_obj_t` object `o_in` is the argument of our python function, which is turned into an iterable by passing it into the `mp_getiter` function. This function also needs a buffer object that is of type `mp_obj_iter_buf_t`. The buffer type is defined in `obj.h` as \n",
    "\n",
    "```c\n",
    "typedef struct _mp_obj_iter_buf_t {\n",
    "    mp_obj_base_t base;\n",
    "    mp_obj_t buf[3];\n",
    "} mp_obj_iter_buf_t;\n",
    "\n",
    "```\n",
    "where `.buf[2]` holds the index value, and this is how `mp_iternext` keeps track of the position in the loop. \n",
    "\n",
    "Once `item` is retrieved, the rest of the code is trivial: you do whatever you want to do with the value, and return at the very end. \n",
    "\n",
    "Now, what happens, if you pass a non-iterable object to the function? For a while, nothing. Everything will work till the point `item = mp_iternext(iterable)`, where the interpreter will raise a `TypeError` exception. So, on the python console, you can either enclose your function in a \n",
    "\n",
    "```python\n",
    "try:\n",
    "    sumsq(some_iterable)\n",
    "except TypeError:\n",
    "    print('something went terribly wrong`)\n",
    "```\n",
    "\n",
    "construct, or you can inspect the type of the variable at the C level. Unfortunately, there does not seem to be a type identifier for iterables in general, so you have to check, whether the argument is a list, tuple, range, etc. This can be done by calling the `mp_obj_is_type` macro, and see which Boolean it returns, if you pass `&mp_type_tuple`, `&mp_type_list`, `&mp_type_range` etc. to it, as we discussed in the section [Object representation](#Object-representation). \n",
    "\n",
    "The complete code listing of `consumeiterable.c` follows below. If you ask me, this is a lot of code just to replace a python one-liner."
   ]
  },
  {
   "cell_type": "code",
   "execution_count": 93,
   "metadata": {
    "ExecuteTime": {
     "end_time": "2019-08-06T15:55:41.819512Z",
     "start_time": "2019-08-06T15:55:41.802052Z"
    }
   },
   "outputs": [
    {
     "name": "stdout",
     "output_type": "stream",
     "text": [
      "written 1272 bytes to /consumeiterable/consumeiterable.c\n"
     ]
    }
   ],
   "source": [
    "%%ccode /consumeiterable/consumeiterable.c\n",
    "\n",
    "#include \"py/obj.h\"\n",
    "#include \"py/runtime.h\"\n",
    "\n",
    "STATIC mp_obj_t consumeiterable_sumsq(mp_obj_t o_in) {\n",
    "    mp_float_t _sum = 0.0, itemf;\n",
    "    mp_obj_iter_buf_t iter_buf;\n",
    "    mp_obj_t item, iterable = mp_getiter(o_in, &iter_buf);\n",
    "    while ((item = mp_iternext(iterable)) != MP_OBJ_STOP_ITERATION) {\n",
    "        itemf = mp_obj_get_float(item);\n",
    "        _sum += itemf*itemf;\n",
    "    }\n",
    "    return mp_obj_new_float(_sum);\n",
    "}\n",
    "\n",
    "STATIC MP_DEFINE_CONST_FUN_OBJ_1(consumeiterable_sumsq_obj, consumeiterable_sumsq);\n",
    "\n",
    "STATIC const mp_rom_map_elem_t consumeiterable_module_globals_table[] = {\n",
    "    { MP_ROM_QSTR(MP_QSTR___name__), MP_ROM_QSTR(MP_QSTR_consumeiterable) },\n",
    "    { MP_ROM_QSTR(MP_QSTR_sumsq), MP_ROM_PTR(&consumeiterable_sumsq_obj) },\n",
    "};\n",
    "STATIC MP_DEFINE_CONST_DICT(consumeiterable_module_globals, consumeiterable_module_globals_table);\n",
    "\n",
    "const mp_obj_module_t consumeiterable_user_cmodule = {\n",
    "    .base = { &mp_type_module },\n",
    "    .globals = (mp_obj_dict_t*)&consumeiterable_module_globals,\n",
    "};\n",
    "\n",
    "MP_REGISTER_MODULE(MP_QSTR_consumeiterable, consumeiterable_user_cmodule, MODULE_CONSUMEITERABLE_ENABLED);"
   ]
  },
  {
   "cell_type": "code",
   "execution_count": null,
   "metadata": {
    "ExecuteTime": {
     "end_time": "2020-01-06T06:59:15.247759Z",
     "start_time": "2020-01-06T06:59:15.237125Z"
    }
   },
   "outputs": [],
   "source": [
    "%%makefile /consumeiterable/consumeiterable.c\n",
    "\n",
    "USERMODULES_DIR := $(USERMOD_DIR)\n",
    "\n",
    "# Add all C files to SRC_USERMOD.\n",
    "SRC_USERMOD += $(USERMODULES_DIR)/consumeiterable.c\n",
    "\n",
    "CFLAGS_USERMOD += -I$(USERMODULES_DIR)"
   ]
  },
  {
   "cell_type": "code",
   "execution_count": null,
   "metadata": {
    "ExecuteTime": {
     "end_time": "2019-08-07T04:51:03.672728Z",
     "start_time": "2019-08-07T04:50:46.434924Z"
    },
    "scrolled": false
   },
   "outputs": [],
   "source": [
    "!make clean\n",
    "!make USER_C_MODULES=../../../usermod/snippets CFLAGS_EXTRA=-DMODULE_CONSUMEITERABLE_ENABLED=1 all"
   ]
  },
  {
   "cell_type": "code",
   "execution_count": 96,
   "metadata": {
    "ExecuteTime": {
     "end_time": "2019-08-07T04:51:06.032931Z",
     "start_time": "2019-08-07T04:51:06.018932Z"
    }
   },
   "outputs": [
    {
     "name": "stdout",
     "output_type": "stream",
     "text": [
      "[1, 2, 3, 4, 5, 6, 7, 8, 9, 10]\n",
      "385.0\n",
      "\n",
      "\n"
     ]
    }
   ],
   "source": [
    "%%micropython\n",
    "\n",
    "import consumeiterable\n",
    "\n",
    "a = [1, 2, 3, 4, 5, 6, 7, 8, 9, 10]\n",
    "print(a)\n",
    "print(consumeiterable.sumsq(a))"
   ]
  },
  {
   "cell_type": "markdown",
   "metadata": {},
   "source": [
    "## Returning iterables\n",
    "\n",
    "Let us suppose that the result of some operation is an iterable, e.g., a tuple, or a list. How would we return such an object? How about a function that returns the powers of its argument? In python"
   ]
  },
  {
   "cell_type": "code",
   "execution_count": 9,
   "metadata": {
    "ExecuteTime": {
     "end_time": "2019-07-18T05:28:14.059085Z",
     "start_time": "2019-07-18T05:28:14.050803Z"
    }
   },
   "outputs": [
    {
     "data": {
      "text/plain": [
       "[1, 2, 4, 8, 16, 32, 64, 128, 256, 512, 1024]"
      ]
     },
     "execution_count": 9,
     "metadata": {},
     "output_type": "execute_result"
    }
   ],
   "source": [
    "def powerit(base, exponent):\n",
    "    return [base**e for e in range(0, exponent+1)]\n",
    "\n",
    "powerit(2, 10)"
   ]
  },
  {
   "cell_type": "markdown",
   "metadata": {},
   "source": [
    "and in C,"
   ]
  },
  {
   "cell_type": "code",
   "execution_count": 98,
   "metadata": {
    "ExecuteTime": {
     "end_time": "2019-08-07T04:53:11.282539Z",
     "start_time": "2019-08-07T04:53:11.275264Z"
    }
   },
   "outputs": [
    {
     "name": "stdout",
     "output_type": "stream",
     "text": [
      "written 1194 bytes to /returniterable/returniterable.c\n"
     ]
    }
   ],
   "source": [
    "%%ccode /returniterable/returniterable.c\n",
    "\n",
    "#include \"py/obj.h\"\n",
    "#include \"py/runtime.h\"\n",
    "\n",
    "STATIC mp_obj_t powers_iterable(mp_obj_t base, mp_obj_t exponent) {\n",
    "    int e = mp_obj_get_int(exponent);\n",
    "    mp_obj_t tuple[e+1];\n",
    "    int b = mp_obj_get_int(base), ba = 1;\n",
    "    for(int i=0; i <= e; i++) {\n",
    "        tuple[i] = mp_obj_new_int(ba);\n",
    "        ba *= b;\n",
    "    }\n",
    "    return mp_obj_new_tuple(e+1, tuple);\n",
    "}\n",
    "\n",
    "STATIC MP_DEFINE_CONST_FUN_OBJ_2(powers_iterable_obj, powers_iterable);\n",
    "\n",
    "STATIC const mp_rom_map_elem_t returniterable_module_globals_table[] = {\n",
    "    { MP_ROM_QSTR(MP_QSTR___name__), MP_ROM_QSTR(MP_QSTR_returniterable) },\n",
    "    { MP_ROM_QSTR(MP_QSTR_powers), MP_ROM_PTR(&powers_iterable_obj) },\n",
    "};\n",
    "STATIC MP_DEFINE_CONST_DICT(returniterable_module_globals, returniterable_module_globals_table);\n",
    "\n",
    "const mp_obj_module_t returniterable_user_cmodule = {\n",
    "    .base = { &mp_type_module },\n",
    "    .globals = (mp_obj_dict_t*)&returniterable_module_globals,\n",
    "};\n",
    "\n",
    "MP_REGISTER_MODULE(MP_QSTR_returniterable, returniterable_user_cmodule, MODULE_RETURNITERABLE_ENABLED);"
   ]
  },
  {
   "cell_type": "markdown",
   "metadata": {},
   "source": [
    "As everything else, the elements of tuples and lists are objects of type `mp_obj_t`, so, after finding out how far we have got to go with the exponents, we declare an array of the required length.  Values are generated and assigned in the `for` loop. Since on the left hand side of the assignment we have an `mp_obj_t`, we convert the results with `mp_obj_new_int`. Once we are done with the computations, we return the array with `mp_obj_new_tuple`. This functions takes the array as the second argument, while the first argument specifies the length. \n",
    "\n",
    "If you happen to want to return a list instead of a tuple, all you have to do is use `mp_obj_new_list` instead at the very end. "
   ]
  },
  {
   "cell_type": "code",
   "execution_count": null,
   "metadata": {
    "ExecuteTime": {
     "end_time": "2020-01-06T06:59:20.054801Z",
     "start_time": "2020-01-06T06:59:20.047265Z"
    }
   },
   "outputs": [],
   "source": [
    "%%makefile /returniterable/returniterable.c\n",
    "\n",
    "USERMODULES_DIR := $(USERMOD_DIR)\n",
    "\n",
    "# Add all C files to SRC_USERMOD.\n",
    "SRC_USERMOD += $(USERMODULES_DIR)/returniterable.c\n",
    "\n",
    "CFLAGS_USERMOD += -I$(USERMODULES_DIR)"
   ]
  },
  {
   "cell_type": "code",
   "execution_count": null,
   "metadata": {
    "ExecuteTime": {
     "end_time": "2019-08-07T04:53:50.582282Z",
     "start_time": "2019-08-07T04:53:33.965017Z"
    }
   },
   "outputs": [],
   "source": [
    "!make clean\n",
    "!make USER_C_MODULES=../../../usermod/snippets CFLAGS_EXTRA=-DMODULE_RETURNITERABLE_ENABLED=1 all"
   ]
  },
  {
   "cell_type": "code",
   "execution_count": 100,
   "metadata": {
    "ExecuteTime": {
     "end_time": "2019-08-07T04:54:02.678166Z",
     "start_time": "2019-08-07T04:54:02.663506Z"
    }
   },
   "outputs": [
    {
     "name": "stdout",
     "output_type": "stream",
     "text": [
      "(1, 3, 9, 27, 81, 243, 729, 2187, 6561, 19683, 59049)\n",
      "\n",
      "\n"
     ]
    }
   ],
   "source": [
    "%%micropython\n",
    "\n",
    "import returniterable\n",
    "print(returniterable.powers(3, 10))"
   ]
  },
  {
   "cell_type": "markdown",
   "metadata": {},
   "source": [
    "## Creating iterables\n",
    "\n",
    "Having seen how we can consume the elements in an iterable, it is time to explore what this `.getiter` magic is doing. So, let us create a new type, `itarray`, and make it iterable! This new type will have a constructor method,`square`, generating 16-bit integers, where the values are simply the squares of the indices, i.e., 1, 4, 9, 16... We are interested only in the iterability of the object, and for this reason, we will implement only the `.getiter` special method, and skip `.binary_op`, and `.unary_op`. If needed, these can easily be added based on the discussion in Special methods of classes. \n",
    "\n",
    "Before listing the complete code, we discuss the relevant code snippets. The first chunk is the assignment of `.getiter` in the `iterable_array_type` structure. `.getiter` will be made equal to a function called `iterarray_getiter`, which simply returns `mp_obj_new_itarray_iterator`. Why can't we simply assign `mp_obj_new_itarray_iterator`, instead of wrapping it in `iterarray_getiter`? The reason for that is that `iterarray_getiter` has a strict signature, and we want to pass an extra argument, 0. This is nothing but the very first index in the sequence. \n",
    "\n",
    "```c\n",
    "STATIC mp_obj_t itarray_getiter(mp_obj_t o_in, mp_obj_iter_buf_t *iter_buf) {\n",
    "    return mp_obj_new_itarray_iterator(o_in, 0, iter_buf);\n",
    "}\n",
    "\n",
    "const mp_obj_type_t iterable_array_type = {\n",
    "    { &mp_type_type },\n",
    "    .name = MP_QSTR_itarray,\n",
    "    .print = itarray_print,\n",
    "    .make_new = itarray_make_new,\n",
    "    .getiter = itarray_getiter,\n",
    "};\n",
    "```\n",
    "So, it appears that we have to scrutinise `mp_obj_new_itarray_iterator`. This is a special object type in micropython, with a base type of `mp_type_polymorph_iter`. In addition, it holds a pointer to the `__next__` method, which is `itarray_iternext` in this case, stores a pointer to the variable (the one that we are iterating over), and the current index (which we initialised to 0 in `mp_obj_new_itarray_iterator`).\n",
    "\n",
    "```c\n",
    "mp_obj_t mp_obj_new_itarray_iterator(mp_obj_t itarray, size_t cur, mp_obj_iter_buf_t *iter_buf) {\n",
    "    assert(sizeof(mp_obj_itarray_it_t) <= sizeof(mp_obj_iter_buf_t));\n",
    "    mp_obj_itarray_it_t *o = (mp_obj_itarray_it_t*)iter_buf;\n",
    "    o->base.type = &mp_type_polymorph_iter;\n",
    "    o->iternext = itarray_iternext;\n",
    "    o->itarray = itarray;\n",
    "    o->cur = cur;\n",
    "    return MP_OBJ_FROM_PTR(o);\n",
    "}\n",
    "```\n",
    "`mp_obj_new_itarray_iterator` is not much more than a declaration and assignments. The object that we return is of type `mp_obj_itarray_it_t`, which has the above-mentioned structure\n",
    "\n",
    "```c\n",
    "// itarray iterator\n",
    "typedef struct _mp_obj_itarray_it_t {\n",
    "    mp_obj_base_t base;\n",
    "    mp_fun_1_t iternext;\n",
    "    mp_obj_t itarray;\n",
    "    size_t cur;\n",
    "} mp_obj_itarray_it_t;\n",
    "\n",
    "mp_obj_t itarray_iternext(mp_obj_t self_in) {\n",
    "    mp_obj_itarray_it_t *self = MP_OBJ_TO_PTR(self_in);\n",
    "    itarray_obj_t *itarray = MP_OBJ_TO_PTR(self->itarray);\n",
    "    if (self->cur < itarray->len) {\n",
    "\t\t// read the current value\n",
    "\t\tuint16_t *arr = itarray->elements;\n",
    "        mp_obj_t o_out = MP_OBJ_NEW_SMALL_INT(arr[self->cur]);\n",
    "        self->cur += 1;\n",
    "        return o_out;\n",
    "    } else {\n",
    "        return MP_OBJ_STOP_ITERATION;\n",
    "    }\n",
    "}\n",
    "```"
   ]
  },
  {
   "cell_type": "markdown",
   "metadata": {},
   "source": [
    "Now, the complete code in one chunk:"
   ]
  },
  {
   "cell_type": "code",
   "execution_count": 37,
   "metadata": {
    "ExecuteTime": {
     "end_time": "2020-01-03T13:44:57.153630Z",
     "start_time": "2020-01-03T13:44:57.146650Z"
    }
   },
   "outputs": [
    {
     "name": "stdout",
     "output_type": "stream",
     "text": [
      "written 3359 bytes to /makeiterable/makeiterable.c\n"
     ]
    }
   ],
   "source": [
    "%%ccode /makeiterable/makeiterable.c\n",
    "\n",
    "#include <stdlib.h>\n",
    "#include \"py/obj.h\"\n",
    "#include \"py/runtime.h\"\n",
    "\n",
    "typedef struct _itarray_obj_t {\n",
    "    mp_obj_base_t base;\n",
    "    mp_fun_1_t iternext;\n",
    "    uint16_t *elements;\n",
    "    size_t len;\n",
    "} itarray_obj_t;\n",
    "\n",
    "const mp_obj_type_t iterable_array_type;\n",
    "mp_obj_t mp_obj_new_itarray_iterator(mp_obj_t , size_t , mp_obj_iter_buf_t *);\n",
    "\n",
    "STATIC void itarray_print(const mp_print_t *print, mp_obj_t self_in, mp_print_kind_t kind) {\n",
    "    (void)kind;\n",
    "    itarray_obj_t *self = MP_OBJ_TO_PTR(self_in);\n",
    "    mp_print_str(print, \"itarray: \");\n",
    "    uint16_t i;\n",
    "    for(i=0; i < self->len-1; i++) {\n",
    "        mp_obj_print_helper(print, mp_obj_new_int(self->elements[i]), PRINT_REPR);\n",
    "        mp_print_str(print, \", \");\n",
    "    }\n",
    "    mp_obj_print_helper(print, mp_obj_new_int(self->elements[i]), PRINT_REPR);\n",
    "}\n",
    "\n",
    "STATIC mp_obj_t itarray_make_new(const mp_obj_type_t *type, size_t n_args, size_t n_kw, const mp_obj_t *args) {\n",
    "    mp_arg_check_num(n_args, n_kw, 1, 1, true);\n",
    "    itarray_obj_t *self = m_new_obj(itarray_obj_t);\n",
    "    self->base.type = &iterable_array_type;\n",
    "    self->len = mp_obj_get_int(args[0]);\n",
    "    uint16_t *arr = malloc(self->len * sizeof(uint16_t));\n",
    "    for(uint16_t i=0; i < self->len; i++) {\n",
    "        arr[i] = i*i;\n",
    "    }\n",
    "    self->elements = arr;\n",
    "    return MP_OBJ_FROM_PTR(self);\n",
    "}\n",
    "\n",
    "STATIC mp_obj_t itarray_getiter(mp_obj_t o_in, mp_obj_iter_buf_t *iter_buf) {\n",
    "    return mp_obj_new_itarray_iterator(o_in, 0, iter_buf);\n",
    "}\n",
    "\n",
    "const mp_obj_type_t iterable_array_type = {\n",
    "    { &mp_type_type },\n",
    "    .name = MP_QSTR_itarray,\n",
    "    .print = itarray_print,\n",
    "    .make_new = itarray_make_new,\n",
    "    .getiter = itarray_getiter,\n",
    "};\n",
    "\n",
    "STATIC const mp_rom_map_elem_t makeiterable_module_globals_table[] = {\n",
    "    { MP_ROM_QSTR(MP_QSTR___name__), MP_ROM_QSTR(MP_QSTR_makeiterable) },\n",
    "    { MP_OBJ_NEW_QSTR(MP_QSTR_square), (mp_obj_t)&iterable_array_type },\t\n",
    "};\n",
    "STATIC MP_DEFINE_CONST_DICT(makeiterable_module_globals, makeiterable_module_globals_table);\n",
    "\n",
    "const mp_obj_module_t makeiterable_user_cmodule = {\n",
    "    .base = { &mp_type_module },\n",
    "    .globals = (mp_obj_dict_t*)&makeiterable_module_globals,\n",
    "};\n",
    "\n",
    "MP_REGISTER_MODULE(MP_QSTR_makeiterable, makeiterable_user_cmodule, MODULE_MAKEITERABLE_ENABLED);\n",
    "\n",
    "// itarray iterator\n",
    "typedef struct _mp_obj_itarray_it_t {\n",
    "    mp_obj_base_t base;\n",
    "    mp_fun_1_t iternext;\n",
    "    mp_obj_t itarray;\n",
    "    size_t cur;\n",
    "} mp_obj_itarray_it_t;\n",
    "\n",
    "mp_obj_t itarray_iternext(mp_obj_t self_in) {\n",
    "    mp_obj_itarray_it_t *self = MP_OBJ_TO_PTR(self_in);\n",
    "    itarray_obj_t *itarray = MP_OBJ_TO_PTR(self->itarray);\n",
    "    if (self->cur < itarray->len) {\n",
    "        // read the current value\n",
    "        uint16_t *arr = itarray->elements;\n",
    "        mp_obj_t o_out = MP_OBJ_NEW_SMALL_INT(arr[self->cur]);\n",
    "        self->cur += 1;\n",
    "        return o_out;\n",
    "    } else {\n",
    "        return MP_OBJ_STOP_ITERATION;\n",
    "    }\n",
    "}\n",
    "\n",
    "mp_obj_t mp_obj_new_itarray_iterator(mp_obj_t itarray, size_t cur, mp_obj_iter_buf_t *iter_buf) {\n",
    "    assert(sizeof(mp_obj_itarray_it_t) <= sizeof(mp_obj_iter_buf_t));\n",
    "    mp_obj_itarray_it_t *o = (mp_obj_itarray_it_t*)iter_buf;\n",
    "    o->base.type = &mp_type_polymorph_iter;\n",
    "    o->iternext = itarray_iternext;\n",
    "    o->itarray = itarray;\n",
    "    o->cur = cur;\n",
    "    return MP_OBJ_FROM_PTR(o);\n",
    "}"
   ]
  },
  {
   "cell_type": "code",
   "execution_count": null,
   "metadata": {
    "ExecuteTime": {
     "end_time": "2020-01-06T06:59:27.220087Z",
     "start_time": "2020-01-06T06:59:27.208918Z"
    }
   },
   "outputs": [],
   "source": [
    "%%makefile /makeiterable/makeiterable.c\n",
    "\n",
    "USERMODULES_DIR := $(USERMOD_DIR)\n",
    "\n",
    "# Add all C files to SRC_USERMOD.\n",
    "SRC_USERMOD += $(USERMODULES_DIR)/makeiterable.c\n",
    "\n",
    "CFLAGS_USERMOD += -I$(USERMODULES_DIR)"
   ]
  },
  {
   "cell_type": "code",
   "execution_count": null,
   "metadata": {
    "ExecuteTime": {
     "end_time": "2020-01-03T13:45:23.942096Z",
     "start_time": "2020-01-03T13:45:01.034256Z"
    }
   },
   "outputs": [],
   "source": [
    "!make clean\n",
    "!make USER_C_MODULES=../../../usermod/snippets CFLAGS_EXTRA=-DMODULE_MAKEITERABLE_ENABLED=1 all"
   ]
  },
  {
   "cell_type": "code",
   "execution_count": 39,
   "metadata": {
    "ExecuteTime": {
     "end_time": "2020-01-03T13:45:36.237368Z",
     "start_time": "2020-01-03T13:45:36.222242Z"
    }
   },
   "outputs": [
    {
     "name": "stdout",
     "output_type": "stream",
     "text": [
      "itarray: 0, 1, 4, 9, 16, 25, 36, 49, 64, 81, 100, 121, 144, 169, 196\n",
      "0th element: 0\n",
      "1st element: 1\n",
      "2nd element: 4\n",
      "3rd element: 9\n",
      "4th element: 16\n",
      "5th element: 25\n",
      "6th element: 36\n",
      "7th element: 49\n",
      "8th element: 64\n",
      "9th element: 81\n",
      "10th element: 100\n",
      "11th element: 121\n",
      "12th element: 144\n",
      "13th element: 169\n",
      "14th element: 196\n",
      "\n",
      "\n"
     ]
    }
   ],
   "source": [
    "%%micropython\n",
    "\n",
    "import makeiterable\n",
    "\n",
    "a = makeiterable.square(15)\n",
    "print(a)\n",
    "for j, i in enumerate(a):\n",
    "    if j == 1: print('%dst element: %d'%(j, i))\n",
    "    elif j == 2: print('%dnd element: %d'%(j, i))\n",
    "    elif j == 3: print('%drd element: %d'%(j, i))\n",
    "    else:\n",
    "        print('%dth element: %d'%(j, i))"
   ]
  },
  {
   "cell_type": "markdown",
   "metadata": {},
   "source": [
    "## Subscripts\n",
    "\n",
    "We now know, how we construct something that can be passed to a `for` loop. This is a good start. But iterables have other very useful properties. For instance, have you ever wondered, what actually happens in the following snippet?"
   ]
  },
  {
   "cell_type": "code",
   "execution_count": 29,
   "metadata": {
    "ExecuteTime": {
     "end_time": "2019-07-21T15:57:13.869133Z",
     "start_time": "2019-07-21T15:57:13.857378Z"
    }
   },
   "outputs": [
    {
     "data": {
      "text/plain": [
       "'p'"
      ]
     },
     "execution_count": 29,
     "metadata": {},
     "output_type": "execute_result"
    }
   ],
   "source": [
    "a = 'micropython'\n",
    "a[5]"
   ]
  },
  {
   "cell_type": "markdown",
   "metadata": {},
   "source": [
    "`a` is a string, therefore, an iterable. Where does the interpreter know from, that it has got to return `p`, when asked for `a[5]`? Or have you ever been curious to know, how the interpreter replaces `p` by `q`, if"
   ]
  },
  {
   "cell_type": "code",
   "execution_count": 31,
   "metadata": {
    "ExecuteTime": {
     "end_time": "2019-07-21T16:01:05.806314Z",
     "start_time": "2019-07-21T16:01:05.788953Z"
    }
   },
   "outputs": [
    {
     "data": {
      "text/plain": [
       "['m', 'i', 'c', 'r', 'o', 'q', 'y', 't', 'o', 'n']"
      ]
     },
     "execution_count": 31,
     "metadata": {},
     "output_type": "execute_result"
    }
   ],
   "source": [
    "a = [c for c in 'micropyton']\n",
    "a[5] = 'q'\n",
    "a"
   ]
  },
  {
   "cell_type": "markdown",
   "metadata": {},
   "source": [
    "is passed to it? If so, then it is your lucky day, because we are going to make our iterable class be able to deal with such requests.\n",
    "\n",
    "The code snippets above rely on a single special method, the subscription. In the C code of micropython, this method is called `.subscr`, and it should be assigned to in the class declaration, i.e., if we take `makeiterable.c` as our basis for the following discussion, then we would have to extend the `iterable_array_type` as \n",
    "\n",
    "```c\n",
    "const mp_obj_type_t iterable_array_type {\n",
    "    ...\n",
    "    .subscr = itarray_subscr\n",
    "}\n",
    "```\n",
    "where the signature of `itarray_subscr` has the form \n",
    "\n",
    "```c\n",
    "STATIC mp_obj_t itarray_subscr(mp_obj_t self_in, mp_obj_t index, mp_obj_t value)\n",
    "```\n",
    "If `.subscr` is not implemented, but you are daring enough to call \n",
    "\n",
    "```python\n",
    ">>> a[5]\n",
    "```\n",
    "all the same, then the interpreter is going to throw a `TypeError`:  \n",
    "\n",
    "```pytb\n",
    "Traceback (most recent call last):\n",
    "  File \"<stdin>\", line 1, in <module>\n",
    "TypeError: 'itarray' object isn't subscriptable\n",
    "```"
   ]
  },
  {
   "cell_type": "markdown",
   "metadata": {},
   "source": [
    "So, what happens in the method that we assigned in `iterable_array_type`? A possible scenario is given below: \n",
    "\n",
    "```c\n",
    "STATIC mp_obj_t subitarray_subscr(mp_obj_t self_in, mp_obj_t index, mp_obj_t value) {\n",
    "\tsubitarray_obj_t *self = MP_OBJ_TO_PTR(self_in);\n",
    "\tsize_t idx = mp_obj_get_int(index);\n",
    "\tif(self->len <= idx) {\n",
    "\t\tmp_raise_ValueError(\"index is out of range\");\n",
    "\t}\n",
    "    if (value == MP_OBJ_SENTINEL) { // simply return the value at index, no assignment \t\t\n",
    "\t\treturn MP_OBJ_NEW_SMALL_INT(self->elements[idx]);\n",
    "\t} else { // value was passed, replace the element at index\n",
    "\t\tself->elements[idx] = mp_obj_get_int(value);\n",
    "\t}\n",
    "\treturn mp_const_none;\n",
    "}\n",
    "```\n",
    "`subitarray_subscr` takes three arguments: the first is the instance on which the method is called, i.e., `self`. The second is the index, i.e., what stands in []. And finally, the third argument is the value. This is what we assign to the element at index `idx`, or, when we do not assign anything (i.e., when we *load* a value from the iterable), then `value` takes on a special value. If we have \n",
    "\n",
    "```python\n",
    ">>> a[5]\n",
    "```\n",
    "on the python console, then the interpreter will automatically assign `value = MP_OBJ_SENTINEL` (this is defined in `obj.h`), so that, though we did not explicitly set anything to it, we can still inspect `value`. This is what happens, when we evaluate `value == MP_OBJ_SENTINEL`: if this statement is true, then we query for `a[5]`. Note that we also implemented some very rudimentary error checking: we raise an `IndexError`, whenever the index is out of range. We do this by calling \n",
    "\n",
    "```c\n",
    "mp_raise_msg(&mp_type_IndexError, \"index is out of range\");\n",
    "```\n",
    "For a thorough discussion on how to raise exceptions see the Section [Error handling](#Error-handling). \n",
    "\n",
    "There is one more thing that we should notice: at the very beginning of the function, in the line\n",
    "\n",
    "```c\n",
    "size_t idx = mp_obj_get_int(index);\n",
    "```\n",
    "we call `mp_obj_get_int`. This means that any python object with an integer value is a valid argument, i.e., the following instruction would still work"
   ]
  },
  {
   "cell_type": "code",
   "execution_count": 53,
   "metadata": {
    "ExecuteTime": {
     "end_time": "2019-08-06T04:54:38.801366Z",
     "start_time": "2019-08-06T04:54:38.786908Z"
    }
   },
   "outputs": [
    {
     "name": "stdout",
     "output_type": "stream",
     "text": [
      "p\n",
      "\n",
      "\n"
     ]
    }
   ],
   "source": [
    "%%micropython\n",
    "\n",
    "a = 'micropython'\n",
    "b = 5\n",
    "print(a[b])"
   ]
  },
  {
   "cell_type": "markdown",
   "metadata": {},
   "source": [
    "For compiling, here is the complete code:"
   ]
  },
  {
   "cell_type": "code",
   "execution_count": 45,
   "metadata": {
    "ExecuteTime": {
     "end_time": "2020-01-03T13:48:51.756061Z",
     "start_time": "2020-01-03T13:48:51.748046Z"
    }
   },
   "outputs": [
    {
     "name": "stdout",
     "output_type": "stream",
     "text": [
      "written 4123 bytes to /subscriptiterable/subscriptiterable.c\n"
     ]
    }
   ],
   "source": [
    "%%ccode /subscriptiterable/subscriptiterable.c\n",
    "\n",
    "#include <stdlib.h>\n",
    "#include \"py/obj.h\"\n",
    "#include \"py/runtime.h\"\n",
    "\n",
    "typedef struct _subitarray_obj_t {\n",
    "    mp_obj_base_t base;\n",
    "    mp_fun_1_t iternext;\n",
    "    uint16_t *elements;\n",
    "    size_t len;\n",
    "} subitarray_obj_t;\n",
    "\n",
    "const mp_obj_type_t subiterable_array_type;\n",
    "mp_obj_t mp_obj_new_subitarray_iterator(mp_obj_t , size_t , mp_obj_iter_buf_t *);\n",
    "\n",
    "STATIC void subitarray_print(const mp_print_t *print, mp_obj_t self_in, mp_print_kind_t kind) {\n",
    "    (void)kind;\n",
    "    subitarray_obj_t *self = MP_OBJ_TO_PTR(self_in);\n",
    "    mp_print_str(print, \"subitarray: \");\n",
    "    uint16_t i;\n",
    "    for(i=0; i < self->len-1; i++) {\n",
    "        mp_obj_print_helper(print, mp_obj_new_int(self->elements[i]), PRINT_REPR);\n",
    "        mp_print_str(print, \", \");\n",
    "    }\n",
    "    mp_obj_print_helper(print, mp_obj_new_int(self->elements[i]), PRINT_REPR);\n",
    "}\n",
    "\n",
    "STATIC mp_obj_t subitarray_make_new(const mp_obj_type_t *type, size_t n_args, size_t n_kw, const mp_obj_t *args) {\n",
    "    mp_arg_check_num(n_args, n_kw, 1, 1, true);\n",
    "    subitarray_obj_t *self = m_new_obj(subitarray_obj_t);\n",
    "    self->base.type = &subiterable_array_type;\n",
    "    self->len = mp_obj_get_int(args[0]);\n",
    "    uint16_t *arr = malloc(self->len * sizeof(uint16_t));\n",
    "    for(uint16_t i=0; i < self->len; i++) {\n",
    "        arr[i] = i*i;\n",
    "    }\n",
    "    self->elements = arr;\n",
    "    return MP_OBJ_FROM_PTR(self);\n",
    "}\n",
    "\n",
    "STATIC mp_obj_t subitarray_getiter(mp_obj_t o_in, mp_obj_iter_buf_t *iter_buf) {\n",
    "    return mp_obj_new_subitarray_iterator(o_in, 0, iter_buf);\n",
    "}\n",
    "\n",
    "STATIC mp_obj_t subitarray_subscr(mp_obj_t self_in, mp_obj_t index, mp_obj_t value) {\n",
    "    subitarray_obj_t *self = MP_OBJ_TO_PTR(self_in);\n",
    "    size_t idx = mp_obj_get_int(index);\n",
    "    if(self->len <= idx) {\n",
    "        mp_raise_msg(&mp_type_IndexError, \"index is out of range\");\n",
    "    }\n",
    "    if (value == MP_OBJ_SENTINEL) { // simply return the value at index, no assignment\n",
    "        return MP_OBJ_NEW_SMALL_INT(self->elements[idx]);\n",
    "    } else { // value was passed, replace the element at index\n",
    "        self->elements[idx] = mp_obj_get_int(value);\n",
    "    }\n",
    "    return mp_const_none;\n",
    "}\n",
    "\n",
    "const mp_obj_type_t subiterable_array_type = {\n",
    "    { &mp_type_type },\n",
    "    .name = MP_QSTR_subitarray,\n",
    "    .print = subitarray_print,\n",
    "    .make_new = subitarray_make_new,\n",
    "    .getiter = subitarray_getiter,\n",
    "    .subscr = subitarray_subscr,\n",
    "};\n",
    "\n",
    "STATIC const mp_rom_map_elem_t subscriptiterable_module_globals_table[] = {\n",
    "    { MP_ROM_QSTR(MP_QSTR___name__), MP_ROM_QSTR(MP_QSTR_subscriptiterable) },\n",
    "    { MP_OBJ_NEW_QSTR(MP_QSTR_square), (mp_obj_t)&subiterable_array_type },\n",
    "};\n",
    "STATIC MP_DEFINE_CONST_DICT(subscriptiterable_module_globals, subscriptiterable_module_globals_table);\n",
    "\n",
    "const mp_obj_module_t subscriptiterable_user_cmodule = {\n",
    "    .base = { &mp_type_module },\n",
    "    .globals = (mp_obj_dict_t*)&subscriptiterable_module_globals,\n",
    "};\n",
    "\n",
    "MP_REGISTER_MODULE(MP_QSTR_subscriptiterable, subscriptiterable_user_cmodule, MODULE_SUBSCRIPTITERABLE_ENABLED);\n",
    "\n",
    "// itarray iterator\n",
    "typedef struct _mp_obj_subitarray_it_t {\n",
    "    mp_obj_base_t base;\n",
    "    mp_fun_1_t iternext;\n",
    "    mp_obj_t subitarray;\n",
    "    size_t cur;\n",
    "} mp_obj_subitarray_it_t;\n",
    "\n",
    "mp_obj_t subitarray_iternext(mp_obj_t self_in) {\n",
    "    mp_obj_subitarray_it_t *self = MP_OBJ_TO_PTR(self_in);\n",
    "    subitarray_obj_t *subitarray = MP_OBJ_TO_PTR(self->subitarray);\n",
    "    if (self->cur < subitarray->len) {\n",
    "        // read the current value\n",
    "        uint16_t *arr = subitarray->elements;\n",
    "        mp_obj_t o_out = MP_OBJ_NEW_SMALL_INT(arr[self->cur]);\n",
    "        self->cur += 1;\n",
    "        return o_out;\n",
    "    } else {\n",
    "        return MP_OBJ_STOP_ITERATION;\n",
    "    }\n",
    "}\n",
    "\n",
    "mp_obj_t mp_obj_new_subitarray_iterator(mp_obj_t subitarray, size_t cur, mp_obj_iter_buf_t *iter_buf) {\n",
    "    assert(sizeof(mp_obj_subitarray_it_t) <= sizeof(mp_obj_iter_buf_t));\n",
    "    mp_obj_subitarray_it_t *o = (mp_obj_subitarray_it_t*)iter_buf;\n",
    "    o->base.type = &mp_type_polymorph_iter;\n",
    "    o->iternext = subitarray_iternext;\n",
    "    o->subitarray = subitarray;\n",
    "    o->cur = cur;\n",
    "    return MP_OBJ_FROM_PTR(o);\n",
    "}"
   ]
  },
  {
   "cell_type": "code",
   "execution_count": null,
   "metadata": {
    "ExecuteTime": {
     "end_time": "2020-01-06T06:59:35.959457Z",
     "start_time": "2020-01-06T06:59:35.956039Z"
    }
   },
   "outputs": [],
   "source": [
    "%%makefile /subscriptiterable/subscriptiterable.c\n",
    "\n",
    "USERMODULES_DIR := $(USERMOD_DIR)\n",
    "\n",
    "# Add all C files to SRC_USERMOD.\n",
    "SRC_USERMOD += $(USERMODULES_DIR)/subscriptiterable.c\n",
    "\n",
    "CFLAGS_USERMOD += -I$(USERMODULES_DIR)"
   ]
  },
  {
   "cell_type": "code",
   "execution_count": null,
   "metadata": {
    "ExecuteTime": {
     "end_time": "2020-01-03T13:49:19.189260Z",
     "start_time": "2020-01-03T13:48:57.332230Z"
    }
   },
   "outputs": [],
   "source": [
    "!make clean\n",
    "!make USER_C_MODULES=../../../usermod/snippets CFLAGS_EXTRA=-DMODULE_SUBSCRIPTITERABLE_ENABLED=1 all"
   ]
  },
  {
   "cell_type": "code",
   "execution_count": 50,
   "metadata": {
    "ExecuteTime": {
     "end_time": "2020-01-03T13:50:11.704552Z",
     "start_time": "2020-01-03T13:50:11.690514Z"
    }
   },
   "outputs": [
    {
     "name": "stdout",
     "output_type": "stream",
     "text": [
      "subitarray: 0, 1, 4, 9, 16, 25, 36, 49, 64, 81, 100, 121, 144, 169, 196\n",
      "the fourth element is 9\n",
      "subitarray: 0, 1, 4, 9, 16, 25, 36, 49, 64, 81, 0, 121, 144, 169, 196\n",
      "\n",
      "\n"
     ]
    }
   ],
   "source": [
    "%%micropython\n",
    "\n",
    "import subscriptiterable\n",
    "a = subscriptiterable.square(15)\n",
    "print(a)\n",
    "print('the fourth element is %d'%a[3])\n",
    "a[10] = 0\n",
    "print(a)"
   ]
  },
  {
   "cell_type": "markdown",
   "metadata": {},
   "source": [
    "### Index reversing\n",
    "\n",
    "Now, the code above works for non-negative indices, but in python it is quite customary to have something like "
   ]
  },
  {
   "cell_type": "code",
   "execution_count": 39,
   "metadata": {
    "ExecuteTime": {
     "end_time": "2019-07-23T05:49:37.165092Z",
     "start_time": "2019-07-23T05:49:37.155671Z"
    }
   },
   "outputs": [
    {
     "data": {
      "text/plain": [
       "'o'"
      ]
     },
     "execution_count": 39,
     "metadata": {},
     "output_type": "execute_result"
    }
   ],
   "source": [
    "a = 'micropython'\n",
    "a[-2]"
   ]
  },
  {
   "cell_type": "markdown",
   "metadata": {},
   "source": [
    "which is equivalent to querying for the last but one element (second from the right) in the iterable. Knowing how long the iterable is (this is stored in `self->len`), it is a trivial matter to modify our code in such a way that it can return the values at negative indices. "
   ]
  },
  {
   "cell_type": "markdown",
   "metadata": {},
   "source": [
    "## Slicing\n",
    "\n",
    "In the previous two sections we have worked with single elements of an iterable. But python wouldn't be python without slices. Slices are index ranges specified in a `start:end:step` format. Taking our earlier example, we can print every second character in `micropython` by "
   ]
  },
  {
   "cell_type": "code",
   "execution_count": 37,
   "metadata": {
    "ExecuteTime": {
     "end_time": "2019-07-22T15:20:25.438731Z",
     "start_time": "2019-07-22T15:20:25.426064Z"
    }
   },
   "outputs": [
    {
     "data": {
      "text/plain": [
       "'mcoy'"
      ]
     },
     "execution_count": 37,
     "metadata": {},
     "output_type": "execute_result"
    }
   ],
   "source": [
    "a = 'micropython'\n",
    "a[0:8:2]"
   ]
  },
  {
   "cell_type": "markdown",
   "metadata": {},
   "source": [
    "This behaviour is also part of the `.subscr` special method. Let us implement it, shall we? In order to simplify the discussion, we will treat one case only: returning values, and we return a new instance of the array, if a slice was requested, while a single number, if we passed a single index. \n",
    "\n",
    "Since we want to return an array if the indices stem from a slice, we split our original `subscriptitarray_make_new` function, and separate those parts that reserve space for the array from those that do the assignments. \n",
    "\n",
    "It shouldn't come as a surprise that we have to modify the function that was hooked up to `.subscr`. Let us take a look at the following snippet:\n",
    "\n",
    "```c\n",
    "STATIC mp_obj_t sliceitarray_subscr(mp_obj_t self_in, mp_obj_t index, mp_obj_t value) {\n",
    "\tsliceitarray_obj_t *self = MP_OBJ_TO_PTR(self_in);\n",
    "    if (value == MP_OBJ_SENTINEL) { // simply return the values at index, no assignment\n",
    "\n",
    "#if MICROPY_PY_BUILTINS_SLICE\n",
    "        if (mp_obj_is_type(index, &mp_type_slice)) {\n",
    "            mp_bound_slice_t slice;\n",
    "            mp_seq_get_fast_slice_indexes(self->len, index, &slice);\n",
    "            uint16_t len = (slice.stop - slice.start) / slice.step;\n",
    "            sliceitarray_obj_t *res = create_new_sliceitarray(len);\n",
    "            for(size_t i=0; i < len; i++) {\n",
    "\t\t\t\tres->elements[i] = self->elements[slice.start+i*slice.step];\n",
    "\t\t\t}\n",
    "            return MP_OBJ_FROM_PTR(res);\n",
    "        }\n",
    "#endif\n",
    "\t\t// we have a single index, return a single number\n",
    "\t\tsize_t idx = mp_obj_get_int(index);\n",
    "\t\treturn MP_OBJ_NEW_SMALL_INT(self->elements[idx]);\n",
    "\t} else { // do not deal with assignment, bail out\n",
    "\t\treturn mp_const_none;\n",
    "\t}\n",
    "\treturn mp_const_none;\n",
    "}\n",
    "```"
   ]
  },
  {
   "cell_type": "markdown",
   "metadata": {},
   "source": [
    "As advertised, we treat only the case, when `value` is empty, i.e., it is equal to an `MP_OBJ_SENTINEL`. Now, there is no point in trying to read out the parameters of a slice, if the slice object is not even defined, is there? This is the case for the minimal ports. So, in order to prevent nasty things from happening, we insert the `#if/#endif` macro with the parameter `MICROPY_PY_BUILTINS_SLICE`. Provided that `MICROPY_PY_BUILTINS_SLICE` is defined, we inspect the index, and find out if it is a slice by calling \n",
    "\n",
    "```c\n",
    "mp_obj_is_type(index, &mp_type_slice)\n",
    "```\n",
    "\n",
    "If so, we attempt to load the slice parameters into the `slice` object with\n",
    "```c\n",
    "mp_seq_get_fast_slice_indexes(self->len, index, &slice)\n",
    "```\n",
    "The function `mp_seq_get_fast_slice_indexes` returns Boolean `true`, if the increment in the slice is 1, and `false` otherwise. For the goal that we are trying to pursue here, it doesn't matter what the step size is, so we don't care about the return value. But the main purpose of the function is actually something different: the function expands the `start:end:step` slice into a triplet, and it does so, even if one or two of the slice parameters are missing. So, `start::step`, `start::`, `:end:step` etc. will also work. In fact, this is why we have to pass the length of the array: `self->len` will be substituted, if the `:end:` parameter is missing. \n",
    "\n",
    "Equipped with the values of `slice.start`, `slice.stop`, and `slice.step`, we can determine the length of the new array, and assign the values in the `for` loop. "
   ]
  },
  {
   "cell_type": "code",
   "execution_count": 65,
   "metadata": {
    "ExecuteTime": {
     "end_time": "2020-01-03T14:06:49.642938Z",
     "start_time": "2020-01-03T14:06:49.636007Z"
    }
   },
   "outputs": [
    {
     "name": "stdout",
     "output_type": "stream",
     "text": [
      "written 4879 bytes to /sliceiterable/sliceiterable.c\n"
     ]
    }
   ],
   "source": [
    "%%ccode /sliceiterable/sliceiterable.c\n",
    "\n",
    "#include <stdlib.h>\n",
    "#include \"py/obj.h\"\n",
    "#include \"py/runtime.h\"\n",
    "\n",
    "typedef struct _sliceitarray_obj_t {\n",
    "    mp_obj_base_t base;\n",
    "    mp_fun_1_t iternext;\n",
    "    uint16_t *elements;\n",
    "    size_t len;\n",
    "} sliceitarray_obj_t;\n",
    "\n",
    "const mp_obj_type_t sliceiterable_array_type;\n",
    "mp_obj_t mp_obj_new_sliceitarray_iterator(mp_obj_t , size_t , mp_obj_iter_buf_t *);\n",
    "\n",
    "STATIC void sliceitarray_print(const mp_print_t *print, mp_obj_t self_in, mp_print_kind_t kind) {\n",
    "    (void)kind;\n",
    "    sliceitarray_obj_t *self = MP_OBJ_TO_PTR(self_in);\n",
    "    mp_print_str(print, \"sliceitarray: \");\n",
    "    uint16_t i;\n",
    "    for(i=0; i < self->len-1; i++) {\n",
    "        mp_obj_print_helper(print, mp_obj_new_int(self->elements[i]), PRINT_REPR);\n",
    "        mp_print_str(print, \", \");\n",
    "    }\n",
    "    mp_obj_print_helper(print, mp_obj_new_int(self->elements[i]), PRINT_REPR);\n",
    "}\n",
    "\n",
    "sliceitarray_obj_t *create_new_sliceitarray(uint16_t len) {\n",
    "    sliceitarray_obj_t *self = m_new_obj(sliceitarray_obj_t);\n",
    "    self->base.type = &sliceiterable_array_type;\n",
    "    self->len = len;\n",
    "    uint16_t *arr = malloc(self->len * sizeof(uint16_t));\n",
    "    self->elements = arr;\n",
    "    return self;\n",
    "}\n",
    "\n",
    "STATIC mp_obj_t sliceitarray_make_new(const mp_obj_type_t *type, size_t n_args, size_t n_kw, const mp_obj_t *args) {\n",
    "    mp_arg_check_num(n_args, n_kw, 1, 1, true);\n",
    "    sliceitarray_obj_t *self = create_new_sliceitarray(mp_obj_get_int(args[0]));\n",
    "    for(uint16_t i=0; i < self->len; i++) {\n",
    "        self->elements[i] = i*i;\n",
    "    }\n",
    "    return MP_OBJ_FROM_PTR(self);\n",
    "}\n",
    "\n",
    "STATIC mp_obj_t sliceitarray_getiter(mp_obj_t o_in, mp_obj_iter_buf_t *iter_buf) {\n",
    "    return mp_obj_new_sliceitarray_iterator(o_in, 0, iter_buf);\n",
    "}\n",
    "\n",
    "STATIC mp_obj_t sliceitarray_subscr(mp_obj_t self_in, mp_obj_t index, mp_obj_t value) {\n",
    "    sliceitarray_obj_t *self = MP_OBJ_TO_PTR(self_in);\n",
    "    if (value == MP_OBJ_SENTINEL) { // simply return the values at index, no assignment\n",
    "\n",
    "#if MICROPY_PY_BUILTINS_SLICE\n",
    "        if (mp_obj_is_type(index, &mp_type_slice)) {\n",
    "            mp_bound_slice_t slice;\n",
    "            mp_seq_get_fast_slice_indexes(self->len, index, &slice);\n",
    "            printf(\"start: %ld, stop: %ld, step: %ld\\n\", slice.start, slice.stop, slice.step);\n",
    "            uint16_t len = (slice.stop - slice.start + slice.step - 1) / slice.step;\n",
    "            sliceitarray_obj_t *res = create_new_sliceitarray(len);\n",
    "            for(size_t i=0; i < len; i++) {\n",
    "                res->elements[i] = self->elements[slice.start+i*slice.step];\n",
    "            }\n",
    "            return MP_OBJ_FROM_PTR(res);\n",
    "        }\n",
    "#endif\n",
    "        // we have a single index, return a single number\n",
    "        size_t idx = mp_obj_get_int(index);\n",
    "        return MP_OBJ_NEW_SMALL_INT(self->elements[idx]);\n",
    "    } else { // do not deal with assignment, bail out\n",
    "        return mp_const_none;\n",
    "    }\n",
    "    return mp_const_none;\n",
    "}\n",
    "\n",
    "const mp_obj_type_t sliceiterable_array_type = {\n",
    "    { &mp_type_type },\n",
    "    .name = MP_QSTR_sliceitarray,\n",
    "    .print = sliceitarray_print,\n",
    "    .make_new = sliceitarray_make_new,\n",
    "    .getiter = sliceitarray_getiter,\n",
    "    .subscr = sliceitarray_subscr,\n",
    "};\n",
    "\n",
    "STATIC const mp_rom_map_elem_t sliceiterable_module_globals_table[] = {\n",
    "    { MP_ROM_QSTR(MP_QSTR___name__), MP_ROM_QSTR(MP_QSTR_sliceiterable) },\n",
    "    { MP_OBJ_NEW_QSTR(MP_QSTR_square), (mp_obj_t)&sliceiterable_array_type },\n",
    "};\n",
    "STATIC MP_DEFINE_CONST_DICT(sliceiterable_module_globals, sliceiterable_module_globals_table);\n",
    "\n",
    "const mp_obj_module_t sliceiterable_user_cmodule = {\n",
    "    .base = { &mp_type_module },\n",
    "    .globals = (mp_obj_dict_t*)&sliceiterable_module_globals,\n",
    "};\n",
    "\n",
    "MP_REGISTER_MODULE(MP_QSTR_sliceiterable, sliceiterable_user_cmodule, MODULE_SLICEITERABLE_ENABLED);\n",
    "\n",
    "// itarray iterator\n",
    "typedef struct _mp_obj_sliceitarray_it_t {\n",
    "    mp_obj_base_t base;\n",
    "    mp_fun_1_t iternext;\n",
    "    mp_obj_t sliceitarray;\n",
    "    size_t cur;\n",
    "} mp_obj_sliceitarray_it_t;\n",
    "\n",
    "mp_obj_t sliceitarray_iternext(mp_obj_t self_in) {\n",
    "    mp_obj_sliceitarray_it_t *self = MP_OBJ_TO_PTR(self_in);\n",
    "    sliceitarray_obj_t *sliceitarray = MP_OBJ_TO_PTR(self->sliceitarray);\n",
    "    if (self->cur < sliceitarray->len) {\n",
    "        // read the current value\n",
    "        uint16_t *arr = sliceitarray->elements;\n",
    "        mp_obj_t o_out = MP_OBJ_NEW_SMALL_INT(arr[self->cur]);\n",
    "        self->cur += 1;\n",
    "        return o_out;\n",
    "    } else {\n",
    "        return MP_OBJ_STOP_ITERATION;\n",
    "    }\n",
    "}\n",
    "\n",
    "mp_obj_t mp_obj_new_sliceitarray_iterator(mp_obj_t sliceitarray, size_t cur, mp_obj_iter_buf_t *iter_buf) {\n",
    "    assert(sizeof(mp_obj_sliceitarray_it_t) <= sizeof(mp_obj_iter_buf_t));\n",
    "    mp_obj_sliceitarray_it_t *o = (mp_obj_sliceitarray_it_t*)iter_buf;\n",
    "    o->base.type = &mp_type_polymorph_iter;\n",
    "    o->iternext = sliceitarray_iternext;\n",
    "    o->sliceitarray = sliceitarray;\n",
    "    o->cur = cur;\n",
    "    return MP_OBJ_FROM_PTR(o);\n",
    "}"
   ]
  },
  {
   "cell_type": "code",
   "execution_count": null,
   "metadata": {
    "ExecuteTime": {
     "end_time": "2020-01-06T06:59:44.770575Z",
     "start_time": "2020-01-06T06:59:44.765251Z"
    }
   },
   "outputs": [],
   "source": [
    "%%makefile /sliceiterable/sliceiterable.c\n",
    "\n",
    "USERMODULES_DIR := $(USERMOD_DIR)\n",
    "\n",
    "# Add all C files to SRC_USERMOD.\n",
    "SRC_USERMOD += $(USERMODULES_DIR)/sliceiterable.c\n",
    "\n",
    "CFLAGS_USERMOD += -I$(USERMODULES_DIR)"
   ]
  },
  {
   "cell_type": "code",
   "execution_count": null,
   "metadata": {
    "ExecuteTime": {
     "end_time": "2020-01-03T14:06:52.923197Z",
     "start_time": "2020-01-03T14:06:51.914586Z"
    }
   },
   "outputs": [],
   "source": [
    "# !make clean\n",
    "!make USER_C_MODULES=../../../usermod/snippets CFLAGS_EXTRA=-DMODULE_SLICEITERABLE_ENABLED=1 all"
   ]
  },
  {
   "cell_type": "code",
   "execution_count": 67,
   "metadata": {
    "ExecuteTime": {
     "end_time": "2020-01-03T14:07:09.593746Z",
     "start_time": "2020-01-03T14:07:09.577928Z"
    }
   },
   "outputs": [
    {
     "name": "stdout",
     "output_type": "stream",
     "text": [
      "sliceitarray: 0, 1, 4, 9, 16, 25, 36, 49, 64, 81, 100, 121, 144, 169, 196, 225, 256, 289, 324, 361\n",
      "start: 1, stop: 15, step: 3\n",
      "sliceitarray: 1, 16, 49, 100, 169\n",
      "\n",
      "\n"
     ]
    }
   ],
   "source": [
    "%%micropython \n",
    "\n",
    "import sliceiterable\n",
    "a = sliceiterable.square(20)\n",
    "\n",
    "print(a)\n",
    "print(a[1:15:3])"
   ]
  },
  {
   "cell_type": "markdown",
   "metadata": {},
   "source": [
    "A word of caution is in order here: if the step size is negative, the array is reversed. This means that `slice.start` is larger than `slice.stop`, and when we calculate the length of the new array, we end up with a negative number. Just saying."
   ]
  },
  {
   "cell_type": "markdown",
   "metadata": {},
   "source": [
    "# Profiling\n",
    "\n",
    "There are times, when you might want to find out what resources (time and RAM) a particular operation requires. Not because you are nosy, but because the resources of a microcontroller are limited, therefore, if you are out of luck, the desired operation might not even fit within the constraints of the chip. In order to locate the bottleneck, you will need to do a bit of profiling. Or perhaps, a lot. This is what we are going to discuss now. \n",
    "\n",
    "Since you are not going to face serious difficulties when running micropython on a computer, profiling makes really sense only in the context of the microcontroller, so this might be a golden opportunity to brush up on how the firmware has to be compiled and uploaded. It is not by accident that we spent some time on this at the very beginning of this document. \n",
    "\n",
    "\n",
    "## Profiling in python\n",
    "\n",
    "### Measuring time\n",
    "\n",
    "If you are interested in the execution time of a complete function, you can measure it simply by making use of the python interpreter"
   ]
  },
  {
   "cell_type": "code",
   "execution_count": 120,
   "metadata": {
    "ExecuteTime": {
     "end_time": "2019-07-24T18:36:47.148963Z",
     "start_time": "2019-07-24T18:36:47.135635Z"
    }
   },
   "outputs": [
    {
     "name": "stdout",
     "output_type": "stream",
     "text": [
      "function test_function() took 27 us to run\n",
      "\n"
     ]
    }
   ],
   "source": [
    "%%micropython\n",
    "\n",
    "from utime import ticks_us, ticks_diff\n",
    "\n",
    "def test_function(n):\n",
    "    for i in range(n):\n",
    "        q = i*i*i\n",
    "    return q # return the last \n",
    "\n",
    "now = ticks_us()\n",
    "test_function(100)\n",
    "then = ticks_diff(ticks_us(), now)\n",
    "\n",
    "print(\"function test_function() took %d us to run\"%then)"
   ]
  },
  {
   "cell_type": "markdown",
   "metadata": {},
   "source": [
    "In fact, since our function is flanked by two other statements, this construct easily lends itself to a decorator implementation, as in (taken from http://docs.micropython.org/en/v1.9.3/pyboard/reference/speed_python.html)"
   ]
  },
  {
   "cell_type": "code",
   "execution_count": 107,
   "metadata": {
    "ExecuteTime": {
     "end_time": "2019-09-04T05:04:02.795721Z",
     "start_time": "2019-09-04T05:04:02.680149Z"
    }
   },
   "outputs": [
    {
     "name": "stdout",
     "output_type": "stream",
     "text": [
      "Function test_function time = 100.682ms\n",
      "\n",
      "\n"
     ]
    }
   ],
   "source": [
    "%%micropython\n",
    "\n",
    "import utime \n",
    "\n",
    "def timed_function(f, *args, **kwargs):\n",
    "    myname = str(f).split(' ')[1]\n",
    "    def new_func(*args, **kwargs):\n",
    "        t = utime.ticks_us()\n",
    "        result = f(*args, **kwargs)\n",
    "        delta = utime.ticks_diff(utime.ticks_us(), t)\n",
    "        print('Function {} time = {:6.3f}ms'.format(myname, delta/1000))\n",
    "        return result\n",
    "    return new_func\n",
    "\n",
    "@timed_function\n",
    "def test_function(n):\n",
    "    for i in range(n):\n",
    "        utime.sleep_ms(10)\n",
    "        \n",
    "test_function(10)"
   ]
  },
  {
   "cell_type": "markdown",
   "metadata": {},
   "source": [
    "(If you need an even better estimate, you can get the ticks twice, and yank `run_my_function()` in the second pass: in this way, you would get the cost of measuring time itself:\n",
    "\n",
    "```python\n",
    "\n",
    "from utime import ticks_us, ticks_diff\n",
    "\n",
    "now = ticks_us\n",
    "then = ticks_diff(ticks_us(), now)\n",
    "\n",
    "print(\"the time measurement took %d us\"%then)\n",
    "\n",
    "```\n",
    "Then you subtract the results of the second measurement from those of the first.)\n",
    "\n",
    "\n",
    "### The memory cost of a function\n",
    "\n",
    "While time is money, RAM is gold. We shouldn't pass up on that! The `micropython` has a very handy function for \n",
    "printing a pretty summary of the state of the RAM. You would call it like "
   ]
  },
  {
   "cell_type": "code",
   "execution_count": 88,
   "metadata": {
    "ExecuteTime": {
     "end_time": "2019-07-24T17:47:30.085499Z",
     "start_time": "2019-07-24T17:47:30.066998Z"
    }
   },
   "outputs": [
    {
     "name": "stdout",
     "output_type": "stream",
     "text": [
      "mem: total=2755, current=663, peak=2289\n",
      "stack: 928 out of 80000\n",
      "GC: total: 2072832, used: 704, free: 2072128\n",
      " No. of 1-blocks: 6, 2-blocks: 3, max blk sz: 6, max free sz: 64745\n",
      "None\n",
      "\n"
     ]
    }
   ],
   "source": [
    "%%micropython\n",
    "\n",
    "import micropython\n",
    "print(micropython.mem_info())"
   ]
  },
  {
   "cell_type": "markdown",
   "metadata": {},
   "source": [
    "If you call `mem_info()` after you executed your function, but before calling the garbage collector (if that is enabled, that is), then from the two reports, you can figure out how many bytes the function has eaten. "
   ]
  },
  {
   "cell_type": "markdown",
   "metadata": {},
   "source": [
    "## Profiling in C\n",
    "\n",
    "With the profiling method above, we can measure the cost of a complete function only, but we cannot say anything about individual instructions in the body. Execution time is definitely a significant issue, but even worse is the problem of RAM: it might happen that the function allocates a huge amount of memory, but cleans up properly before returning. Such a function could certainly wreak havoc, even if it is rather inocuous-looking from the outside. So, what do we do? We should probably just measure. It is not going to hurt. \n",
    "\n",
    "In the example below (`profiling.c`), I discuss both time and RAM measurements in a single module, because splitting them wouldn't be worth the trouble. The function, whose behaviour we inspect, does nothing, but calculate the length of a three-dimensional vector. With that, we can figure out, how much the assignment, and how much the actual calculation cost. "
   ]
  },
  {
   "cell_type": "code",
   "execution_count": 108,
   "metadata": {
    "ExecuteTime": {
     "end_time": "2019-09-04T05:06:46.073439Z",
     "start_time": "2019-09-04T05:06:45.969261Z"
    }
   },
   "outputs": [
    {
     "name": "stdout",
     "output_type": "stream",
     "text": [
      "written 1605 bytes to /profiling/profiling.c\n"
     ]
    }
   ],
   "source": [
    "%%ccode /profiling/profiling.c\n",
    "\n",
    "#include <math.h>\n",
    "#include <stdio.h>\n",
    "#include \"py/obj.h\"\n",
    "#include \"py/runtime.h\"\n",
    "#include \"mphalport.h\"  // needed for mp_hal_ticks_cpu()\n",
    "#include \"py/builtin.h\" // needed for mp_micropython_mem_info()\n",
    "\n",
    "STATIC mp_obj_t measure_cpu(mp_obj_t _x, mp_obj_t _y, mp_obj_t _z) {\n",
    "    size_t start, middle, end;\n",
    "    start = m_get_current_bytes_allocated();\n",
    "\n",
    "    float x = mp_obj_get_float(_x);\n",
    "    float y = mp_obj_get_float(_y);\n",
    "    float z = mp_obj_get_float(_z);\n",
    "    middle = m_get_current_bytes_allocated();\n",
    "\n",
    "    float hypo = sqrtf(x*x + y*y + z*z);\n",
    "    end = m_get_current_bytes_allocated();\n",
    "    mp_obj_t tuple[4];\n",
    "    tuple[0] = MP_OBJ_NEW_SMALL_INT(start);\n",
    "    tuple[1] = MP_OBJ_NEW_SMALL_INT(middle);\n",
    "    tuple[2] = MP_OBJ_NEW_SMALL_INT(end);\n",
    "    tuple[3] = mp_obj_new_float(hypo);\n",
    "    return mp_obj_new_tuple(4, tuple);\n",
    "}\n",
    "\n",
    "STATIC MP_DEFINE_CONST_FUN_OBJ_3(measure_cpu_obj, measure_cpu);\n",
    "\n",
    "STATIC const mp_rom_map_elem_t profiling_module_globals_table[] = {\n",
    "    { MP_ROM_QSTR(MP_QSTR___name__), MP_ROM_QSTR(MP_QSTR_profiling) },\n",
    "    { MP_ROM_QSTR(MP_QSTR_measure), MP_ROM_PTR(&measure_cpu_obj) },\n",
    "};\n",
    "STATIC MP_DEFINE_CONST_DICT(profiling_module_globals, profiling_module_globals_table);\n",
    "\n",
    "const mp_obj_module_t profiling_user_cmodule = {\n",
    "    .base = { &mp_type_module },\n",
    "    .globals = (mp_obj_dict_t*)&profiling_module_globals,\n",
    "};\n",
    "\n",
    "MP_REGISTER_MODULE(MP_QSTR_profiling, profiling_user_cmodule, MODULE_PROFILING_ENABLED);"
   ]
  },
  {
   "cell_type": "markdown",
   "metadata": {},
   "source": [
    "The above-mentioned `mem_info()` function of the micropython module can directly be called from C: after including the `builtin.h` header, we can issue `mp_micropython_mem_info(0, NULL);`, defined in `modmicropython.c`, which will print everything we need. Although its signature contains two arguments, a `size_t` and an `mp_obj_t` pointer to the arguments, the function does not seem to care about them, so we can pass `0`, and `NULL` without any meaning. \n",
    "\n",
    "The function `mp_micropython_mem_info()` doesn't carry out any measurements in itself, it is only for pretty printing. The stats are collected by `mp_micropython_mem_total()`, `mp_micropython_mem_current()`, and `mp_micropython_mem_peak()`. Unfortunately, these functions are all declared STATIC, so we cannot call them from outsize `modmicropython.c`. If you need a numeric representation of the state of the RAM, you can make use of the `m_get_total_bytes_allocated(void)`, `m_get_current_bytes_allocated(void)`, and `m_get_peak_bytes_allocated(void)` functions of `py/malloc.c`. All three return a `size_t`. \n",
    "\n",
    "With the help of these three functions, we could, e.g., return the size of the consumed memory to the micropython interpreter at the end of our calculations. This is what we do, when collecting the bits an pieces, and returning the 4-tuple at the end of the `measure_cpu` function."
   ]
  },
  {
   "cell_type": "code",
   "execution_count": null,
   "metadata": {
    "ExecuteTime": {
     "end_time": "2019-08-30T14:49:12.089232Z",
     "start_time": "2019-08-30T14:49:12.077806Z"
    }
   },
   "outputs": [],
   "source": [
    "%%makefile /profiling/profiling.c\n",
    "\n",
    "USERMODULES_DIR := $(USERMOD_DIR)\n",
    "\n",
    "# Add all C files to SRC_USERMOD.\n",
    "SRC_USERMOD += $(USERMODULES_DIR)/profiling.c\n",
    "\n",
    "# We can add our module folder to include paths if needed\n",
    "# This is not actually needed in this example.\n",
    "CFLAGS_USERMOD += -I$(USERMODULES_DIR)"
   ]
  },
  {
   "cell_type": "code",
   "execution_count": 44,
   "metadata": {
    "ExecuteTime": {
     "end_time": "2019-08-30T14:49:28.892377Z",
     "start_time": "2019-08-30T14:49:28.485265Z"
    }
   },
   "outputs": [],
   "source": [
    "!make clean\n",
    "!make USER_C_MODULES=../../../usermod/snippets CFLAGS_EXTRA=-DMODULE_PROFILING_ENABLED=1 all"
   ]
  },
  {
   "cell_type": "code",
   "execution_count": 45,
   "metadata": {
    "ExecuteTime": {
     "end_time": "2019-08-30T14:49:30.762960Z",
     "start_time": "2019-08-30T14:49:30.754410Z"
    }
   },
   "outputs": [
    {
     "name": "stdout",
     "output_type": "stream",
     "text": [
      "(672, 672, 672, 433.305908203125)\n",
      "\n",
      "\n"
     ]
    }
   ],
   "source": [
    "%%micropython \n",
    "\n",
    "import profiling\n",
    "print(profiling.measure(123, 233, 344))"
   ]
  },
  {
   "cell_type": "markdown",
   "metadata": {},
   "source": [
    "# Working with larger modules\n",
    "\n",
    "Once you add more and more functionality and functions to your module, it will become unmanageably, and it might make more sense to split the module into smaller components. We are going to hack our very first module, `simplefunction`, and factor out the function in it. "
   ]
  },
  {
   "cell_type": "markdown",
   "metadata": {},
   "source": [
    "Since we will want to refer to our functions in the module definition, we have to declare them in a header file. Let us call this file  `helper.h`. The functions declared therein operate on `micropython` types, so do not forget to include `py/obj.h`, and possibly `py/runtime.h`!"
   ]
  },
  {
   "cell_type": "code",
   "execution_count": 136,
   "metadata": {
    "ExecuteTime": {
     "end_time": "2019-08-07T05:14:06.691246Z",
     "start_time": "2019-08-07T05:14:06.682539Z"
    }
   },
   "outputs": [
    {
     "name": "stdout",
     "output_type": "stream",
     "text": [
      "written 342 bytes to /largemodule/helper.h\n"
     ]
    }
   ],
   "source": [
    "%%ccode /largemodule/helper.h\n",
    "\n",
    "#include \"py/obj.h\"\n",
    "#include \"py/runtime.h\"\n",
    "\n",
    "mp_obj_t largemodule_add_ints(mp_obj_t , mp_obj_t );\n",
    "mp_obj_t largemodule_subtract_ints(mp_obj_t , mp_obj_t );"
   ]
  },
  {
   "cell_type": "markdown",
   "metadata": {},
   "source": [
    "Next, in `helper.c`, we have to implement the functions. `helper.c` should also contain the declarations, i.e., `header.h` has to be included. "
   ]
  },
  {
   "cell_type": "code",
   "execution_count": 137,
   "metadata": {
    "ExecuteTime": {
     "end_time": "2019-08-07T05:14:08.705959Z",
     "start_time": "2019-08-07T05:14:08.700811Z"
    }
   },
   "outputs": [
    {
     "name": "stdout",
     "output_type": "stream",
     "text": [
      "written 553 bytes to /largemodule/helper.c\n"
     ]
    }
   ],
   "source": [
    "%%ccode /largemodule/helper.c\n",
    "\n",
    "#include \"helper.h\"\n",
    "\n",
    "mp_obj_t largemodule_add_ints(mp_obj_t a_obj, mp_obj_t b_obj) {\n",
    "    int a = mp_obj_get_int(a_obj);\n",
    "    int b = mp_obj_get_int(b_obj);\n",
    "    return mp_obj_new_int(a + b);\n",
    "}\n",
    "\n",
    "mp_obj_t largemodule_subtract_ints(mp_obj_t a_obj, mp_obj_t b_obj) {\n",
    "    int a = mp_obj_get_int(a_obj);\n",
    "    int b = mp_obj_get_int(b_obj);\n",
    "    return mp_obj_new_int(a - b);\n",
    "}"
   ]
  },
  {
   "cell_type": "markdown",
   "metadata": {},
   "source": [
    "Finally, in the module implementation, we include `helper.h`, and create the function objects with `MP_DEFINE_CONST_FUN_OBJ_2`, and its relatives. The rest of the code is equivalent to `simplefunction.c`, with the only exception of the module name. "
   ]
  },
  {
   "cell_type": "code",
   "execution_count": 139,
   "metadata": {
    "ExecuteTime": {
     "end_time": "2019-08-07T05:14:26.629440Z",
     "start_time": "2019-08-07T05:14:26.620475Z"
    }
   },
   "outputs": [
    {
     "name": "stdout",
     "output_type": "stream",
     "text": [
      "written 1078 bytes to /largemodule/largemodule.c\n"
     ]
    }
   ],
   "source": [
    "%%ccode /largemodule/largemodule.c\n",
    "\n",
    "#include \"py/obj.h\"\n",
    "#include \"py/runtime.h\"\n",
    "#include \"helper.h\"\n",
    "\n",
    "\n",
    "STATIC MP_DEFINE_CONST_FUN_OBJ_2(largemodule_add_ints_obj, largemodule_add_ints);\n",
    "STATIC MP_DEFINE_CONST_FUN_OBJ_2(largemodule_subtract_ints_obj, largemodule_subtract_ints);\n",
    "\n",
    "STATIC const mp_rom_map_elem_t largemodule_module_globals_table[] = {\n",
    "    { MP_ROM_QSTR(MP_QSTR___name__), MP_ROM_QSTR(MP_QSTR_largemodule) },\n",
    "    { MP_ROM_QSTR(MP_QSTR_add_ints), MP_ROM_PTR(&largemodule_add_ints_obj) },\n",
    "    { MP_ROM_QSTR(MP_QSTR_subtract_ints), MP_ROM_PTR(&largemodule_subtract_ints_obj) },    \n",
    "};\n",
    "STATIC MP_DEFINE_CONST_DICT(largemodule_module_globals, largemodule_module_globals_table);\n",
    "\n",
    "const mp_obj_module_t largemodule_user_cmodule = {\n",
    "    .base = { &mp_type_module },\n",
    "    .globals = (mp_obj_dict_t*)&largemodule_module_globals,\n",
    "};\n",
    "\n",
    "MP_REGISTER_MODULE(MP_QSTR_largemodule, largemodule_user_cmodule, MODULE_LARGEMODULE_ENABLED);"
   ]
  },
  {
   "cell_type": "markdown",
   "metadata": {},
   "source": [
    "Now, since we have multiple files in our module, we have to change the `makefile` accordingly, and before linking, we have to compile both `helper.c`, and `largemodule.c`, thus, we add `$(USERMODULES_DIR)/helper.c`, *and* `$(USERMODULES_DIR)/largemodule.c` to `SRC_USERMOD`. "
   ]
  },
  {
   "cell_type": "code",
   "execution_count": null,
   "metadata": {
    "ExecuteTime": {
     "end_time": "2020-01-06T07:00:24.443886Z",
     "start_time": "2020-01-06T07:00:24.440829Z"
    }
   },
   "outputs": [],
   "source": [
    "%%makefile /largemodule/largemodule.c\n",
    "\n",
    "USERMODULES_DIR := $(USERMOD_DIR)\n",
    "\n",
    "# Add all C files to SRC_USERMOD.\n",
    "SRC_USERMOD += $(USERMODULES_DIR)/helper.c\n",
    "SRC_USERMOD += $(USERMODULES_DIR)/largemodule.c\n",
    "\n",
    "CFLAGS_USERMOD += -I$(USERMODULES_DIR)"
   ]
  },
  {
   "cell_type": "code",
   "execution_count": null,
   "metadata": {
    "ExecuteTime": {
     "end_time": "2020-01-06T07:18:18.080048Z",
     "start_time": "2020-01-06T07:17:56.270720Z"
    }
   },
   "outputs": [],
   "source": [
    "!make clean\n",
    "!make USER_C_MODULES=../../../usermod/snippets CFLAGS_EXTRA=-DMODULE_LARGEMODULE_ENABLED=1 all"
   ]
  },
  {
   "cell_type": "code",
   "execution_count": 110,
   "metadata": {
    "ExecuteTime": {
     "end_time": "2020-01-06T07:18:32.481015Z",
     "start_time": "2020-01-06T07:18:32.468957Z"
    }
   },
   "outputs": [
    {
     "name": "stdout",
     "output_type": "stream",
     "text": [
      "3\n",
      "-1\n",
      "\n",
      "\n"
     ]
    }
   ],
   "source": [
    "%%micropython\n",
    "\n",
    "import largemodule\n",
    "\n",
    "print(largemodule.add_ints(1, 2))\n",
    "print(largemodule.subtract_ints(1, 2))"
   ]
  },
  {
   "cell_type": "markdown",
   "metadata": {},
   "source": [
    "# A word for the lazy"
   ]
  },
  {
   "cell_type": "markdown",
   "metadata": {},
   "source": [
    "If you still find that coding in C is too cumbersome, you can try your hand at a stub generator, e.g., https://github.com/pazzarpj/micropython-ustubby, or https://gitlab.com/oliver.robson/mpy-c-stub-gen . These tools allow you to convert your python code into C code. Basically, they will produce a boilerplate file, which you can flesh out with the C implementation of the required functionality. \n",
    "\n",
    "Looking at the usage examples, it is clear to me that one can save a lot of typing with these stub generators, but one will still need a basic understanding of how to work with the micropython C code."
   ]
  },
  {
   "cell_type": "markdown",
   "metadata": {},
   "source": [
    "# Outline of a math library \n",
    "\n",
    "As I indicated at the very beginning, my main motivation for writing this document was that I wanted to have a reasonable programming manual for the development of a math library. Since I couldn't find any, I have turned the problem around, and written up, what I have learnt by developing the library. But the question is, what this library should achieve in the first place?\n",
    "\n",
    "## Requirements\n",
    "\n",
    "Recently, I have run into some limitations with the micropython interpreter. These difficulties were related to both speed, and RAM. Therefore, I wanted to have something that can perform common mathematical calculations in a pythonic way, with little burden on the RAM, and possibly fast. On PCs, such a library is called `numpy`, and it felt only natural to me to implement those aspects of `numpy` that would find an applications in the context of data acquisition of moderate volume: after all, no matter what, the microcontroller is not going to produce or collect huge amounts of data, but it might still be useful to process these data within the constraints of the microcontroller. Due to the nature of the data that would be dealt with, one can work with a very limited subset of `numpy`.\n",
    "\n",
    "Keeping these considerations in mind, I set my goals as follows:\n",
    "\n",
    "* One should be able to vectorise standard mathematical functions, while these functions should still work for scalars, so \n",
    "\n",
    "```python\n",
    "a = 1.0\n",
    "sin(a)\n",
    "```\n",
    "and\n",
    "```python\n",
    "a = [1.0, 2.0, 3.0]\n",
    "sin(a)\n",
    "```\n",
    "should both be valid expressions.\n",
    "\n",
    "* There should be a binary container, (`ndarray`) for numbers that are results of vectorised operations, and one should be able to initialise a container by passing arbitrary `iterables` to a constructor (see ```sin([1, 2, 3])``` above).\n",
    "\n",
    "\n",
    "* The array should be iterable, so that we can turn it into lists, tuples, etc.\n",
    "\n",
    "* The relevant binary operations should work on arrays as in `numpy`, that is, e.g., \n",
    "\n",
    "```python\n",
    ">>> a = ndarray([1, 2, 3, 4])\n",
    ">>> (a + 1) + a*10\n",
    "```\n",
    "should evaluate to `ndarray([12, 23, 34, 45])`.\n",
    "\n",
    "* 2D arrays (matrices) could be useful (see below), thus, the above-mentioned container should be able to store its `shape`.\n",
    "\n",
    "* Having matrices, it is only natural to implement standard matrix operations (inversion, transposition etc.)\n",
    "\n",
    "* These numerical arrays and matrices should have a reasonable visual representation (pretty printing)\n",
    "\n",
    "* With the help of matrices, one can also think of polynomial fits to measurement data\n",
    "\n",
    "* There should be an FFT routine that can work with linear arrays. I do not think that 2D transforms would be very useful for data that come from the ADC of the microcontroller, but being able to extract frequency components of 1D signals would be an asset.\n",
    "\n",
    "And this is, how `ulab` was born. But that is another story, for another day https://github.com/v923z/micropython-ulab/."
   ]
  },
  {
   "cell_type": "code",
   "execution_count": null,
   "metadata": {},
   "outputs": [],
   "source": []
  }
 ],
 "metadata": {
  "kernelspec": {
   "display_name": "Python 3",
   "language": "python",
   "name": "python3"
  },
  "language_info": {
   "codemirror_mode": {
    "name": "ipython",
    "version": 3
   },
   "file_extension": ".py",
   "mimetype": "text/x-python",
   "name": "python",
   "nbconvert_exporter": "python",
   "pygments_lexer": "ipython3",
   "version": "3.7.4"
  },
  "toc": {
   "base_numbering": 1,
   "nav_menu": {},
   "number_sections": true,
   "sideBar": true,
   "skip_h1_title": false,
   "title_cell": "Table of Contents",
   "title_sidebar": "Contents",
   "toc_cell": false,
   "toc_position": {
    "height": "calc(100% - 180px)",
    "left": "10px",
    "top": "150px",
    "width": "319px"
   },
   "toc_section_display": true,
   "toc_window_display": true
  },
  "varInspector": {
   "cols": {
    "lenName": 16,
    "lenType": 16,
    "lenVar": 40
   },
   "kernels_config": {
    "python": {
     "delete_cmd_postfix": "",
     "delete_cmd_prefix": "del ",
     "library": "var_list.py",
     "varRefreshCmd": "print(var_dic_list())"
    },
    "r": {
     "delete_cmd_postfix": ") ",
     "delete_cmd_prefix": "rm(",
     "library": "var_list.r",
     "varRefreshCmd": "cat(var_dic_list()) "
    }
   },
   "types_to_exclude": [
    "module",
    "function",
    "builtin_function_or_method",
    "instance",
    "_Feature"
   ],
   "window_display": false
  }
 },
 "nbformat": 4,
 "nbformat_minor": 2
}
